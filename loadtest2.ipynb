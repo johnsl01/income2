{
  "nbformat": 4,
  "nbformat_minor": 0,
  "metadata": {
    "colab": {
      "name": "loadtest2.ipynb",
      "provenance": [],
      "include_colab_link": true
    },
    "kernelspec": {
      "name": "python3",
      "display_name": "Python 3"
    }
  },
  "cells": [
    {
      "cell_type": "markdown",
      "metadata": {
        "id": "view-in-github",
        "colab_type": "text"
      },
      "source": [
        "<a href=\"https://colab.research.google.com/github/johnsl01/income2/blob/master/loadtest2.ipynb\" target=\"_parent\"><img src=\"https://colab.research.google.com/assets/colab-badge.svg\" alt=\"Open In Colab\"/></a>"
      ]
    },
    {
      "cell_type": "code",
      "metadata": {
        "id": "HiWAmyw5t-Dr",
        "colab_type": "code",
        "colab": {}
      },
      "source": [
        "todo = \"deal with non numeric columns amd the missing data \"\n",
        "\n",
        "print (todo)"
      ],
      "execution_count": 0,
      "outputs": []
    },
    {
      "cell_type": "code",
      "metadata": {
        "id": "GYtxV4WcsVHe",
        "colab_type": "code",
        "colab": {}
      },
      "source": [
        "print ('imports')\n",
        "\n",
        "from datetime import datetime as dt\n",
        "\n",
        "import pandas as pd\n",
        "import numpy as np\n",
        "\n",
        "print(dt.now())"
      ],
      "execution_count": 0,
      "outputs": []
    },
    {
      "cell_type": "code",
      "metadata": {
        "id": "3zy_Aii8cz8M",
        "colab_type": "code",
        "colab": {}
      },
      "source": [
        "print ('drive access')\n",
        "\n",
        "from google.colab import drive\n",
        "# drive.mount('/content/gdrive')\n",
        "!ls '/content/gdrive/My Drive/income'\n",
        "\n",
        "print(dt.now())"
      ],
      "execution_count": 0,
      "outputs": []
    },
    {
      "cell_type": "code",
      "metadata": {
        "id": "vcetgwSpe6re",
        "colab_type": "code",
        "colab": {}
      },
      "source": [
        "print(dt.now())"
      ],
      "execution_count": 0,
      "outputs": []
    },
    {
      "cell_type": "code",
      "metadata": {
        "id": "3L8_4LYEgaOo",
        "colab_type": "code",
        "colab": {}
      },
      "source": [
        "print ('data loads')\n",
        "\n",
        "print (\"train\")\n",
        "print(dt.now())\n",
        "training_path = \"/content/gdrive/My Drive/income/tcd-ml-1920-group-income-train.csv\"\n",
        "# print (\"nrows set to 100\")\n",
        "# train_df = pd.read_csv(training_path, nrows=10000)\n",
        "train_df = pd.read_csv(training_path)\n",
        "\n",
        "print (\"test\")\n",
        "print(dt.now())\n",
        "test_path = \"/content/gdrive/My Drive/income/tcd-ml-1920-group-income-test.csv\"\n",
        "# test_df = pd.read_csv(test_path, nrows=10000)\n",
        "test_df = pd.read_csv(test_path)\n",
        "\n",
        "print(dt.now())"
      ],
      "execution_count": 0,
      "outputs": []
    },
    {
      "cell_type": "code",
      "metadata": {
        "id": "UZhON4EZuQvP",
        "colab_type": "code",
        "colab": {}
      },
      "source": [
        "print (train_df.shape)\n",
        "print (test_df.shape)\n",
        "\n",
        "print(dt.now())"
      ],
      "execution_count": 0,
      "outputs": []
    },
    {
      "cell_type": "code",
      "metadata": {
        "id": "2GjjmOk9_Ekf",
        "colab_type": "code",
        "colab": {}
      },
      "source": [
        "print (train_df.columns)\n",
        "print (test_df.columns)"
      ],
      "execution_count": 0,
      "outputs": []
    },
    {
      "cell_type": "code",
      "metadata": {
        "id": "5-YMBOVjLtdw",
        "colab_type": "code",
        "colab": {}
      },
      "source": [
        "###############################################\n",
        "#@title           Column Renames              #\n",
        "###############################################\n",
        "\n",
        "\n",
        "# dont like the col names - much easier with simple strings with no spaces.\n",
        "train_df.rename(columns = {\"Year of Record\" : \"Year\",\n",
        "                           \"Housing Situation\" : \"Housing\",\n",
        "                           \"Crime Level in the City of Employement\" : \"CrimeLevel\",\n",
        "                           \"Work Experience in Current Job [years]\" : \"WorkExp\",\n",
        "                           \"Satisfation with employer\" : \"Satisfaction\",\n",
        "                           \"Size of City\" : \"CitySize\",\n",
        "                           \"University Degree\" : \"Degree\",\n",
        "                           \"Wears Glasses\" : \"Glasses\",\n",
        "                           \"Hair Color\" : \"Hair\",\n",
        "                           \"Body Height [cm]\" : \"Height\",\n",
        "                           \"Yearly Income in addition to Salary (e.g. Rental Income)\" : \"AdditionalIncome\",\n",
        "                           \"Total Yearly Income [EUR]\" : \"Income\"},\n",
        "                  inplace = True)\n",
        "\n",
        "test_df.rename( columns = {\"Year of Record\" : \"Year\",\n",
        "                           \"Housing Situation\" : \"Housing\",\n",
        "                           \"Crime Level in the City of Employement\" : \"CrimeLevel\",\n",
        "                           \"Work Experience in Current Job [years]\" : \"WorkExp\",\n",
        "                           \"Satisfation with employer\" : \"Satisfaction\",\n",
        "                           \"Size of City\" : \"CitySize\",\n",
        "                           \"University Degree\" : \"Degree\",\n",
        "                           \"Wears Glasses\" : \"Glasses\",\n",
        "                           \"Hair Color\" : \"Hair\",\n",
        "                           \"Body Height [cm]\" : \"Height\",\n",
        "                           \"Yearly Income in addition to Salary (e.g. Rental Income)\" : \"AdditionalIncome\",\n",
        "                           \"Total Yearly Income [EUR]\" : \"Income\"},\n",
        "                  inplace = True)"
      ],
      "execution_count": 0,
      "outputs": []
    },
    {
      "cell_type": "code",
      "metadata": {
        "id": "DzXC-1Z7Nl_D",
        "colab_type": "code",
        "colab": {}
      },
      "source": [
        "print (train_df.columns)\n",
        "print (test_df.columns)"
      ],
      "execution_count": 0,
      "outputs": []
    },
    {
      "cell_type": "code",
      "metadata": {
        "id": "qIGdRnOp-Ane",
        "colab_type": "code",
        "colab": {}
      },
      "source": [
        "print(train_df.head())"
      ],
      "execution_count": 0,
      "outputs": []
    },
    {
      "cell_type": "code",
      "metadata": {
        "id": "lb0r7wSr-VBW",
        "colab_type": "code",
        "colab": {}
      },
      "source": [
        "train_df.describe()\n",
        "train_df[[\"Instance\", \"Year\", \"CrimeLevel\", \"Age\", \"CitySize\", \"Glasses\", \"Height\", \"Income\"]].describe()"
      ],
      "execution_count": 0,
      "outputs": []
    },
    {
      "cell_type": "code",
      "metadata": {
        "id": "w3HcKA_v-lFH",
        "colab_type": "code",
        "colab": {}
      },
      "source": [
        "train_df[['Satisfaction','Gender','Country','Profession','Degree','Hair','AdditionalIncome']].describe()"
      ],
      "execution_count": 0,
      "outputs": []
    },
    {
      "cell_type": "code",
      "metadata": {
        "id": "kmKX36ckZORr",
        "colab_type": "code",
        "colab": {}
      },
      "source": [
        "train_df[['WorkExp']].describe()"
      ],
      "execution_count": 0,
      "outputs": []
    },
    {
      "cell_type": "code",
      "metadata": {
        "id": "XVE_wKplbudB",
        "colab_type": "code",
        "colab": {}
      },
      "source": [
        "train_df[['Housing']].describe()"
      ],
      "execution_count": 0,
      "outputs": []
    },
    {
      "cell_type": "code",
      "metadata": {
        "id": "93yQSIRzcWeW",
        "colab_type": "code",
        "colab": {}
      },
      "source": [
        "print('checking pearson and spearman corellations') \n",
        "\n",
        "from scipy.stats import pearsonr\n",
        "from scipy.stats import spearmanr\n",
        "\n",
        "x = np.array([1,2,3,4,5])\n",
        "y0 = np.array([1,1.4,1.7,2,2.1]) # aproximate roots\n",
        "y1 = np.array([2,4.2,6,7,10]) # aproximately linear\n",
        "y2 = np.array([0.9,4.1, 9.5, 17, 27]) # aproximate squares\n",
        "y3 = np.array([0.9,8.1, 27.5, 68, 133]) # aproximate cubes\n",
        "\n",
        "print (pearsonr(x,y0), spearmanr(x,y0))\n",
        "print (pearsonr(x,y1), spearmanr(x,y1))\n",
        "print (pearsonr(x,y2), spearmanr(x,y2))\n",
        "print (pearsonr(x,y3), spearmanr(x,y3))"
      ],
      "execution_count": 0,
      "outputs": []
    },
    {
      "cell_type": "code",
      "metadata": {
        "id": "f9EUoA0yrcAk",
        "colab_type": "code",
        "colab": {}
      },
      "source": [
        "print (\"run pearson and spearman analysis for our full numeric columns against the income result\")\n",
        "print (\"pearson test for linear correlation - spearman for monotonic corelation (which may not be linear) \\n\")\n",
        "\n",
        "# 'Instance', 'Year', 'Housing', 'CrimeLevel', 'WorkExp', 'Satisfaction',\n",
        "# 'Gender', 'Age', 'Country', 'CitySize', 'Profession', 'Degree',\n",
        "# 'Glasses', 'Hair', 'Height', 'AdditionalIncome', 'Income'\n",
        "\n",
        "print (\" 0 Instance : \",\n",
        "       pearsonr(train_df[ 'Instance'], train_df['Income']),\n",
        "       spearmanr(train_df[ 'Instance'], train_df['Income']),\n",
        "       \"  -  quite a high, but somewhat non linear corelation. Why ? \\n\")\n",
        "\n",
        "print (\" 1 Year has missing data. \\n\")\n",
        "# print (\"Year : \", pearsonr(train_df[ 'Year'], train_df['Income']))\n",
        "\n",
        "print (\" 2 Housing is categorical incl some numerical. \\n\")\n",
        "\n",
        "print (\" 3 CrimeLevel : \",\n",
        "       pearsonr(train_df[ 'CrimeLevel'], train_df['Income']),\n",
        "       spearmanr(train_df[ 'CrimeLevel'], train_df['Income']),\n",
        "       \"  -  Very little corelation. \\n\")\n",
        "\n",
        "print (\" 4 Age: \",\n",
        "       pearsonr(train_df[ 'Age'], train_df['Income']),\n",
        "       spearmanr(train_df[ 'Age'], train_df['Income']),\n",
        "       \"  -  Very little corelation. \\n\")\n",
        "\n",
        "print (\" 5 WorkExp is categorical incl some numerical. \\n\")\n",
        "\n",
        "print (\" 6 Satisfaction is categorical. \\n\")\n",
        "\n",
        "print (\" 7 Gender is categorical. \\n\")\n",
        "\n",
        "print (\" 8 Country is categorical. \\n\")\n",
        "\n",
        "print (\" 9 CitySize : \",\n",
        "       pearsonr(train_df[ 'CitySize'], train_df['Income']),\n",
        "       spearmanr(train_df[ 'CitySize'], train_df['Income']),\n",
        "       \"  -  Slight correlation - but not linear. \\n\")\n",
        "\n",
        "print (\"10 Profession is categorical. \\n\")\n",
        "\n",
        "print (\"11 Degree is categorical. \\n\")\n",
        "\n",
        "print (\"12 Glasses : \",\n",
        "       pearsonr(train_df[ 'Glasses'], train_df['Income']),\n",
        "       spearmanr(train_df[ 'Glasses'], train_df['Income']),\n",
        "       \"  -  No correlation - drop the column it's just noise. \\n\")\n",
        "\n",
        "print (\"13 Hair is categorical. \\n\")\n",
        "\n",
        "print (\"14 Height : \",\n",
        "       pearsonr(train_df[ 'Height'], train_df['Income']),\n",
        "       spearmanr(train_df[ 'Height'], train_df['Income']),\n",
        "       \"  -  Almost no correlation - drop the column it's just noise. \\n\")\n",
        "\n",
        "print (\"15 AdditionalIncome is categorical incl some numerical. \\n\")\n",
        "\n",
        "print (\"16 Income : \",\n",
        "       pearsonr(train_df[ 'Income'], train_df['Income']),\n",
        "       spearmanr(train_df[ 'Income'], train_df['Income']),\n",
        "       \"  -  perfect correlation - just to test - it had better be! \\n\")"
      ],
      "execution_count": 0,
      "outputs": []
    },
    {
      "cell_type": "code",
      "metadata": {
        "id": "1hP5zdn0oNOC",
        "colab_type": "code",
        "colab": {}
      },
      "source": [
        "# so go through the remaining columns - decide what to do with them \n",
        "# and then test the correlation between the treated value and the income\n",
        "\n"
      ],
      "execution_count": 0,
      "outputs": []
    },
    {
      "cell_type": "code",
      "metadata": {
        "id": "0Dzjo4ytopWh",
        "colab_type": "code",
        "colab": {}
      },
      "source": [
        "# Year \n",
        "\n",
        "# missing data but otherwise numeric between 1940 and 2019 \n",
        "\n",
        "# lets fill with an out of range value and chart it \n",
        "# then look at teh charts and correlations and decide on a strategy \n",
        "\n",
        "# done - fill with rounded mean 1979.0 (1979)\n",
        "\n",
        "train_df.Year.fillna(1979.0, inplace=True)\n",
        "\n",
        "train_df['Year'].describe()\n"
      ],
      "execution_count": 0,
      "outputs": []
    },
    {
      "cell_type": "code",
      "metadata": {
        "id": "VMsNZjEhrXWB",
        "colab_type": "code",
        "colab": {}
      },
      "source": [
        "train_df['Year'].hist(bins=80)"
      ],
      "execution_count": 0,
      "outputs": []
    },
    {
      "cell_type": "code",
      "metadata": {
        "id": "Tl9G6X9KrxNv",
        "colab_type": "code",
        "colab": {}
      },
      "source": [
        "print (\" 1 Year : \",\n",
        "       pearsonr(train_df[ 'Year'], train_df['Income']),\n",
        "       spearmanr(train_df[ 'Year'], train_df['Income']),\n",
        "       \"  -  Good correlation - almost the same as Instance - slightly non linear. \\n\")\n",
        "\n",
        "# 1 Year :  (0.6310504764919517, 0.0) SpearmanrResult(correlation=0.8495098504454566, pvalue=0.0) - 1939 fillna\n",
        "# 1 Year :  (0.6317759175887114, 0.0) SpearmanrResult(correlation=0.8503274082842994, pvalue=0.0) - 2020 fillna\n",
        "# 1 Year :  (0.6353301585949168, 0.0) SpearmanrResult(correlation=0.854775189253737,  pvalue=0.0) - 1979.0 fillna ==> use this "
      ],
      "execution_count": 0,
      "outputs": []
    },
    {
      "cell_type": "code",
      "metadata": {
        "id": "Zl735YK2t5By",
        "colab_type": "code",
        "colab": {}
      },
      "source": [
        "# Housing\n",
        "\n",
        "print( train_df.Housing.unique() )\n",
        "\n",
        "print ( test_df.Housing.unique() )"
      ],
      "execution_count": 0,
      "outputs": []
    },
    {
      "cell_type": "code",
      "metadata": {
        "id": "UxcmeU_luuxR",
        "colab_type": "code",
        "colab": {}
      },
      "source": [
        "housingcount = 0\n",
        "\n",
        "for i in train_df.Housing.unique() :\n",
        "  print (train_df.loc[train_df.Housing == i].Income.mean(),\n",
        "         train_df.loc[train_df.Housing == i].Income.std(),\n",
        "         train_df.loc[train_df.Housing == i].Instance.count(),\n",
        "         train_df.loc[train_df.Housing == i].Income.max(),\n",
        "         train_df.loc[train_df.Housing == i].Income.min(),\n",
        "         \" ---- \", i)\n",
        "  housingcount += train_df.loc[train_df.Housing == i].Instance.count()\n",
        "print(housingcount)\n",
        "\n",
        "housingcounttest = 0\n",
        "\n",
        "for i in test_df.Housing.unique() :\n",
        "  print (test_df.loc[test_df.Housing == i].Instance.count(),       \n",
        "         \" ---- \", i)\n",
        "  housingcounttest += test_df.loc[test_df.Housing == i].Instance.count()\n",
        "print(housingcounttest)\n",
        "\n",
        "# use mean encoding - may adjust to a smoothed mean or James-Stein later\n",
        "\n",
        "#build a map and then use it \n",
        "mean_encode = train_df.groupby('Housing')['Income'].mean()\n",
        "print (mean_encode)\n",
        "\n",
        "train_df.loc[:, 'HousingEnc'] = train_df['Housing'].map(mean_encode)\n",
        "\n",
        "test_df.loc[:, 'HousingEnc'] = test_df['Housing'].map(mean_encode)\n",
        "\n",
        "print (train_df.columns)\n",
        "print (test_df.columns)\n",
        "\n",
        "print (\" 17 HousingEnc : \",\n",
        "       pearsonr(train_df[ 'HousingEnc'], train_df['Income']),\n",
        "       spearmanr(train_df[ 'HousingEnc'], train_df['Income']),\n",
        "       \"  -  good correlation - slightly non linear. \\n\")"
      ],
      "execution_count": 0,
      "outputs": []
    }
  ]
}