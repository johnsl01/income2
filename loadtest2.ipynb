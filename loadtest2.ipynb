{
  "nbformat": 4,
  "nbformat_minor": 0,
  "metadata": {
    "colab": {
      "name": "Untitled3.ipynb",
      "provenance": [],
      "include_colab_link": true
    },
    "kernelspec": {
      "name": "python3",
      "display_name": "Python 3"
    }
  },
  "cells": [
    {
      "cell_type": "markdown",
      "metadata": {
        "id": "view-in-github",
        "colab_type": "text"
      },
      "source": [
        "<a href=\"https://colab.research.google.com/github/johnsl01/income2/blob/master/loadtest2.ipynb\" target=\"_parent\"><img src=\"https://colab.research.google.com/assets/colab-badge.svg\" alt=\"Open In Colab\"/></a>"
      ]
    },
    {
      "cell_type": "code",
      "metadata": {
        "id": "GYtxV4WcsVHe",
        "colab_type": "code",
        "colab": {
          "base_uri": "https://localhost:8080/",
          "height": 51
        },
        "outputId": "8d6d0d47-6f0b-45a4-8ed3-32927a1217d4"
      },
      "source": [
        "print ('imports')\n",
        "\n",
        "from datetime import datetime as dt\n",
        "\n",
        "import pandas as pd\n",
        "import numpy as np\n",
        "\n",
        "print(dt.now())"
      ],
      "execution_count": 6,
      "outputs": [
        {
          "output_type": "stream",
          "text": [
            "imports\n",
            "2019-11-18 08:47:21.474412\n"
          ],
          "name": "stdout"
        }
      ]
    },
    {
      "cell_type": "code",
      "metadata": {
        "id": "3zy_Aii8cz8M",
        "colab_type": "code",
        "outputId": "a14968de-cd63-4402-e971-0a3ba8220d92",
        "colab": {
          "base_uri": "https://localhost:8080/",
          "height": 68
        }
      },
      "source": [
        "print ('drive access')\n",
        "\n",
        "from google.colab import drive\n",
        "# drive.mount('/content/gdrive')\n",
        "!ls '/content/gdrive/My Drive/income'\n",
        "\n",
        "print(dt.now())"
      ],
      "execution_count": 7,
      "outputs": [
        {
          "output_type": "stream",
          "text": [
            "drive access\n",
            "tcd-ml-1920-group-income-test.csv  tcd-ml-1920-group-income-train.csv\n",
            "2019-11-18 08:47:26.439748\n"
          ],
          "name": "stdout"
        }
      ]
    },
    {
      "cell_type": "code",
      "metadata": {
        "id": "vcetgwSpe6re",
        "colab_type": "code",
        "colab": {}
      },
      "source": [
        "print(dt.now())"
      ],
      "execution_count": 0,
      "outputs": []
    },
    {
      "cell_type": "code",
      "metadata": {
        "id": "3L8_4LYEgaOo",
        "colab_type": "code",
        "outputId": "5e4357e6-ac37-416b-c0b7-62df3a74b04f",
        "colab": {
          "base_uri": "https://localhost:8080/",
          "height": 187
        }
      },
      "source": [
        "print ('data loads')\n",
        "\n",
        "print (\"train\")\n",
        "print(dt.now())\n",
        "training_path = \"/content/gdrive/My Drive/income/tcd-ml-1920-group-income-train.csv\"\n",
        "train_df = pd.read_csv(training_path)\n",
        "\n",
        "print (\"test\")\n",
        "print(dt.now())\n",
        "test_path = \"/content/gdrive/My Drive/income/tcd-ml-1920-group-income-test.csv\"\n",
        "test_df = pd.read_csv(test_path)\n",
        "\n",
        "print(dt.now())"
      ],
      "execution_count": 9,
      "outputs": [
        {
          "output_type": "stream",
          "text": [
            "data loads\n",
            "train\n",
            "2019-11-18 08:49:21.172718\n"
          ],
          "name": "stdout"
        },
        {
          "output_type": "stream",
          "text": [
            "/usr/local/lib/python3.6/dist-packages/IPython/core/interactiveshell.py:2718: DtypeWarning: Columns (2,4) have mixed types. Specify dtype option on import or set low_memory=False.\n",
            "  interactivity=interactivity, compiler=compiler, result=result)\n"
          ],
          "name": "stderr"
        },
        {
          "output_type": "stream",
          "text": [
            "test\n",
            "2019-11-18 08:49:24.028952\n",
            "2019-11-18 08:49:25.231107\n"
          ],
          "name": "stdout"
        },
        {
          "output_type": "stream",
          "text": [
            "/usr/local/lib/python3.6/dist-packages/IPython/core/interactiveshell.py:2718: DtypeWarning: Columns (4) have mixed types. Specify dtype option on import or set low_memory=False.\n",
            "  interactivity=interactivity, compiler=compiler, result=result)\n"
          ],
          "name": "stderr"
        }
      ]
    }
  ]
}