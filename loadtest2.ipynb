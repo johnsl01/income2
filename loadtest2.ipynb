{
  "nbformat": 4,
  "nbformat_minor": 0,
  "metadata": {
    "colab": {
      "name": "loadtest2.ipynb",
      "provenance": [],
      "include_colab_link": true
    },
    "kernelspec": {
      "name": "python3",
      "display_name": "Python 3"
    }
  },
  "cells": [
    {
      "cell_type": "markdown",
      "metadata": {
        "id": "view-in-github",
        "colab_type": "text"
      },
      "source": [
        "<a href=\"https://colab.research.google.com/github/johnsl01/income2/blob/master/loadtest2.ipynb\" target=\"_parent\"><img src=\"https://colab.research.google.com/assets/colab-badge.svg\" alt=\"Open In Colab\"/></a>"
      ]
    },
    {
      "cell_type": "code",
      "metadata": {
        "id": "HiWAmyw5t-Dr",
        "colab_type": "code",
        "colab": {}
      },
      "source": [
        "todo = \" \"\n",
        "\n",
        "print (todo)"
      ],
      "execution_count": 0,
      "outputs": []
    },
    {
      "cell_type": "code",
      "metadata": {
        "id": "GYtxV4WcsVHe",
        "colab_type": "code",
        "colab": {}
      },
      "source": [
        "print ('imports')\n",
        "\n",
        "from datetime import datetime as dt\n",
        "\n",
        "import pandas as pd\n",
        "import numpy as np\n",
        "\n",
        "print(dt.now())"
      ],
      "execution_count": 0,
      "outputs": []
    },
    {
      "cell_type": "code",
      "metadata": {
        "id": "3zy_Aii8cz8M",
        "colab_type": "code",
        "colab": {}
      },
      "source": [
        "print ('drive access')\n",
        "\n",
        "from google.colab import drive\n",
        "# drive.mount('/content/gdrive')\n",
        "!ls '/content/gdrive/My Drive/income'\n",
        "\n",
        "print(dt.now())"
      ],
      "execution_count": 0,
      "outputs": []
    },
    {
      "cell_type": "code",
      "metadata": {
        "id": "vcetgwSpe6re",
        "colab_type": "code",
        "colab": {}
      },
      "source": [
        "print(dt.now())"
      ],
      "execution_count": 0,
      "outputs": []
    },
    {
      "cell_type": "code",
      "metadata": {
        "id": "3L8_4LYEgaOo",
        "colab_type": "code",
        "colab": {}
      },
      "source": [
        "print ('data loads')\n",
        "\n",
        "print (\"train\")\n",
        "print(dt.now())\n",
        "training_path = \"/content/gdrive/My Drive/income/tcd-ml-1920-group-income-train.csv\"\n",
        "# print (\"nrows set to 100\")\n",
        "# train_df = pd.read_csv(training_path, nrows=10000)\n",
        "train_df = pd.read_csv(training_path)\n",
        "\n",
        "print (\"test\")\n",
        "print(dt.now())\n",
        "test_path = \"/content/gdrive/My Drive/income/tcd-ml-1920-group-income-test.csv\"\n",
        "# test_df = pd.read_csv(test_path, nrows=10000)\n",
        "test_df = pd.read_csv(test_path)\n",
        "\n",
        "print(dt.now())"
      ],
      "execution_count": 0,
      "outputs": []
    },
    {
      "cell_type": "code",
      "metadata": {
        "id": "UZhON4EZuQvP",
        "colab_type": "code",
        "colab": {}
      },
      "source": [
        "print (train_df.shape)\n",
        "print (test_df.shape)\n",
        "\n",
        "print(dt.now())"
      ],
      "execution_count": 0,
      "outputs": []
    },
    {
      "cell_type": "code",
      "metadata": {
        "id": "2GjjmOk9_Ekf",
        "colab_type": "code",
        "colab": {}
      },
      "source": [
        "print (train_df.columns)\n",
        "print (test_df.columns)"
      ],
      "execution_count": 0,
      "outputs": []
    },
    {
      "cell_type": "code",
      "metadata": {
        "id": "5-YMBOVjLtdw",
        "colab_type": "code",
        "colab": {}
      },
      "source": [
        "###############################################\n",
        "#@title           Column Renames              #\n",
        "###############################################\n",
        "\n",
        "\n",
        "# dont like the col names - much easier with simple strings with no spaces.\n",
        "train_df.rename(columns = {\"Year of Record\" : \"Year\",\n",
        "                           \"Housing Situation\" : \"Housing\",\n",
        "                           \"Crime Level in the City of Employement\" : \"CrimeLevel\",\n",
        "                           \"Work Experience in Current Job [years]\" : \"WorkExp\",\n",
        "                           \"Satisfation with employer\" : \"Satisfaction\",\n",
        "                           \"Size of City\" : \"CitySize\",\n",
        "                           \"University Degree\" : \"Degree\",\n",
        "                           \"Wears Glasses\" : \"Glasses\",\n",
        "                           \"Hair Color\" : \"Hair\",\n",
        "                           \"Body Height [cm]\" : \"Height\",\n",
        "                           \"Yearly Income in addition to Salary (e.g. Rental Income)\" : \"AdditionalIncome\",\n",
        "                           \"Total Yearly Income [EUR]\" : \"Income\"},\n",
        "                  inplace = True)\n",
        "\n",
        "test_df.rename( columns = {\"Year of Record\" : \"Year\",\n",
        "                           \"Housing Situation\" : \"Housing\",\n",
        "                           \"Crime Level in the City of Employement\" : \"CrimeLevel\",\n",
        "                           \"Work Experience in Current Job [years]\" : \"WorkExp\",\n",
        "                           \"Satisfation with employer\" : \"Satisfaction\",\n",
        "                           \"Size of City\" : \"CitySize\",\n",
        "                           \"University Degree\" : \"Degree\",\n",
        "                           \"Wears Glasses\" : \"Glasses\",\n",
        "                           \"Hair Color\" : \"Hair\",\n",
        "                           \"Body Height [cm]\" : \"Height\",\n",
        "                           \"Yearly Income in addition to Salary (e.g. Rental Income)\" : \"AdditionalIncome\",\n",
        "                           \"Total Yearly Income [EUR]\" : \"Income\"},\n",
        "                  inplace = True)"
      ],
      "execution_count": 0,
      "outputs": []
    },
    {
      "cell_type": "code",
      "metadata": {
        "id": "DzXC-1Z7Nl_D",
        "colab_type": "code",
        "colab": {}
      },
      "source": [
        "print (train_df.columns)\n",
        "print (test_df.columns)"
      ],
      "execution_count": 0,
      "outputs": []
    },
    {
      "cell_type": "code",
      "metadata": {
        "id": "qIGdRnOp-Ane",
        "colab_type": "code",
        "colab": {}
      },
      "source": [
        "print(train_df.head())"
      ],
      "execution_count": 0,
      "outputs": []
    },
    {
      "cell_type": "code",
      "metadata": {
        "id": "lb0r7wSr-VBW",
        "colab_type": "code",
        "colab": {}
      },
      "source": [
        "train_df.describe()\n",
        "train_df[[\"Instance\", \"Year\", \"CrimeLevel\", \"Age\", \"CitySize\", \"Glasses\", \"Height\", \"Income\"]].describe()"
      ],
      "execution_count": 0,
      "outputs": []
    },
    {
      "cell_type": "code",
      "metadata": {
        "id": "w3HcKA_v-lFH",
        "colab_type": "code",
        "colab": {}
      },
      "source": [
        "train_df[['Satisfaction','Gender','Country','Profession','Degree','Hair','AdditionalIncome']].describe()"
      ],
      "execution_count": 0,
      "outputs": []
    },
    {
      "cell_type": "code",
      "metadata": {
        "id": "kmKX36ckZORr",
        "colab_type": "code",
        "colab": {}
      },
      "source": [
        "train_df[['WorkExp']].describe()"
      ],
      "execution_count": 0,
      "outputs": []
    },
    {
      "cell_type": "code",
      "metadata": {
        "id": "XVE_wKplbudB",
        "colab_type": "code",
        "colab": {}
      },
      "source": [
        "train_df[['Housing']].describe()"
      ],
      "execution_count": 0,
      "outputs": []
    },
    {
      "cell_type": "code",
      "metadata": {
        "id": "93yQSIRzcWeW",
        "colab_type": "code",
        "colab": {}
      },
      "source": [
        "print('checking pearson and spearman corellations') \n",
        "\n",
        "from scipy.stats import pearsonr\n",
        "from scipy.stats import spearmanr\n",
        "\n",
        "x = np.array([1,2,3,4,5])\n",
        "y0 = np.array([1,1.4,1.7,2,2.1]) # aproximate roots\n",
        "y1 = np.array([2,4.2,6,7,10]) # aproximately linear\n",
        "y2 = np.array([0.9,4.1, 9.5, 17, 27]) # aproximate squares\n",
        "y3 = np.array([0.9,8.1, 27.5, 65, 130]) # aproximate cubes\n",
        "\n",
        "print (pearsonr(x,y0), spearmanr(x,y0))\n",
        "print (pearsonr(x,y1), spearmanr(x,y1))\n",
        "print (pearsonr(x,y2), spearmanr(x,y2))\n",
        "print (pearsonr(x,y3), spearmanr(x,y3))"
      ],
      "execution_count": 0,
      "outputs": []
    },
    {
      "cell_type": "code",
      "metadata": {
        "id": "f9EUoA0yrcAk",
        "colab_type": "code",
        "colab": {}
      },
      "source": [
        "# run pearson and spearman analysis for our numeric columns against the income result\n",
        "\n",
        "print (\"Year:  has missing data \\n\")\n",
        "# print (\"Year : \", pearsonr(train_df[ 'Year'], train_df['Income']))\n",
        "\n",
        "\n",
        "print (\"CrimeLevel : \",\n",
        "       pearsonr(train_df[ 'CrimeLevel'], train_df['Income']),\n",
        "       spearmanr(train_df[ 'CrimeLevel'], train_df['Income']),\n",
        "       \"Very little corelation \\n\")\n",
        "\n",
        "print (\"Age: \",\n",
        "       pearsonr(train_df[ 'Age'], train_df['Income']),\n",
        "       spearmanr(train_df[ 'Age'], train_df['Income']),\n",
        "       \"Very little corelation\")"
      ],
      "execution_count": 0,
      "outputs": []
    }
  ]
}