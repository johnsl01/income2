{
  "nbformat": 4,
  "nbformat_minor": 0,
  "metadata": {
    "colab": {
      "name": "loadtest6.ipynb",
      "provenance": [],
      "include_colab_link": true
    },
    "kernelspec": {
      "name": "python3",
      "display_name": "Python 3"
    },
    "accelerator": "TPU"
  },
  "cells": [
    {
      "cell_type": "markdown",
      "metadata": {
        "id": "view-in-github",
        "colab_type": "text"
      },
      "source": [
        "<a href=\"https://colab.research.google.com/github/johnsl01/income2/blob/master/loadtest6.ipynb\" target=\"_parent\"><img src=\"https://colab.research.google.com/assets/colab-badge.svg\" alt=\"Open In Colab\"/></a>"
      ]
    },
    {
      "cell_type": "code",
      "metadata": {
        "id": "HiWAmyw5t-Dr",
        "colab_type": "code",
        "colab": {
          "base_uri": "https://localhost:8080/",
          "height": 173
        },
        "outputId": "249a661c-4128-478c-db1a-337af8633360"
      },
      "source": [
        "###############################################\n",
        "#@title           Drive Access                #\n",
        "###############################################\n",
        "\n",
        "\n",
        "todo = \"deal with non numeric columns amd the missing data \"\n",
        "\n",
        "print (todo)\n",
        "\n",
        "print ('drive access')\n",
        "\n",
        "from google.colab import drive\n",
        "drive.mount('/content/gdrive')\n",
        "!ls '/content/gdrive/My Drive/income'"
      ],
      "execution_count": 2,
      "outputs": [
        {
          "output_type": "stream",
          "text": [
            "deal with non numeric columns amd the missing data \n",
            "drive access\n",
            "Go to this URL in a browser: https://accounts.google.com/o/oauth2/auth?client_id=947318989803-6bn6qk8qdgf4n4g3pfee6491hc0brc4i.apps.googleusercontent.com&redirect_uri=urn%3aietf%3awg%3aoauth%3a2.0%3aoob&response_type=code&scope=email%20https%3a%2f%2fwww.googleapis.com%2fauth%2fdocs.test%20https%3a%2f%2fwww.googleapis.com%2fauth%2fdrive%20https%3a%2f%2fwww.googleapis.com%2fauth%2fdrive.photos.readonly%20https%3a%2f%2fwww.googleapis.com%2fauth%2fpeopleapi.readonly\n",
            "\n",
            "Enter your authorization code:\n",
            "··········\n",
            "Mounted at /content/gdrive\n",
            "tcd-ml-1920-group-income-test.csv  tcd-ml-1920-group-income-train.csv\n"
          ],
          "name": "stdout"
        }
      ]
    },
    {
      "cell_type": "code",
      "metadata": {
        "id": "pKufID57CPa0",
        "colab_type": "code",
        "colab": {}
      },
      "source": [
        ""
      ],
      "execution_count": null,
      "outputs": []
    },
    {
      "cell_type": "code",
      "metadata": {
        "id": "GYtxV4WcsVHe",
        "colab_type": "code",
        "colab": {
          "base_uri": "https://localhost:8080/",
          "height": 68
        },
        "outputId": "97f22fef-2edd-4952-95f4-e4de57251b42"
      },
      "source": [
        "###############################################\n",
        "#@title             Imports                   #\n",
        "###############################################\n",
        "\n",
        "\n",
        "print ('imports')\n",
        "\n",
        "from datetime import datetime as dt\n",
        "\n",
        "from __future__ import print_function\n",
        "\n",
        "import math\n",
        "\n",
        "from math import sqrt\n",
        "\n",
        "from IPython import display\n",
        "\n",
        "import pandas as pd\n",
        "\n",
        "import numpy as np\n",
        "\n",
        "# import sklearn as skl\n",
        "from sklearn import linear_model\n",
        "from sklearn import neural_network as nnet\n",
        "from sklearn import svm\n",
        "from sklearn import ensemble\n",
        "from sklearn import metrics\n",
        "\n",
        "from sklearn.ensemble import IsolationForest\n",
        "\n",
        "from sklearn.metrics import r2_score\n",
        "from sklearn.metrics import mean_squared_error\n",
        "\n",
        "from sklearn.model_selection import train_test_split\n",
        "\n",
        "from scipy.stats import pearsonr\n",
        "from scipy.stats import spearmanr\n",
        "\n",
        "# include the TensorFlow libraries \n",
        "import tensorflow as tf\n",
        "from tensorflow.python.data import Dataset\n",
        "\n",
        "# tf.logging.set_verbosity(tf.logging.ERROR)\n",
        "pd.options.display.max_rows = 10\n",
        "pd.options.display.float_format = '{:.1f}'.format\n",
        "\n",
        "# plotting utilities\n",
        "from matplotlib import cm\n",
        "from matplotlib import gridspec\n",
        "import matplotlib.pyplot as plt\n",
        "from mpl_toolkits.mplot3d import Axes3D as a3d\n",
        "\n",
        "from keras.models import Sequential\n",
        "from keras.layers import Dense, Dropout\n",
        "from keras.optimizers import SGD, Adam \n",
        "\n",
        "print(dt.now())"
      ],
      "execution_count": 4,
      "outputs": [
        {
          "output_type": "stream",
          "text": [
            "imports\n",
            "2020-07-28 17:18:08.924788\n"
          ],
          "name": "stdout"
        },
        {
          "output_type": "stream",
          "text": [
            "Using TensorFlow backend.\n"
          ],
          "name": "stderr"
        }
      ]
    },
    {
      "cell_type": "code",
      "metadata": {
        "id": "3zy_Aii8cz8M",
        "colab_type": "code",
        "colab": {}
      },
      "source": [
        ""
      ],
      "execution_count": null,
      "outputs": []
    },
    {
      "cell_type": "code",
      "metadata": {
        "id": "vcetgwSpe6re",
        "colab_type": "code",
        "colab": {
          "base_uri": "https://localhost:8080/",
          "height": 34
        },
        "outputId": "1f1af2b8-b353-437b-a1e8-0f09e868107b"
      },
      "source": [
        "###############################################\n",
        "#@title         myscale() function              #\n",
        "###############################################\n",
        "\n",
        "\n",
        "# define a function to take a pair of series and return a scaled 0-1 pair \n",
        "# using the min & max from both to apply the scale.\n",
        "# typically used to pass a pair of cols from A TRAIN / TEST set\n",
        "# and return then scaled values in a similar pair of series.\n",
        "\n",
        "def myscale ( trainseries, testseries ) : \n",
        "\n",
        "  # create the return series\n",
        "  # trainscale = pd.Series ( np.zeros(len(trainseries)))\n",
        "  # testscale =  pd.Series ( np.zeros(len(testseries)))\n",
        "  \n",
        "  # print ('in myscale')\n",
        "\n",
        "  # print (\"Initial : \" )\n",
        "  # print (\"  max : \")\n",
        "  # print (\"    \", trainseries.max(), testseries.max())\n",
        "  maxseries = max(trainseries.max(), testseries.max())\n",
        "  # print (\"    \", maxseries) \n",
        "\n",
        "  # print (\"  min : \")\n",
        "  # print (\"    \",trainseries.min(), testseries.min())\n",
        "  minseries = min(trainseries.min(), testseries.min())\n",
        "  # print (\"    \", minseries)\n",
        "\n",
        "  rangeseries = maxseries - minseries\n",
        "\n",
        "  trainscale = (trainseries - minseries)/ rangeseries\n",
        "  testscale = (testseries - minseries)/ rangeseries\n",
        "\n",
        "  # print (\"\\nEncoded : \" )\n",
        "  # print (\"  max : \")\n",
        "  # print (\"    \", trainscale.max(), testscale.max())\n",
        "  maxscale = max(trainscale.max(), testscale.max())\n",
        "  # print (\"    \", maxscale) \n",
        "\n",
        "  # print (\"  min : \")\n",
        "  # print (\"    \",trainscale.min(), testscale.min())\n",
        "  minscale = min(trainscale.min(), testscale.min())\n",
        "  # print (\"    \", minscale)\n",
        "\n",
        "  # print (trainscale.sum(), testscale.sum())\n",
        "\n",
        "  return (trainscale, testscale)\n",
        "\n",
        "print(dt.now())"
      ],
      "execution_count": 5,
      "outputs": [
        {
          "output_type": "stream",
          "text": [
            "2020-07-28 17:18:23.824575\n"
          ],
          "name": "stdout"
        }
      ]
    },
    {
      "cell_type": "code",
      "metadata": {
        "id": "Plvujs8C-Zfm",
        "colab_type": "code",
        "colab": {}
      },
      "source": [
        ""
      ],
      "execution_count": null,
      "outputs": []
    },
    {
      "cell_type": "code",
      "metadata": {
        "id": "3L8_4LYEgaOo",
        "colab_type": "code",
        "colab": {
          "base_uri": "https://localhost:8080/",
          "height": 187
        },
        "outputId": "c00c9f60-cf96-452e-8f0b-5c0c8855702f"
      },
      "source": [
        "###############################################\n",
        "#@title           data loads                  #\n",
        "###############################################\n",
        "\n",
        "\n",
        "print ('data loads')\n",
        "\n",
        "print (\"train\")\n",
        "print(dt.now())\n",
        "training_path = \"/content/gdrive/My Drive/income/tcd-ml-1920-group-income-train.csv\"\n",
        "# print (\"nrows set to 100\")\n",
        "# train_df = pd.read_csv(training_path, nrows=10000)\n",
        "train_df = pd.read_csv(training_path)\n",
        "\n",
        "print (\"test\")\n",
        "print(dt.now())\n",
        "test_path = \"/content/gdrive/My Drive/income/tcd-ml-1920-group-income-test.csv\"\n",
        "# test_df = pd.read_csv(test_path, nrows=10000)\n",
        "test_df = pd.read_csv(test_path)\n",
        "\n",
        "print(dt.now())"
      ],
      "execution_count": 6,
      "outputs": [
        {
          "output_type": "stream",
          "text": [
            "data loads\n",
            "train\n",
            "2020-07-28 17:18:32.143304\n"
          ],
          "name": "stdout"
        },
        {
          "output_type": "stream",
          "text": [
            "/usr/local/lib/python3.6/dist-packages/IPython/core/interactiveshell.py:2718: DtypeWarning: Columns (2,4) have mixed types.Specify dtype option on import or set low_memory=False.\n",
            "  interactivity=interactivity, compiler=compiler, result=result)\n"
          ],
          "name": "stderr"
        },
        {
          "output_type": "stream",
          "text": [
            "test\n",
            "2020-07-28 17:18:36.298463\n",
            "2020-07-28 17:18:37.842956\n"
          ],
          "name": "stdout"
        },
        {
          "output_type": "stream",
          "text": [
            "/usr/local/lib/python3.6/dist-packages/IPython/core/interactiveshell.py:2718: DtypeWarning: Columns (4) have mixed types.Specify dtype option on import or set low_memory=False.\n",
            "  interactivity=interactivity, compiler=compiler, result=result)\n"
          ],
          "name": "stderr"
        }
      ]
    },
    {
      "cell_type": "code",
      "metadata": {
        "id": "UZhON4EZuQvP",
        "colab_type": "code",
        "colab": {
          "base_uri": "https://localhost:8080/",
          "height": 68
        },
        "outputId": "405e7f07-22e1-4937-e84c-9d1912928d5e"
      },
      "source": [
        "print (train_df.shape)\n",
        "print (test_df.shape)\n",
        "\n",
        "print(dt.now())"
      ],
      "execution_count": 7,
      "outputs": [
        {
          "output_type": "stream",
          "text": [
            "(1048574, 17)\n",
            "(369438, 17)\n",
            "2020-07-28 17:18:50.413334\n"
          ],
          "name": "stdout"
        }
      ]
    },
    {
      "cell_type": "code",
      "metadata": {
        "id": "2GjjmOk9_Ekf",
        "colab_type": "code",
        "colab": {
          "base_uri": "https://localhost:8080/",
          "height": 374
        },
        "outputId": "b0f8626d-e77a-4ff9-8f00-7ed7637007fe"
      },
      "source": [
        "print (\" train_df :\")\n",
        "print (train_df.columns)\n",
        "\n",
        "print (\"\\n test_df :\")\n",
        "print (test_df.columns)\n",
        "\n",
        "print(\"\\n\", dt.now())"
      ],
      "execution_count": 8,
      "outputs": [
        {
          "output_type": "stream",
          "text": [
            " train_df :\n",
            "Index(['Instance', 'Year of Record', 'Housing Situation',\n",
            "       'Crime Level in the City of Employement',\n",
            "       'Work Experience in Current Job [years]', 'Satisfation with employer',\n",
            "       'Gender', 'Age', 'Country', 'Size of City', 'Profession',\n",
            "       'University Degree', 'Wears Glasses', 'Hair Color', 'Body Height [cm]',\n",
            "       'Yearly Income in addition to Salary (e.g. Rental Income)',\n",
            "       'Total Yearly Income [EUR]'],\n",
            "      dtype='object')\n",
            "\n",
            " test_df :\n",
            "Index(['Instance', 'Year of Record', 'Housing Situation',\n",
            "       'Crime Level in the City of Employement',\n",
            "       'Work Experience in Current Job [years]', 'Satisfation with employer',\n",
            "       'Gender', 'Age', 'Country', 'Size of City', 'Profession',\n",
            "       'University Degree', 'Wears Glasses', 'Hair Color', 'Body Height [cm]',\n",
            "       'Yearly Income in addition to Salary (e.g. Rental Income)',\n",
            "       'Total Yearly Income [EUR]'],\n",
            "      dtype='object')\n",
            "\n",
            " 2020-07-28 17:18:56.310428\n"
          ],
          "name": "stdout"
        }
      ]
    },
    {
      "cell_type": "code",
      "metadata": {
        "id": "5-YMBOVjLtdw",
        "colab_type": "code",
        "colab": {
          "base_uri": "https://localhost:8080/",
          "height": 34
        },
        "outputId": "c0b54ced-f922-4ea8-c22b-38ccbb6c6690"
      },
      "source": [
        "###############################################\n",
        "#@title           Column Renames              #\n",
        "###############################################\n",
        "\n",
        "\n",
        "# dont like the col names - much easier with simple strings with no spaces.\n",
        "train_df.rename(columns = {\"Year of Record\" : \"Year\",\n",
        "                           \"Housing Situation\" : \"Housing\",\n",
        "                           \"Crime Level in the City of Employement\" : \"CrimeLevel\",\n",
        "                           \"Work Experience in Current Job [years]\" : \"WorkExp\",\n",
        "                           \"Satisfation with employer\" : \"Satisfaction\",\n",
        "                           \"Size of City\" : \"CitySize\",\n",
        "                           \"University Degree\" : \"Degree\",\n",
        "                           \"Wears Glasses\" : \"Glasses\",\n",
        "                           \"Hair Color\" : \"Hair\",\n",
        "                           \"Body Height [cm]\" : \"Height\",\n",
        "                           \"Yearly Income in addition to Salary (e.g. Rental Income)\" : \"AdditionalIncome\",\n",
        "                           \"Total Yearly Income [EUR]\" : \"Income\"},\n",
        "                  inplace = True)\n",
        "\n",
        "test_df.rename( columns = {\"Year of Record\" : \"Year\",\n",
        "                           \"Housing Situation\" : \"Housing\",\n",
        "                           \"Crime Level in the City of Employement\" : \"CrimeLevel\",\n",
        "                           \"Work Experience in Current Job [years]\" : \"WorkExp\",\n",
        "                           \"Satisfation with employer\" : \"Satisfaction\",\n",
        "                           \"Size of City\" : \"CitySize\",\n",
        "                           \"University Degree\" : \"Degree\",\n",
        "                           \"Wears Glasses\" : \"Glasses\",\n",
        "                           \"Hair Color\" : \"Hair\",\n",
        "                           \"Body Height [cm]\" : \"Height\",\n",
        "                           \"Yearly Income in addition to Salary (e.g. Rental Income)\" : \"AdditionalIncome\",\n",
        "                           \"Total Yearly Income [EUR]\" : \"Income\"},\n",
        "                  inplace = True)\n",
        "\n",
        "print(dt.now())"
      ],
      "execution_count": 9,
      "outputs": [
        {
          "output_type": "stream",
          "text": [
            "2020-07-28 17:19:04.706594\n"
          ],
          "name": "stdout"
        }
      ]
    },
    {
      "cell_type": "code",
      "metadata": {
        "id": "DzXC-1Z7Nl_D",
        "colab_type": "code",
        "colab": {
          "base_uri": "https://localhost:8080/",
          "height": 238
        },
        "outputId": "933313aa-22a2-485c-e368-ec843f1fb015"
      },
      "source": [
        "print (\" train_df :\")\n",
        "print (train_df.columns)\n",
        "\n",
        "print (\"\\n test_df :\")\n",
        "print (test_df.columns)\n",
        "\n",
        "print(\"\\n\", dt.now())"
      ],
      "execution_count": 10,
      "outputs": [
        {
          "output_type": "stream",
          "text": [
            " train_df :\n",
            "Index(['Instance', 'Year', 'Housing', 'CrimeLevel', 'WorkExp', 'Satisfaction',\n",
            "       'Gender', 'Age', 'Country', 'CitySize', 'Profession', 'Degree',\n",
            "       'Glasses', 'Hair', 'Height', 'AdditionalIncome', 'Income'],\n",
            "      dtype='object')\n",
            "\n",
            " test_df :\n",
            "Index(['Instance', 'Year', 'Housing', 'CrimeLevel', 'WorkExp', 'Satisfaction',\n",
            "       'Gender', 'Age', 'Country', 'CitySize', 'Profession', 'Degree',\n",
            "       'Glasses', 'Hair', 'Height', 'AdditionalIncome', 'Income'],\n",
            "      dtype='object')\n",
            "\n",
            " 2020-07-28 17:19:15.831813\n"
          ],
          "name": "stdout"
        }
      ]
    },
    {
      "cell_type": "code",
      "metadata": {
        "id": "qIGdRnOp-Ane",
        "colab_type": "code",
        "colab": {
          "base_uri": "https://localhost:8080/",
          "height": 170
        },
        "outputId": "69b8eca5-00b6-45f6-be6b-2f201384ff77"
      },
      "source": [
        "print(train_df.head())\n",
        "\n",
        "print(dt.now())"
      ],
      "execution_count": 11,
      "outputs": [
        {
          "output_type": "stream",
          "text": [
            "   Instance   Year Housing  CrimeLevel  ...   Hair Height AdditionalIncome  Income\n",
            "0         1 1940.0       0          33  ...  Black    182            0 EUR  6182.1\n",
            "1         2 1940.0       0          25  ...  Blond    172            0 EUR  6819.7\n",
            "2         3 1940.0       0          34  ...  Blond    144            0 EUR  8663.5\n",
            "3         4 1940.0       0          70  ...  Brown    152            0 EUR  2400.6\n",
            "4         5 1940.0       0          51  ...  Black    180            0 EUR  2816.2\n",
            "\n",
            "[5 rows x 17 columns]\n",
            "2020-07-28 17:19:25.063402\n"
          ],
          "name": "stdout"
        }
      ]
    },
    {
      "cell_type": "code",
      "metadata": {
        "id": "lb0r7wSr-VBW",
        "colab_type": "code",
        "colab": {
          "base_uri": "https://localhost:8080/",
          "height": 408
        },
        "outputId": "f47cbde2-4cac-4fb9-ec46-869e0ec3973d"
      },
      "source": [
        "print ( train_df.describe() )\n",
        "print (train_df[[\"Instance\", \"Year\", \"CrimeLevel\", \"Age\", \"CitySize\", \"Glasses\", \"Height\", \"Income\"]].describe() )\n",
        "\n",
        "print(dt.now())"
      ],
      "execution_count": 12,
      "outputs": [
        {
          "output_type": "stream",
          "text": [
            "       Instance      Year  CrimeLevel  ...   Glasses    Height    Income\n",
            "count 1048574.0 1044561.0   1048574.0  ... 1048574.0 1048574.0 1048574.0\n",
            "mean   495114.1    1979.4        83.5  ...       0.5     175.2   68509.7\n",
            "std    278454.9      22.4        50.0  ...       0.5      19.9  111929.8\n",
            "min         1.0    1940.0         0.0  ...       0.0      82.0       6.4\n",
            "25%    262144.2    1961.0        40.0  ...       0.0     160.0    5333.7\n",
            "50%    489008.5    1979.0        84.0  ...       1.0     174.0   21890.8\n",
            "75%    729565.8    1998.0       125.0  ...       1.0     190.0   86030.5\n",
            "max    991709.0    2019.0       206.0  ...       1.0     272.0 2548791.0\n",
            "\n",
            "[8 rows x 8 columns]\n",
            "       Instance      Year  CrimeLevel  ...   Glasses    Height    Income\n",
            "count 1048574.0 1044561.0   1048574.0  ... 1048574.0 1048574.0 1048574.0\n",
            "mean   495114.1    1979.4        83.5  ...       0.5     175.2   68509.7\n",
            "std    278454.9      22.4        50.0  ...       0.5      19.9  111929.8\n",
            "min         1.0    1940.0         0.0  ...       0.0      82.0       6.4\n",
            "25%    262144.2    1961.0        40.0  ...       0.0     160.0    5333.7\n",
            "50%    489008.5    1979.0        84.0  ...       1.0     174.0   21890.8\n",
            "75%    729565.8    1998.0       125.0  ...       1.0     190.0   86030.5\n",
            "max    991709.0    2019.0       206.0  ...       1.0     272.0 2548791.0\n",
            "\n",
            "[8 rows x 8 columns]\n",
            "2020-07-28 17:19:31.158945\n"
          ],
          "name": "stdout"
        }
      ]
    },
    {
      "cell_type": "code",
      "metadata": {
        "id": "w3HcKA_v-lFH",
        "colab_type": "code",
        "colab": {
          "base_uri": "https://localhost:8080/",
          "height": 153
        },
        "outputId": "d68711fc-a3b7-4bf4-d975-e52e804d8185"
      },
      "source": [
        "print ( train_df[['Satisfaction','Gender','Country','Profession','Degree','Hair','AdditionalIncome']].describe() )\n",
        "\n",
        "print(dt.now())"
      ],
      "execution_count": 13,
      "outputs": [
        {
          "output_type": "stream",
          "text": [
            "       Satisfaction  Gender   Country  ...    Degree    Hair AdditionalIncome\n",
            "count       1010487  974447   1048574  ...    967974  978363          1048574\n",
            "unique            4       6       174  ...         5       6            88309\n",
            "top         Average    male  Honduras  ...  Bachelor   Black            0 EUR\n",
            "freq         487634  400113    111155  ...    396585  400652           946048\n",
            "\n",
            "[4 rows x 7 columns]\n",
            "2020-07-28 17:19:40.372605\n"
          ],
          "name": "stdout"
        }
      ]
    },
    {
      "cell_type": "code",
      "metadata": {
        "id": "kmKX36ckZORr",
        "colab_type": "code",
        "colab": {
          "base_uri": "https://localhost:8080/",
          "height": 119
        },
        "outputId": "e468cc4d-bf6e-47af-aa78-e10b1a844835"
      },
      "source": [
        "print ( train_df[['WorkExp']].describe() )\n",
        "\n",
        "print(dt.now())"
      ],
      "execution_count": 14,
      "outputs": [
        {
          "output_type": "stream",
          "text": [
            "        WorkExp\n",
            "count   1048574\n",
            "unique      109\n",
            "top          12\n",
            "freq      49606\n",
            "2020-07-28 17:19:45.068727\n"
          ],
          "name": "stdout"
        }
      ]
    },
    {
      "cell_type": "code",
      "metadata": {
        "id": "XVE_wKplbudB",
        "colab_type": "code",
        "colab": {
          "base_uri": "https://localhost:8080/",
          "height": 119
        },
        "outputId": "6afb5d4b-c561-41df-ef7a-249390b3679d"
      },
      "source": [
        "print ( train_df[['Housing']].describe() )\n",
        "\n",
        "print(dt.now())"
      ],
      "execution_count": 15,
      "outputs": [
        {
          "output_type": "stream",
          "text": [
            "            Housing\n",
            "count       1048574\n",
            "unique           10\n",
            "top     Large House\n",
            "freq         166291\n",
            "2020-07-28 17:19:48.861733\n"
          ],
          "name": "stdout"
        }
      ]
    },
    {
      "cell_type": "code",
      "metadata": {
        "id": "93yQSIRzcWeW",
        "colab_type": "code",
        "colab": {
          "base_uri": "https://localhost:8080/",
          "height": 34
        },
        "outputId": "9b29ec64-3e5a-4696-839d-9b2061f664d8"
      },
      "source": [
        "'''\n",
        "print('checking pearson and spearman corellations') \n",
        "\n",
        "\n",
        "\n",
        "x = np.array([1,2,3,4,5])\n",
        "y0 = np.array([1,1.4,1.7,2,2.1]) # aproximate roots\n",
        "y1 = np.array([2,4.2,6,7,10]) # aproximately linear\n",
        "y2 = np.array([0.9,4.1, 9.5, 17, 27]) # aproximate squares\n",
        "y3 = np.array([0.9,8.1, 27.5, 68, 133]) # aproximate cubes\n",
        "\n",
        "print (pearsonr(x,y0), spearmanr(x,y0))\n",
        "print (pearsonr(x,y1), spearmanr(x,y1))\n",
        "print (pearsonr(x,y2), spearmanr(x,y2))\n",
        "print (pearsonr(x,y3), spearmanr(x,y3))\n",
        "'''\n",
        "print(dt.now())\n"
      ],
      "execution_count": 16,
      "outputs": [
        {
          "output_type": "stream",
          "text": [
            "2020-07-28 17:19:54.895381\n"
          ],
          "name": "stdout"
        }
      ]
    },
    {
      "cell_type": "code",
      "metadata": {
        "id": "f9EUoA0yrcAk",
        "colab_type": "code",
        "colab": {
          "base_uri": "https://localhost:8080/",
          "height": 663
        },
        "outputId": "ca4ceff2-d0aa-48ab-f99f-4c9944836069"
      },
      "source": [
        "print (\"run pearson and spearman analysis for our full numeric columns against the income result\")\n",
        "print (\"pearson test for linear correlation - spearman for monotonic corelation (which may not be linear) \\n\")\n",
        "\n",
        "# 'Instance', 'Year', 'Housing', 'CrimeLevel', 'WorkExp', 'Satisfaction',\n",
        "# 'Gender', 'Age', 'Country', 'CitySize', 'Profession', 'Degree',\n",
        "# 'Glasses', 'Hair', 'Height', 'AdditionalIncome', 'Income'\n",
        "\n",
        "print (\" 0 Instance : \",\n",
        "       pearsonr(train_df[ 'Instance'], train_df['Income']),\n",
        "       spearmanr(train_df[ 'Instance'], train_df['Income']),\n",
        "       \"  -  quite a high, but somewhat non linear corelation. Why ? \\n\")\n",
        "\n",
        "print (\" 1 Year has missing data. \\n\")\n",
        "# print (\"Year : \", pearsonr(train_df[ 'Year'], train_df['Income']))\n",
        "\n",
        "print (\" 2 Housing is categorical incl some numerical. \\n\")\n",
        "\n",
        "print (\" 3 CrimeLevel : \",\n",
        "       pearsonr(train_df[ 'CrimeLevel'], train_df['Income']),\n",
        "       spearmanr(train_df[ 'CrimeLevel'], train_df['Income']),\n",
        "       \"  -  Very little corelation. \\n\")\n",
        "\n",
        "print (\" 4 Age: \",\n",
        "       pearsonr(train_df[ 'Age'], train_df['Income']),\n",
        "       spearmanr(train_df[ 'Age'], train_df['Income']),\n",
        "       \"  -  Very little corelation. \\n\")\n",
        "\n",
        "print (\" 5 WorkExp is categorical incl some numerical. \\n\")\n",
        "\n",
        "print (\" 6 Satisfaction is categorical - with missing values. \\n\")\n",
        "\n",
        "print (\" 7 Gender is categorical. \\n\")\n",
        "\n",
        "print (\" 8 Country is categorical. \\n\")\n",
        "\n",
        "print (\" 9 CitySize : \",\n",
        "       pearsonr(train_df[ 'CitySize'], train_df['Income']),\n",
        "       spearmanr(train_df[ 'CitySize'], train_df['Income']),\n",
        "       \"  -  Slight correlation - but not linear. \\n\")\n",
        "\n",
        "print (\"10 Profession is categorical. \\n\")\n",
        "\n",
        "print (\"11 Degree is categorical. \\n\")\n",
        "\n",
        "print (\"12 Glasses : \",\n",
        "       pearsonr(train_df[ 'Glasses'], train_df['Income']),\n",
        "       spearmanr(train_df[ 'Glasses'], train_df['Income']),\n",
        "       \"  -  No correlation - drop the column it's just noise. \\n\")\n",
        "\n",
        "print (\"13 Hair is categorical. \\n\")\n",
        "\n",
        "print (\"14 Height : \",\n",
        "       pearsonr(train_df[ 'Height'], train_df['Income']),\n",
        "       spearmanr(train_df[ 'Height'], train_df['Income']),\n",
        "       \"  -  Almost no correlation - drop the column it's just noise. \\n\")\n",
        "\n",
        "print (\"15 AdditionalIncome is categorical incl some numerical. \\n\")\n",
        "\n",
        "print (\"16 Income : \",\n",
        "       pearsonr(train_df[ 'Income'], train_df['Income']),\n",
        "       spearmanr(train_df[ 'Income'], train_df['Income']),\n",
        "       \"  -  perfect correlation - just to test - it had better be! \\n\")\n",
        "\n",
        "print(dt.now())"
      ],
      "execution_count": 17,
      "outputs": [
        {
          "output_type": "stream",
          "text": [
            "run pearson and spearman analysis for our full numeric columns against the income result\n",
            "pearson test for linear correlation - spearman for monotonic corelation (which may not be linear) \n",
            "\n",
            " 0 Instance :  (0.63097762117061, 0.0) SpearmanrResult(correlation=0.8495902029025076, pvalue=0.0)   -  quite a high, but somewhat non linear corelation. Why ? \n",
            "\n",
            " 1 Year has missing data. \n",
            "\n",
            " 2 Housing is categorical incl some numerical. \n",
            "\n",
            " 3 CrimeLevel :  (-0.04625273201268572, 0.0) SpearmanrResult(correlation=-0.04312210980226222, pvalue=0.0)   -  Very little corelation. \n",
            "\n",
            " 4 Age:  (0.10067153027768558, 0.0) SpearmanrResult(correlation=0.07849967806951791, pvalue=0.0)   -  Very little corelation. \n",
            "\n",
            " 5 WorkExp is categorical incl some numerical. \n",
            "\n",
            " 6 Satisfaction is categorical - with missing values. \n",
            "\n",
            " 7 Gender is categorical. \n",
            "\n",
            " 8 Country is categorical. \n",
            "\n",
            " 9 CitySize :  (0.02163675039874434, 8.622972818061319e-109) SpearmanrResult(correlation=0.15108002597127201, pvalue=0.0)   -  Slight correlation - but not linear. \n",
            "\n",
            "10 Profession is categorical. \n",
            "\n",
            "11 Degree is categorical. \n",
            "\n",
            "12 Glasses :  (-0.00042808982016660763, 0.6611231228924025) SpearmanrResult(correlation=-0.000314662312219229, pvalue=0.7472909395116105)   -  No correlation - drop the column it's just noise. \n",
            "\n",
            "13 Hair is categorical. \n",
            "\n",
            "14 Height :  (0.020799538433246233, 1.1115723651382739e-100) SpearmanrResult(correlation=0.016087363332250967, pvalue=5.5957822350007805e-61)   -  Almost no correlation - drop the column it's just noise. \n",
            "\n",
            "15 AdditionalIncome is categorical incl some numerical. \n",
            "\n",
            "16 Income :  (0.9999999999999999, 0.0) SpearmanrResult(correlation=1.0, pvalue=0.0)   -  perfect correlation - just to test - it had better be! \n",
            "\n",
            "2020-07-28 17:21:03.958145\n"
          ],
          "name": "stdout"
        }
      ]
    },
    {
      "cell_type": "code",
      "metadata": {
        "id": "vp37ZbohmJBR",
        "colab_type": "code",
        "colab": {
          "base_uri": "https://localhost:8080/",
          "height": 85
        },
        "outputId": "a7085f8e-a220-4766-f765-452001a3f053"
      },
      "source": [
        "###############################################\n",
        "#@title            Instance                   #\n",
        "###############################################\n",
        "\n",
        "\n",
        "print (\" --------  Instance  -------\")\n",
        "# Instance \n",
        "# encode as a scaled value \n",
        "\n",
        "'''\n",
        "print (\"Initial : \" )\n",
        "print (\"  max : \")\n",
        "print (\"    \", train_df.Instance.max(), test_df.Instance.max())\n",
        "maxInstance = max(train_df.Instance.max(), test_df.Instance.max())\n",
        "print (\"    \", maxInstance) \n",
        "\n",
        "print (\"  min : \")\n",
        "print (\"    \",train_df.Instance.min(), test_df.Instance.min())\n",
        "minInstance = min(train_df.Instance.min(), test_df.Instance.min())\n",
        "print (\"    \", minInstance)\n",
        "\n",
        "rangeInstance = maxInstance - minInstance\n",
        "train_df.loc[:, 'InstanceEnc'] = (train_df['Instance']-minInstance) / rangeInstance\n",
        "\n",
        "test_df.loc[:, 'InstanceEnc'] = (test_df['Instance']-minInstance) / rangeInstance\n",
        "\n",
        "print (\"\\nEncoded : \" )\n",
        "print (\"  max : \")\n",
        "print (\"    \", train_df.InstanceEnc.max(), test_df.InstanceEnc.max())\n",
        "maxInstanceEnc = max(train_df.InstanceEnc.max(), test_df.InstanceEnc.max())\n",
        "print (\"    \", maxInstanceEnc) \n",
        "\n",
        "print (\"  min : \")\n",
        "print (\"    \",train_df.InstanceEnc.min(), test_df.InstanceEnc.min())\n",
        "minInstanceEnc = min(train_df.InstanceEnc.min(), test_df.InstanceEnc.min())\n",
        "print (\"    \", minInstanceEnc)\n",
        "\n",
        "\n",
        "'''\n",
        "\n",
        "train_df[ 'InstanceEnc'], test_df[ 'InstanceEnc'] = myscale ( train_df.Instance, test_df.Instance) \n",
        "\n",
        "print (\" 0 Instance : \",\n",
        "       pearsonr(train_df[ 'InstanceEnc'], train_df['Income']),\n",
        "       spearmanr(train_df[ 'InstanceEnc'], train_df['Income']),\n",
        "       \"  -  quite high, but somewhat non linear corelation. Why ? \\n\")\n",
        "\n",
        "print(dt.now())\n"
      ],
      "execution_count": 18,
      "outputs": [
        {
          "output_type": "stream",
          "text": [
            " --------  Instance  -------\n",
            " 0 Instance :  (0.63097762117061, 0.0) SpearmanrResult(correlation=0.8495902029025076, pvalue=0.0)   -  quite high, but somewhat non linear corelation. Why ? \n",
            "\n",
            "2020-07-28 17:21:24.210553\n"
          ],
          "name": "stdout"
        }
      ]
    },
    {
      "cell_type": "code",
      "metadata": {
        "id": "OraqOC6apQ1q",
        "colab_type": "code",
        "colab": {}
      },
      "source": [
        ""
      ],
      "execution_count": null,
      "outputs": []
    },
    {
      "cell_type": "code",
      "metadata": {
        "id": "1hP5zdn0oNOC",
        "colab_type": "code",
        "colab": {}
      },
      "source": [
        "# so go through the remaining columns - decide what to do with them \n",
        "# and then test the correlation between the treated value and the income\n",
        "\n"
      ],
      "execution_count": null,
      "outputs": []
    },
    {
      "cell_type": "code",
      "metadata": {
        "id": "0Dzjo4ytopWh",
        "colab_type": "code",
        "colab": {
          "base_uri": "https://localhost:8080/",
          "height": 408
        },
        "outputId": "2d320401-02ec-4a70-cf22-373098a03e5f"
      },
      "source": [
        "###############################################\n",
        "#@title            Year                       #\n",
        "###############################################\n",
        "\n",
        "\n",
        "print (\" --------  Year  -------\\n\")\n",
        "\n",
        "# missing data but otherwise numeric between 1940 and 2019 \n",
        "\n",
        "# lets fill with an out of range value and chart it \n",
        "# then look at the charts and correlations and decide on a strategy \n",
        "\n",
        "# done - fill with rounded mean 1979.0 (1979)\n",
        "\n",
        "train_df.Year.fillna(1979.0, inplace=True)\n",
        "\n",
        "test_df.Year.fillna(1979.0, inplace=True)\n",
        "\n",
        "print (\"train_df :\")\n",
        "print ( train_df['Year'].describe() )\n",
        "\n",
        "print(\"test_df :\")\n",
        "print (test_df['Year'].describe() )\n",
        "\n",
        "print(dt.now())"
      ],
      "execution_count": 19,
      "outputs": [
        {
          "output_type": "stream",
          "text": [
            " --------  Year  -------\n",
            "\n",
            "train_df :\n",
            "count   1048574.0\n",
            "mean       1979.4\n",
            "std          22.4\n",
            "min        1940.0\n",
            "25%        1961.0\n",
            "50%        1979.0\n",
            "75%        1998.0\n",
            "max        2019.0\n",
            "Name: Year, dtype: float64\n",
            "test_df :\n",
            "count   369438.0\n",
            "mean      1979.5\n",
            "std         23.1\n",
            "min       1940.0\n",
            "25%       1960.0\n",
            "50%       1979.0\n",
            "75%       1999.0\n",
            "max       2019.0\n",
            "Name: Year, dtype: float64\n",
            "2020-07-28 17:21:38.213113\n"
          ],
          "name": "stdout"
        }
      ]
    },
    {
      "cell_type": "code",
      "metadata": {
        "id": "0Ml9NM3NlvlB",
        "colab_type": "code",
        "colab": {}
      },
      "source": [
        ""
      ],
      "execution_count": null,
      "outputs": []
    },
    {
      "cell_type": "code",
      "metadata": {
        "id": "VMsNZjEhrXWB",
        "colab_type": "code",
        "colab": {
          "base_uri": "https://localhost:8080/",
          "height": 285
        },
        "outputId": "1983a0be-e565-45d7-e6a6-cf512617d9eb"
      },
      "source": [
        " train_df['Year'].hist(bins=80)"
      ],
      "execution_count": 22,
      "outputs": [
        {
          "output_type": "execute_result",
          "data": {
            "text/plain": [
              "<matplotlib.axes._subplots.AxesSubplot at 0x7ff4da8d8978>"
            ]
          },
          "metadata": {
            "tags": []
          },
          "execution_count": 22
        },
        {
          "output_type": "display_data",
          "data": {
            "image/png": "[encoded data removed]",
            "text/plain": [
              "<Figure size 432x288 with 1 Axes>"
            ]
          },
          "metadata": {
            "tags": [],
            "needs_background": "light"
          }
        }
      ]
    },
    {
      "cell_type": "code",
      "metadata": {
        "id": "Tl9G6X9KrxNv",
        "colab_type": "code",
        "colab": {
          "base_uri": "https://localhost:8080/",
          "height": 68
        },
        "outputId": "7b362aa0-090b-49ca-a076-83d3ad3f529c"
      },
      "source": [
        "print (\" 1 Year : \",\n",
        "       pearsonr(train_df[ 'Year'], train_df['Income']),\n",
        "       spearmanr(train_df[ 'Year'], train_df['Income']),\n",
        "       \"  -  Good correlation - almost the same as Instance - slightly non linear. \\n\")\n",
        "\n",
        "# 1 Year :  (0.6310504764919517, 0.0) SpearmanrResult(correlation=0.8495098504454566, pvalue=0.0) - 1939 fillna\n",
        "# 1 Year :  (0.6317759175887114, 0.0) SpearmanrResult(correlation=0.8503274082842994, pvalue=0.0) - 2020 fillna\n",
        "# 1 Year :  (0.6353301585949168, 0.0) SpearmanrResult(correlation=0.854775189253737,  pvalue=0.0) - 1979.0 fillna ==> use this \n",
        "\n",
        "print(dt.now())"
      ],
      "execution_count": 21,
      "outputs": [
        {
          "output_type": "stream",
          "text": [
            " 1 Year :  (0.6353301585949168, 0.0) SpearmanrResult(correlation=0.854775189253737, pvalue=0.0)   -  Good correlation - almost the same as Instance - slightly non linear. \n",
            "\n",
            "2020-07-28 17:21:58.655080\n"
          ],
          "name": "stdout"
        }
      ]
    },
    {
      "cell_type": "code",
      "metadata": {
        "id": "kMUobeMKq5Ro",
        "colab_type": "code",
        "colab": {
          "base_uri": "https://localhost:8080/",
          "height": 85
        },
        "outputId": "82602808-aeb5-4f9b-ca3b-b7b55303eeb4"
      },
      "source": [
        "# encode as a scaled value : \n",
        "\n",
        "# Year\n",
        "# encode as a scaled value \n",
        "\n",
        "'''\n",
        "print (\"Initial : \" )\n",
        "print (\"  max : \")\n",
        "print (\"    \", train_df.Year.max(), test_df.Year.max())\n",
        "maxYear = max(train_df.Year.max(), test_df.Year.max())\n",
        "print (\"    \", maxYear) \n",
        "\n",
        "print (\"  min : \")\n",
        "print (\"    \",train_df.Year.min(), test_df.Year.min())\n",
        "minYear = min(train_df.Year.min(), test_df.Year.min())\n",
        "print (\"    \", minYear)\n",
        "\n",
        "rangeYear = maxYear - minYear\n",
        "train_df.loc[:, 'YearEnc'] = (train_df['Year']-minYear) / rangeYear\n",
        "\n",
        "test_df.loc[:, 'YearEnc'] = (test_df['Year']-minYear) / rangeYear\n",
        "\n",
        "print (\"\\nEncoded : \" )\n",
        "print (\"  max : \")\n",
        "print (\"    \", train_df.YearEnc.max(), test_df.YearEnc.max())\n",
        "maxYearEnc = max(train_df.YearEnc.max(), test_df.YearEnc.max())\n",
        "print (\"    \", maxYearEnc) \n",
        "\n",
        "print (\"  min : \")\n",
        "print (\"    \",train_df.YearEnc.min(), test_df.YearEnc.min())\n",
        "minYearEnc = min(train_df.YearEnc.min(), test_df.YearEnc.min())\n",
        "print (\"    \", minYearEnc)\n",
        "'''\n",
        "\n",
        "train_df[ 'YearEnc'], test_df[ 'YearEnc'] = myscale ( train_df.Year, test_df.Year) \n",
        "\n",
        "print (\" 1 Year : \",\n",
        "       pearsonr(train_df[ 'YearEnc'], train_df['Income']),\n",
        "       spearmanr(train_df[ 'YearEnc'], train_df['Income']),\n",
        "       \"  -  quite a high, but somewhat non linear corelation. Why ? \\n\")\n",
        "\n",
        "print ( train_df.YearEnc.sum(), test_df.YearEnc.sum() )\n",
        "# 523471.29113924055 184765.36708860757\n",
        "\n",
        "print(dt.now())\n"
      ],
      "execution_count": 23,
      "outputs": [
        {
          "output_type": "stream",
          "text": [
            " 1 Year :  (0.6353301585949167, 0.0) SpearmanrResult(correlation=0.854775189253737, pvalue=0.0)   -  quite a high, but somewhat non linear corelation. Why ? \n",
            "\n",
            "523471.29113924055 184765.36708860757\n",
            "2020-07-28 17:22:25.856264\n"
          ],
          "name": "stdout"
        }
      ]
    },
    {
      "cell_type": "code",
      "metadata": {
        "id": "Zl735YK2t5By",
        "colab_type": "code",
        "colab": {
          "base_uri": "https://localhost:8080/",
          "height": 136
        },
        "outputId": "60a873c1-34d8-4e75-d41f-2f24abe0f4ba"
      },
      "source": [
        "###############################################\n",
        "#@title            Housing                    #\n",
        "###############################################\n",
        "\n",
        "\n",
        "# Housing\n",
        "\n",
        "print (\"train_df :\")\n",
        "print( train_df.Housing.unique() )\n",
        "\n",
        "print (\"test_df :\")\n",
        "print ( test_df.Housing.unique() )\n",
        "\n",
        "print(dt.now())"
      ],
      "execution_count": 24,
      "outputs": [
        {
          "output_type": "stream",
          "text": [
            "train_df :\n",
            "[0 '0' 'nA' 'Castle' 'Large House' 'Medium House' 'Small House'\n",
            " 'Large Apartment' 'Medium Apartment' 'Small Apartment']\n",
            "test_df :\n",
            "['Small House' 'Castle' 'Large House' 'Large Apartment' '0' 'nA'\n",
            " 'Medium Apartment' 'Medium House' 'Small Apartment']\n",
            "2020-07-28 17:22:55.082397\n"
          ],
          "name": "stdout"
        }
      ]
    },
    {
      "cell_type": "code",
      "metadata": {
        "id": "UxcmeU_luuxR",
        "colab_type": "code",
        "colab": {
          "base_uri": "https://localhost:8080/",
          "height": 1000
        },
        "outputId": "95136694-e784-4618-a2ec-636c50ded018"
      },
      "source": [
        "housingcount = 0\n",
        "\n",
        "print ('train_df')\n",
        "print (\"        mean       std-dev         count    max    min      Housing\")\n",
        "\n",
        "for i in train_df.Housing.unique() :\n",
        "  print (train_df.loc[train_df.Housing == i].Income.mean(),\n",
        "         train_df.loc[train_df.Housing == i].Income.std(),\n",
        "         train_df.loc[train_df.Housing == i].Instance.count(),\n",
        "         train_df.loc[train_df.Housing == i].Income.max(),\n",
        "         train_df.loc[train_df.Housing == i].Income.min(),\n",
        "         \" ---- \", i)\n",
        "  housingcount += train_df.loc[train_df.Housing == i].Instance.count()\n",
        "print('sum of counts : ', housingcount, \"\\n\")\n",
        "\n",
        "housingcounttest = 0\n",
        "print ('test_df')\n",
        "print (\"  count     Housing\")\n",
        "for i in test_df.Housing.unique() :\n",
        "  print (test_df.loc[test_df.Housing == i].Instance.count(),       \n",
        "         \" ---- \", i)\n",
        "  housingcounttest += test_df.loc[test_df.Housing == i].Instance.count()\n",
        "print('sum of counts : ',housingcounttest, \"\\n\")\n",
        "\n",
        "# use mean encoding - may adjust to a smoothed mean or James-Stein later\n",
        "\n",
        "#build a map and then use it \n",
        "mean_encode = train_df.groupby('Housing')['Income'].mean()\n",
        "\n",
        "print(type(mean_encode))\n",
        "print (mean_encode)\n",
        "\n",
        "extra_encode = pd.Series ([1.0, 2.0], index=[\"Avg_1\",\"Avg_2\"])\n",
        "\n",
        "mean_encode = mean_encode.append(extra_encode)\n",
        "\n",
        "print(type(mean_encode))\n",
        "print (mean_encode)\n",
        "\n",
        "\n",
        "train_df.loc[:, 'HousingEnc1'] = train_df['Housing'].map(mean_encode)\n",
        "\n",
        "test_df.loc[:, 'HousingEnc1'] = test_df['Housing'].map(mean_encode)\n",
        "\n",
        "print (train_df.columns)\n",
        "print (test_df.columns)\n",
        "\n",
        "print (\"\\n 17 HousingEnc1 : \",\n",
        "       pearsonr(train_df[ 'HousingEnc1'], train_df['Income']),\n",
        "       spearmanr(train_df[ 'HousingEnc1'], train_df['Income']),\n",
        "       \"  -  good correlation - slightly non linear. \\n\")\n",
        "\n",
        "print(dt.now())"
      ],
      "execution_count": 25,
      "outputs": [
        {
          "output_type": "stream",
          "text": [
            "train_df\n",
            "        mean       std-dev         count    max    min      Housing\n",
            "8417.809658660803 25468.91014861237 65536 544746.0 6.37  ----  0\n",
            "9206.339050352215 23950.588723855963 76481 544785.0 8.72  ----  0\n",
            "11160.420324219114 24687.925709603776 124052 544706.0 19.38  ----  nA\n",
            "15257.786112998365 25035.788412178175 124551 544676.0 76.32  ----  Castle\n",
            "24359.2940305252 27694.325407587337 166291 544601.0 109.92  ----  Large House\n",
            "39850.41893912264 35693.49012165257 138527 544537.0 339.36  ----  Medium House\n",
            "77083.61277714121 57561.91027640494 123710 989118.75 990.52  ----  Small House\n",
            "152213.2762913269 108759.06828123573 124341 1562624.73 4016.65  ----  Large Apartment\n",
            "273213.9203738765 178755.49356100726 97547 2548790.96 4910.15  ----  Medium Apartment\n",
            "346543.81184398994 212339.60000462199 7538 2332659.88 25596.63  ----  Small Apartment\n",
            "sum of counts :  1048574 \n",
            "\n",
            "test_df\n",
            "  count     Housing\n",
            "46075  ----  Small House\n",
            "46375  ----  Castle\n",
            "45909  ----  Large House\n",
            "46282  ----  Large Apartment\n",
            "53094  ----  0\n",
            "46182  ----  nA\n",
            "36610  ----  Medium Apartment\n",
            "46183  ----  Medium House\n",
            "2728  ----  Small Apartment\n",
            "sum of counts :  369438 \n",
            "\n",
            "<class 'pandas.core.series.Series'>\n",
            "Housing\n",
            "0                    8417.8\n",
            "0                    9206.3\n",
            "Castle              15257.8\n",
            "Large Apartment    152213.3\n",
            "Large House         24359.3\n",
            "Medium Apartment   273213.9\n",
            "Medium House        39850.4\n",
            "Small Apartment    346543.8\n",
            "Small House         77083.6\n",
            "nA                  11160.4\n",
            "Name: Income, dtype: float64\n",
            "<class 'pandas.core.series.Series'>\n",
            "0                   8417.8\n",
            "0                   9206.3\n",
            "Castle             15257.8\n",
            "Large Apartment   152213.3\n",
            "Large House        24359.3\n",
            "                    ...   \n",
            "Small Apartment   346543.8\n",
            "Small House        77083.6\n",
            "nA                 11160.4\n",
            "Avg_1                  1.0\n",
            "Avg_2                  2.0\n",
            "Length: 12, dtype: float64\n",
            "Index(['Instance', 'Year', 'Housing', 'CrimeLevel', 'WorkExp', 'Satisfaction',\n",
            "       'Gender', 'Age', 'Country', 'CitySize', 'Profession', 'Degree',\n",
            "       'Glasses', 'Hair', 'Height', 'AdditionalIncome', 'Income',\n",
            "       'InstanceEnc', 'YearEnc', 'HousingEnc1'],\n",
            "      dtype='object')\n",
            "Index(['Instance', 'Year', 'Housing', 'CrimeLevel', 'WorkExp', 'Satisfaction',\n",
            "       'Gender', 'Age', 'Country', 'CitySize', 'Profession', 'Degree',\n",
            "       'Glasses', 'Hair', 'Height', 'AdditionalIncome', 'Income',\n",
            "       'InstanceEnc', 'YearEnc', 'HousingEnc1'],\n",
            "      dtype='object')\n",
            "\n",
            " 17 HousingEnc1 :  (0.7431611526144236, 0.0) SpearmanrResult(correlation=0.844274810513409, pvalue=0.0)   -  good correlation - slightly non linear. \n",
            "\n",
            "2020-07-28 17:23:11.876467\n"
          ],
          "name": "stdout"
        }
      ]
    },
    {
      "cell_type": "code",
      "metadata": {
        "id": "MNilUWfMwfr4",
        "colab_type": "code",
        "colab": {
          "base_uri": "https://localhost:8080/",
          "height": 68
        },
        "outputId": "6051f046-5c46-4f52-f982-a2bd47ad027f"
      },
      "source": [
        "\n",
        "# encode as a scaled value \n",
        "\n",
        "'''\n",
        "print (\"Initial : \" )\n",
        "print (\"  max : \")\n",
        "print (\"    \", train_df.HousingEnc1.max(), test_df.HousingEnc1.max())\n",
        "maxHousing = max(train_df.HousingEnc1.max(), test_df.HousingEnc1.max())\n",
        "print (\"    \", maxHousing) \n",
        "\n",
        "print (\"  min : \")\n",
        "print (\"    \",train_df.HousingEnc1.min(), test_df.HousingEnc1.min())\n",
        "minHousing = min(train_df.HousingEnc1.min(), test_df.HousingEnc1.min())\n",
        "print (\"    \", minHousing)\n",
        "\n",
        "rangeHousing = maxHousing - minHousing\n",
        "train_df.loc[:, 'HousingEnc'] = (train_df['HousingEnc1']-minHousing) / rangeHousing\n",
        "\n",
        "test_df.loc[:, 'HousingEnc'] = (test_df['HousingEnc1']-minHousing) / rangeHousing\n",
        "\n",
        "print (\"\\nEncoded : \" )\n",
        "print (\"  max : \")\n",
        "print (\"    \", train_df.HousingEnc.max(), test_df.HousingEnc.max())\n",
        "maxHousingEnc = max(train_df.HousingEnc.max(), test_df.HousingEnc.max())\n",
        "print (\"    \", maxHousingEnc) \n",
        "\n",
        "print (\"  min : \")\n",
        "print (\"    \",train_df.HousingEnc.min(), test_df.HousingEnc.min())\n",
        "minHousingEnc = min(train_df.HousingEnc.min(), test_df.HousingEnc.min())\n",
        "print (\"    \", minHousingEnc)\n",
        "\n",
        "'''\n",
        "train_df[ 'HousingEnc'], test_df[ 'HousingEnc'] = myscale ( train_df.HousingEnc1, test_df.HousingEnc1 ) \n",
        "\n",
        "\n",
        "print (\" 2 Housing : \",\n",
        "       pearsonr(train_df[ 'HousingEnc'], train_df['Income']),\n",
        "       spearmanr(train_df[ 'HousingEnc'], train_df['Income']),\n",
        "       \"  -  quite a high, but somewhat non linear corelation. ? \\n\")\n",
        "\n",
        "print(dt.now())"
      ],
      "execution_count": 26,
      "outputs": [
        {
          "output_type": "stream",
          "text": [
            " 2 Housing :  (0.7431611526144238, 0.0) SpearmanrResult(correlation=0.844274810513409, pvalue=0.0)   -  quite a high, but somewhat non linear corelation. ? \n",
            "\n",
            "2020-07-28 17:23:20.498722\n"
          ],
          "name": "stdout"
        }
      ]
    },
    {
      "cell_type": "code",
      "metadata": {
        "id": "juFUSX0RlnPe",
        "colab_type": "code",
        "colab": {}
      },
      "source": [
        ""
      ],
      "execution_count": null,
      "outputs": []
    },
    {
      "cell_type": "code",
      "metadata": {
        "id": "hw5krUzE4iwQ",
        "colab_type": "code",
        "colab": {
          "base_uri": "https://localhost:8080/",
          "height": 323
        },
        "outputId": "3bc7ebeb-7a6d-4f81-ce2d-748467c0042d"
      },
      "source": [
        "###############################################\n",
        "#@title            WorkExp                    #\n",
        "###############################################\n",
        "\n",
        "\n",
        "# WorkExp\n",
        "\n",
        "\n",
        "print (\"train_df :\")\n",
        "print( train_df.WorkExp.unique() )\n",
        "\n",
        "print (\"test_df :\")\n",
        "print ( test_df.WorkExp.unique() )\n",
        "\n",
        "print(dt.now())"
      ],
      "execution_count": 27,
      "outputs": [
        {
          "output_type": "stream",
          "text": [
            "train_df :\n",
            "['17' '4.9' '21' '18' '8' '15' '12' '6.3' '13' '14' '22' '26' '10' '29'\n",
            " '23' '11' '24' '20' '19' '9' '16' '25' '30' '6' '27' '31' '7' '28' '5.6'\n",
            " '34' '35' '33' '38' '3.5' '32' '37' '36' '4.2' '4' '#NUM!' '5' '39' '42'\n",
            " '44' '40' '2.8' 19.0 20.0 14.0 15.0 22.0 10.0 13.0 16.0 17.0 23.0 6.3\n",
            " 12.0 8.0 25.0 11.0 18.0 26.0 7.0 28.0 21.0 32.0 9.0 4.2 5.6 29.0 27.0\n",
            " 24.0 35.0 31.0 30.0 4.9 5.0 34.0 6.0 4.0 36.0 33.0 3.5 37.0 38.0 40.0\n",
            " 39.0 41.0 42.0 2.8 '41' '3' '2.1' '1.4' '43' 0.7 44.0 2.1 '45' 43.0 0.0\n",
            " '48' '2' 3.0 45.0 '0' 2.0 47.0]\n",
            "test_df :\n",
            "[12.0 20.0 11.0 14.0 17.0 10.0 15.0 18.0 24.0 21.0 16.0 23.0 27.0 9.0 6.3\n",
            " 13.0 29.0 19.0 6.0 22.0 8.0 26.0 25.0 7.0 30.0 4.9 28.0 31.0 5.0 5.6 32.0\n",
            " 35.0 37.0 4.2 34.0 33.0 3.5 36.0 3.0 38.0 4.0 39.0 2.1 40.0 42.0 43.0\n",
            " '22' '11' '9' '12' '25' '8' '27' '14' '18' '26' '17' '38' '13' '10' '16'\n",
            " '23' '24' '6.3' '20' '19' '15' '28' '30' '5' '21' '7' '36' '31' '29'\n",
            " '5.6' '6' '4.2' '4.9' '32' '33' '34' '37' '35' '41' '40' '4' '47' '3.5'\n",
            " '#NUM!' '3' '39' '43' '2' '45' '2.8' 1.4 2.8 41.0 44.0 '2.1' '42' '44']\n",
            "2020-07-28 17:23:29.624114\n"
          ],
          "name": "stdout"
        }
      ]
    },
    {
      "cell_type": "code",
      "metadata": {
        "id": "xoo6gNva-bm2",
        "colab_type": "code",
        "colab": {
          "base_uri": "https://localhost:8080/",
          "height": 1000
        },
        "outputId": "8b790f23-a696-4277-c6db-f67532def8a3"
      },
      "source": [
        "workexpcount = 0\n",
        "workexpcounttest = 0 \n",
        "\n",
        "print (\" train contents counts\")\n",
        "print (\" train     test      WorkExp\")\n",
        "\n",
        "\n",
        "input= train_df.WorkExp.unique() \n",
        "strs = list(filter(lambda x : type(x) ==str,input))\n",
        "ints = list(filter(lambda x: type(x) == int, input))\n",
        "floats = list(filter(lambda x: type(x) == float, input))\n",
        "output = sorted(strs) + sorted(ints) + sorted(floats)\n",
        "\n",
        "\n",
        "for i in output :\n",
        "  thiscount = train_df.loc[train_df.WorkExp == i].Instance.count()\n",
        "  thiscounttest = test_df.loc[test_df.WorkExp == i].Instance.count()\n",
        "  thismean = train_df.loc[train_df.WorkExp == i].Income.mean()\n",
        "  thisstd = train_df.loc[train_df.WorkExp == i].Income.std()\n",
        "  workexpcount += thiscount\n",
        "  workexpcounttest += thiscounttest\n",
        "  print ( thiscount, \" --- \", thiscounttest, \" --- \", i, type(i), \"  ----  \", thismean, \"  ----  \", thisstd )\n",
        "print(\"sum of count   train : \", workexpcount, '   test : ', workexpcounttest )\n",
        "\n",
        "workexpcount2 = 0\n",
        "workexpcounttest2 = 0 \n",
        "\n",
        "print (\" test contents counts \")\n",
        "print (\" train     test      WorkExp\")\n",
        "\n",
        "input= test_df.WorkExp.unique() \n",
        "strs = list(filter(lambda x : type(x) ==str,input))\n",
        "ints = list(filter(lambda x: type(x) == int, input))\n",
        "floats = list(filter(lambda x: type(x) == float, input))\n",
        "output = sorted(strs) + sorted(ints) + sorted(floats)\n",
        "\n",
        "for i in output :\n",
        "  thiscount = train_df.loc[train_df.WorkExp == i].Instance.count()\n",
        "  thiscounttest = test_df.loc[test_df.WorkExp == i].Instance.count()\n",
        "  thismeantest = train_df.loc[train_df.WorkExp == i].Income.mean()\n",
        "  thisstdtest = train_df.loc[train_df.WorkExp == i].Income.std()\n",
        "  workexpcount2 += thiscount\n",
        "  workexpcounttest2 += thiscounttest\n",
        "  print ( thiscount, \" --- \", thiscounttest, \" --- \", i, type(i), \"  ----  \", thismeantest, \"  ----  \", thisstdtest )\n",
        "print(\"sum of count   train : \", workexpcount2, '   test : ', workexpcounttest2 )\n",
        "\n",
        "print (float(2.0))\n",
        "print (float('2.0'))\n",
        "\n",
        "\n",
        "for i in [7.0, '7', 17.0, '17', 27.0, '27', 37.0, '37', '#NUM!'] : \n",
        "  print ( train_df.loc[train_df.WorkExp == i].Income.mean(), ' --- ', i, type(i) )\n",
        "\n",
        "print(dt.now())\n"
      ],
      "execution_count": 28,
      "outputs": [
        {
          "output_type": "stream",
          "text": [
            " train contents counts\n",
            " train     test      WorkExp\n",
            "48  ---  15  ---  #NUM! <class 'str'>   ----   544474.4583333334   ----   311.7412974323784\n",
            "1  ---  0  ---  0 <class 'str'>   ----   544427.0   ----   nan\n",
            "3  ---  0  ---  1.4 <class 'str'>   ----   3728.22   ----   4684.4989124985395\n",
            "44909  ---  17081  ---  10 <class 'str'>   ----   44859.02509229748   ----   78264.44642573356\n",
            "49315  ---  18479  ---  11 <class 'str'>   ----   47290.90591604929   ----   83666.04396698915\n",
            "49606  ---  18955  ---  12 <class 'str'>   ----   48476.35609563372   ----   86519.13448507237\n",
            "47885  ---  18627  ---  13 <class 'str'>   ----   49791.99770700648   ----   88482.22823248347\n",
            "48056  ---  18272  ---  14 <class 'str'>   ----   51965.37395600992   ----   92667.43069950797\n",
            "46804  ---  17636  ---  15 <class 'str'>   ----   52878.72946372096   ----   94736.09079406636\n",
            "44872  ---  17048  ---  16 <class 'str'>   ----   54501.69342195591   ----   97456.4240370417\n",
            "41893  ---  15854  ---  17 <class 'str'>   ----   56865.12372496576   ----   102316.01898583045\n",
            "38557  ---  14871  ---  18 <class 'str'>   ----   57817.113751847886   ----   106032.39298182583\n",
            "36142  ---  13639  ---  19 <class 'str'>   ----   58707.82682585303   ----   107402.25613504829\n",
            "1  ---  4  ---  2 <class 'str'>   ----   3048.91   ----   nan\n",
            "9  ---  6  ---  2.1 <class 'str'>   ----   8650.326666666668   ----   11557.121554437766\n",
            "22  ---  13  ---  2.8 <class 'str'>   ----   20568.94681818182   ----   28694.24257504803\n",
            "32556  ---  12389  ---  20 <class 'str'>   ----   61372.74111469477   ----   110995.09729648058\n",
            "28332  ---  10838  ---  21 <class 'str'>   ----   61991.120391430115   ----   114095.0616758057\n",
            "24796  ---  9381  ---  22 <class 'str'>   ----   64290.35046257512   ----   118649.19933612955\n",
            "20618  ---  7859  ---  23 <class 'str'>   ----   66614.78755213847   ----   120096.33041698685\n",
            "17564  ---  6683  ---  24 <class 'str'>   ----   67461.49978307905   ----   123187.29201863264\n",
            "13966  ---  5334  ---  25 <class 'str'>   ----   70792.20222826849   ----   133929.21424719683\n",
            "11302  ---  4246  ---  26 <class 'str'>   ----   74075.38647672987   ----   137873.68315585496\n",
            "8611  ---  3182  ---  27 <class 'str'>   ----   70059.04193821854   ----   125863.23823762711\n",
            "6533  ---  2648  ---  28 <class 'str'>   ----   78081.25745905396   ----   144477.25241726523\n",
            "4903  ---  1912  ---  29 <class 'str'>   ----   74728.30864164827   ----   135314.3632052351\n",
            "20  ---  7  ---  3 <class 'str'>   ----   18876.373000000003   ----   20749.655391537697\n",
            "139  ---  48  ---  3.5 <class 'str'>   ----   26429.346618705036   ----   36173.66200146716\n",
            "3518  ---  1407  ---  30 <class 'str'>   ----   83243.52899374643   ----   153568.9560288003\n",
            "2667  ---  971  ---  31 <class 'str'>   ----   76863.32511436073   ----   147702.38701666778\n",
            "1803  ---  716  ---  32 <class 'str'>   ----   86687.74741541866   ----   166331.0717908888\n",
            "1261  ---  473  ---  33 <class 'str'>   ----   89275.1754401269   ----   156291.7218289598\n",
            "888  ---  301  ---  34 <class 'str'>   ----   79133.327759009   ----   151422.41590388716\n",
            "535  ---  186  ---  35 <class 'str'>   ----   100654.23560747663   ----   197825.74940471863\n",
            "334  ---  140  ---  36 <class 'str'>   ----   81423.70281437125   ----   158394.8207701219\n",
            "228  ---  88  ---  37 <class 'str'>   ----   84330.6767982456   ----   193540.71777862587\n",
            "124  ---  45  ---  38 <class 'str'>   ----   102279.36629032258   ----   249602.77022785036\n",
            "66  ---  27  ---  39 <class 'str'>   ----   109355.66621212123   ----   167253.83196341098\n",
            "86  ---  27  ---  4 <class 'str'>   ----   19290.76918604651   ----   34184.36765724006\n",
            "558  ---  202  ---  4.2 <class 'str'>   ----   33434.30112903226   ----   62049.270210953575\n",
            "1961  ---  745  ---  4.9 <class 'str'>   ----   38186.60136664972   ----   62516.33026289019\n",
            "56  ---  22  ---  40 <class 'str'>   ----   94425.54785714285   ----   139175.26600705367\n",
            "19  ---  12  ---  41 <class 'str'>   ----   38087.44105263158   ----   44861.83867280927\n",
            "17  ---  1  ---  42 <class 'str'>   ----   76789.86882352941   ----   127887.69329023515\n",
            "7  ---  1  ---  43 <class 'str'>   ----   29009.412857142856   ----   24664.521006784023\n",
            "4  ---  1  ---  44 <class 'str'>   ----   97976.2   ----   165549.7143873024\n",
            "1  ---  4  ---  45 <class 'str'>   ----   5656.69   ----   nan\n",
            "1  ---  0  ---  48 <class 'str'>   ----   56575.42   ----   nan\n",
            "315  ---  109  ---  5 <class 'str'>   ----   35426.55533333333   ----   49110.72476649173\n",
            "4827  ---  1927  ---  5.6 <class 'str'>   ----   39921.730934327825   ----   69105.25732812194\n",
            "1380  ---  487  ---  6 <class 'str'>   ----   32241.508318840584   ----   51906.64972154936\n",
            "8603  ---  3292  ---  6.3 <class 'str'>   ----   41772.39706381491   ----   68880.59847325455\n",
            "4474  ---  1782  ---  7 <class 'str'>   ----   37237.42000670536   ----   66318.48504755864\n",
            "12548  ---  4841  ---  8 <class 'str'>   ----   43420.23571166713   ----   76115.70020442562\n",
            "24382  ---  9309  ---  9 <class 'str'>   ----   44291.40458699032   ----   78387.48214996266\n",
            "1  ---  0  ---  0.0 <class 'float'>   ----   544105.0   ----   nan\n",
            "1  ---  0  ---  0.7 <class 'float'>   ----   2972.86   ----   nan\n",
            "2  ---  0  ---  2.0 <class 'float'>   ----   105331.325   ----   47131.064058071606\n",
            "3  ---  2  ---  2.1 <class 'float'>   ----   20259.653333333332   ----   29644.541372182386\n",
            "23  ---  4  ---  2.8 <class 'float'>   ----   55140.50999999999   ----   57334.126385483614\n",
            "4  ---  4  ---  3.0 <class 'float'>   ----   98167.3925   ----   121684.16856535237\n",
            "66  ---  19  ---  3.5 <class 'float'>   ----   67171.18454545455   ----   71098.53405310777\n",
            "32  ---  13  ---  4.0 <class 'float'>   ----   33612.494374999995   ----   45358.2140170359\n",
            "310  ---  85  ---  4.2 <class 'float'>   ----   52803.126419354856   ----   75792.87490671981\n",
            "1060  ---  283  ---  4.9 <class 'float'>   ----   59484.82095283011   ----   81842.83745126064\n",
            "185  ---  53  ---  5.0 <class 'float'>   ----   46872.67281081081   ----   68312.25771544121\n",
            "2677  ---  747  ---  5.6 <class 'float'>   ----   65014.72549122133   ----   84376.4505382631\n",
            "865  ---  204  ---  6.0 <class 'float'>   ----   54843.49017341038   ----   70779.290298429\n",
            "4480  ---  1368  ---  6.3 <class 'float'>   ----   70620.69804910733   ----   93651.20374241007\n",
            "2443  ---  786  ---  7.0 <class 'float'>   ----   61245.43266884983   ----   79487.28996362613\n",
            "6514  ---  1953  ---  8.0 <class 'float'>   ----   73364.65821768511   ----   93054.16706634268\n",
            "12857  ---  3809  ---  9.0 <class 'float'>   ----   73382.44509138989   ----   98202.6151014316\n",
            "23442  ---  7086  ---  10.0 <class 'float'>   ----   75367.9032369256   ----   101081.3839563195\n",
            "25879  ---  7631  ---  11.0 <class 'float'>   ----   78013.1174523745   ----   102697.904031128\n",
            "26056  ---  7500  ---  12.0 <class 'float'>   ----   80864.28861452309   ----   105899.67198326584\n",
            "25662  ---  7682  ---  13.0 <class 'float'>   ----   85686.8534085422   ----   112426.62789902932\n",
            "24536  ---  7496  ---  14.0 <class 'float'>   ----   88097.69820141855   ----   114812.3023956041\n",
            "24553  ---  7244  ---  15.0 <class 'float'>   ----   89241.97375106894   ----   115828.11079103414\n",
            "22972  ---  6924  ---  16.0 <class 'float'>   ----   94291.90930785326   ----   123216.8184613983\n",
            "22079  ---  6582  ---  17.0 <class 'float'>   ----   96371.30447348123   ----   125667.09618505377\n",
            "20234  ---  6100  ---  18.0 <class 'float'>   ----   97202.64719482101   ----   128503.28064344506\n",
            "18913  ---  5545  ---  19.0 <class 'float'>   ----   101255.30550309354   ----   131052.99514789338\n",
            "17109  ---  5068  ---  20.0 <class 'float'>   ----   103138.06227190334   ----   133094.1604636286\n",
            "14507  ---  4468  ---  21.0 <class 'float'>   ----   107821.4928682708   ----   138078.61438091792\n",
            "12731  ---  3904  ---  22.0 <class 'float'>   ----   109300.3094438773   ----   141833.90324868762\n",
            "11038  ---  3211  ---  23.0 <class 'float'>   ----   114433.78586609916   ----   148242.9713846943\n",
            "8983  ---  2691  ---  24.0 <class 'float'>   ----   123137.13354669957   ----   156980.9005655368\n",
            "7432  ---  2176  ---  25.0 <class 'float'>   ----   119733.51236410104   ----   156239.7470399556\n",
            "5789  ---  1765  ---  26.0 <class 'float'>   ----   126319.5341855241   ----   163425.2431164918\n",
            "4661  ---  1323  ---  27.0 <class 'float'>   ----   131628.6884853035   ----   165851.90856220445\n",
            "3426  ---  1043  ---  28.0 <class 'float'>   ----   131096.04817571514   ----   166756.42150117885\n",
            "2582  ---  779  ---  29.0 <class 'float'>   ----   128444.72822618106   ----   170079.8823110141\n",
            "2026  ---  578  ---  30.0 <class 'float'>   ----   142551.1747877591   ----   184089.68946616218\n",
            "1372  ---  367  ---  31.0 <class 'float'>   ----   144615.9106632651   ----   193279.5083597728\n",
            "1055  ---  272  ---  32.0 <class 'float'>   ----   146739.00212322277   ----   193576.15068872916\n",
            "669  ---  193  ---  33.0 <class 'float'>   ----   149215.33920777283   ----   179768.64257347982\n",
            "466  ---  122  ---  34.0 <class 'float'>   ----   142327.50465665234   ----   202995.0674691651\n",
            "286  ---  80  ---  35.0 <class 'float'>   ----   137857.66199300694   ----   218082.82212295634\n",
            "199  ---  56  ---  36.0 <class 'float'>   ----   131798.0379899498   ----   173119.53081786702\n",
            "132  ---  31  ---  37.0 <class 'float'>   ----   155394.61666666673   ----   195562.76039192165\n",
            "57  ---  24  ---  38.0 <class 'float'>   ----   190479.8414035088   ----   237244.24190220272\n",
            "33  ---  8  ---  39.0 <class 'float'>   ----   122339.49454545454   ----   134709.05812472414\n",
            "23  ---  8  ---  40.0 <class 'float'>   ----   266524.1060869565   ----   273227.4659980469\n",
            "8  ---  3  ---  41.0 <class 'float'>   ----   128595.88124999999   ----   297559.1761700169\n",
            "7  ---  1  ---  42.0 <class 'float'>   ----   75447.20142857144   ----   109338.97193245943\n",
            "3  ---  1  ---  43.0 <class 'float'>   ----   43569.96   ----   21045.716350067534\n",
            "3  ---  1  ---  44.0 <class 'float'>   ----   20943.32666666667   ----   10523.79059571851\n",
            "1  ---  0  ---  45.0 <class 'float'>   ----   16470.83   ----   nan\n",
            "1  ---  0  ---  47.0 <class 'float'>   ----   437490.02   ----   nan\n",
            "sum of count   train :  1048574    test :  369436\n",
            " test contents counts \n",
            " train     test      WorkExp\n",
            "48  ---  15  ---  #NUM! <class 'str'>   ----   544474.4583333334   ----   311.7412974323784\n",
            "44909  ---  17081  ---  10 <class 'str'>   ----   44859.02509229748   ----   78264.44642573356\n",
            "49315  ---  18479  ---  11 <class 'str'>   ----   47290.90591604929   ----   83666.04396698915\n",
            "49606  ---  18955  ---  12 <class 'str'>   ----   48476.35609563372   ----   86519.13448507237\n",
            "47885  ---  18627  ---  13 <class 'str'>   ----   49791.99770700648   ----   88482.22823248347\n",
            "48056  ---  18272  ---  14 <class 'str'>   ----   51965.37395600992   ----   92667.43069950797\n",
            "46804  ---  17636  ---  15 <class 'str'>   ----   52878.72946372096   ----   94736.09079406636\n",
            "44872  ---  17048  ---  16 <class 'str'>   ----   54501.69342195591   ----   97456.4240370417\n",
            "41893  ---  15854  ---  17 <class 'str'>   ----   56865.12372496576   ----   102316.01898583045\n",
            "38557  ---  14871  ---  18 <class 'str'>   ----   57817.113751847886   ----   106032.39298182583\n",
            "36142  ---  13639  ---  19 <class 'str'>   ----   58707.82682585303   ----   107402.25613504829\n",
            "1  ---  4  ---  2 <class 'str'>   ----   3048.91   ----   nan\n",
            "9  ---  6  ---  2.1 <class 'str'>   ----   8650.326666666668   ----   11557.121554437766\n",
            "22  ---  13  ---  2.8 <class 'str'>   ----   20568.94681818182   ----   28694.24257504803\n",
            "32556  ---  12389  ---  20 <class 'str'>   ----   61372.74111469477   ----   110995.09729648058\n",
            "28332  ---  10838  ---  21 <class 'str'>   ----   61991.120391430115   ----   114095.0616758057\n",
            "24796  ---  9381  ---  22 <class 'str'>   ----   64290.35046257512   ----   118649.19933612955\n",
            "20618  ---  7859  ---  23 <class 'str'>   ----   66614.78755213847   ----   120096.33041698685\n",
            "17564  ---  6683  ---  24 <class 'str'>   ----   67461.49978307905   ----   123187.29201863264\n",
            "13966  ---  5334  ---  25 <class 'str'>   ----   70792.20222826849   ----   133929.21424719683\n",
            "11302  ---  4246  ---  26 <class 'str'>   ----   74075.38647672987   ----   137873.68315585496\n",
            "8611  ---  3182  ---  27 <class 'str'>   ----   70059.04193821854   ----   125863.23823762711\n",
            "6533  ---  2648  ---  28 <class 'str'>   ----   78081.25745905396   ----   144477.25241726523\n",
            "4903  ---  1912  ---  29 <class 'str'>   ----   74728.30864164827   ----   135314.3632052351\n",
            "20  ---  7  ---  3 <class 'str'>   ----   18876.373000000003   ----   20749.655391537697\n",
            "139  ---  48  ---  3.5 <class 'str'>   ----   26429.346618705036   ----   36173.66200146716\n",
            "3518  ---  1407  ---  30 <class 'str'>   ----   83243.52899374643   ----   153568.9560288003\n",
            "2667  ---  971  ---  31 <class 'str'>   ----   76863.32511436073   ----   147702.38701666778\n",
            "1803  ---  716  ---  32 <class 'str'>   ----   86687.74741541866   ----   166331.0717908888\n",
            "1261  ---  473  ---  33 <class 'str'>   ----   89275.1754401269   ----   156291.7218289598\n",
            "888  ---  301  ---  34 <class 'str'>   ----   79133.327759009   ----   151422.41590388716\n",
            "535  ---  186  ---  35 <class 'str'>   ----   100654.23560747663   ----   197825.74940471863\n",
            "334  ---  140  ---  36 <class 'str'>   ----   81423.70281437125   ----   158394.8207701219\n",
            "228  ---  88  ---  37 <class 'str'>   ----   84330.6767982456   ----   193540.71777862587\n",
            "124  ---  45  ---  38 <class 'str'>   ----   102279.36629032258   ----   249602.77022785036\n",
            "66  ---  27  ---  39 <class 'str'>   ----   109355.66621212123   ----   167253.83196341098\n",
            "86  ---  27  ---  4 <class 'str'>   ----   19290.76918604651   ----   34184.36765724006\n",
            "558  ---  202  ---  4.2 <class 'str'>   ----   33434.30112903226   ----   62049.270210953575\n",
            "1961  ---  745  ---  4.9 <class 'str'>   ----   38186.60136664972   ----   62516.33026289019\n",
            "56  ---  22  ---  40 <class 'str'>   ----   94425.54785714285   ----   139175.26600705367\n",
            "19  ---  12  ---  41 <class 'str'>   ----   38087.44105263158   ----   44861.83867280927\n",
            "17  ---  1  ---  42 <class 'str'>   ----   76789.86882352941   ----   127887.69329023515\n",
            "7  ---  1  ---  43 <class 'str'>   ----   29009.412857142856   ----   24664.521006784023\n",
            "4  ---  1  ---  44 <class 'str'>   ----   97976.2   ----   165549.7143873024\n",
            "1  ---  4  ---  45 <class 'str'>   ----   5656.69   ----   nan\n",
            "0  ---  1  ---  47 <class 'str'>   ----   nan   ----   nan\n",
            "315  ---  109  ---  5 <class 'str'>   ----   35426.55533333333   ----   49110.72476649173\n",
            "4827  ---  1927  ---  5.6 <class 'str'>   ----   39921.730934327825   ----   69105.25732812194\n",
            "1380  ---  487  ---  6 <class 'str'>   ----   32241.508318840584   ----   51906.64972154936\n",
            "8603  ---  3292  ---  6.3 <class 'str'>   ----   41772.39706381491   ----   68880.59847325455\n",
            "4474  ---  1782  ---  7 <class 'str'>   ----   37237.42000670536   ----   66318.48504755864\n",
            "12548  ---  4841  ---  8 <class 'str'>   ----   43420.23571166713   ----   76115.70020442562\n",
            "24382  ---  9309  ---  9 <class 'str'>   ----   44291.40458699032   ----   78387.48214996266\n",
            "0  ---  1  ---  1.4 <class 'float'>   ----   nan   ----   nan\n",
            "3  ---  2  ---  2.1 <class 'float'>   ----   20259.653333333332   ----   29644.541372182386\n",
            "23  ---  4  ---  2.8 <class 'float'>   ----   55140.50999999999   ----   57334.126385483614\n",
            "4  ---  4  ---  3.0 <class 'float'>   ----   98167.3925   ----   121684.16856535237\n",
            "66  ---  19  ---  3.5 <class 'float'>   ----   67171.18454545455   ----   71098.53405310777\n",
            "32  ---  13  ---  4.0 <class 'float'>   ----   33612.494374999995   ----   45358.2140170359\n",
            "310  ---  85  ---  4.2 <class 'float'>   ----   52803.126419354856   ----   75792.87490671981\n",
            "1060  ---  283  ---  4.9 <class 'float'>   ----   59484.82095283011   ----   81842.83745126064\n",
            "185  ---  53  ---  5.0 <class 'float'>   ----   46872.67281081081   ----   68312.25771544121\n",
            "2677  ---  747  ---  5.6 <class 'float'>   ----   65014.72549122133   ----   84376.4505382631\n",
            "865  ---  204  ---  6.0 <class 'float'>   ----   54843.49017341038   ----   70779.290298429\n",
            "4480  ---  1368  ---  6.3 <class 'float'>   ----   70620.69804910733   ----   93651.20374241007\n",
            "2443  ---  786  ---  7.0 <class 'float'>   ----   61245.43266884983   ----   79487.28996362613\n",
            "6514  ---  1953  ---  8.0 <class 'float'>   ----   73364.65821768511   ----   93054.16706634268\n",
            "12857  ---  3809  ---  9.0 <class 'float'>   ----   73382.44509138989   ----   98202.6151014316\n",
            "23442  ---  7086  ---  10.0 <class 'float'>   ----   75367.9032369256   ----   101081.3839563195\n",
            "25879  ---  7631  ---  11.0 <class 'float'>   ----   78013.1174523745   ----   102697.904031128\n",
            "26056  ---  7500  ---  12.0 <class 'float'>   ----   80864.28861452309   ----   105899.67198326584\n",
            "25662  ---  7682  ---  13.0 <class 'float'>   ----   85686.8534085422   ----   112426.62789902932\n",
            "24536  ---  7496  ---  14.0 <class 'float'>   ----   88097.69820141855   ----   114812.3023956041\n",
            "24553  ---  7244  ---  15.0 <class 'float'>   ----   89241.97375106894   ----   115828.11079103414\n",
            "22972  ---  6924  ---  16.0 <class 'float'>   ----   94291.90930785326   ----   123216.8184613983\n",
            "22079  ---  6582  ---  17.0 <class 'float'>   ----   96371.30447348123   ----   125667.09618505377\n",
            "20234  ---  6100  ---  18.0 <class 'float'>   ----   97202.64719482101   ----   128503.28064344506\n",
            "18913  ---  5545  ---  19.0 <class 'float'>   ----   101255.30550309354   ----   131052.99514789338\n",
            "17109  ---  5068  ---  20.0 <class 'float'>   ----   103138.06227190334   ----   133094.1604636286\n",
            "14507  ---  4468  ---  21.0 <class 'float'>   ----   107821.4928682708   ----   138078.61438091792\n",
            "12731  ---  3904  ---  22.0 <class 'float'>   ----   109300.3094438773   ----   141833.90324868762\n",
            "11038  ---  3211  ---  23.0 <class 'float'>   ----   114433.78586609916   ----   148242.9713846943\n",
            "8983  ---  2691  ---  24.0 <class 'float'>   ----   123137.13354669957   ----   156980.9005655368\n",
            "7432  ---  2176  ---  25.0 <class 'float'>   ----   119733.51236410104   ----   156239.7470399556\n",
            "5789  ---  1765  ---  26.0 <class 'float'>   ----   126319.5341855241   ----   163425.2431164918\n",
            "4661  ---  1323  ---  27.0 <class 'float'>   ----   131628.6884853035   ----   165851.90856220445\n",
            "3426  ---  1043  ---  28.0 <class 'float'>   ----   131096.04817571514   ----   166756.42150117885\n",
            "2582  ---  779  ---  29.0 <class 'float'>   ----   128444.72822618106   ----   170079.8823110141\n",
            "2026  ---  578  ---  30.0 <class 'float'>   ----   142551.1747877591   ----   184089.68946616218\n",
            "1372  ---  367  ---  31.0 <class 'float'>   ----   144615.9106632651   ----   193279.5083597728\n",
            "1055  ---  272  ---  32.0 <class 'float'>   ----   146739.00212322277   ----   193576.15068872916\n",
            "669  ---  193  ---  33.0 <class 'float'>   ----   149215.33920777283   ----   179768.64257347982\n",
            "466  ---  122  ---  34.0 <class 'float'>   ----   142327.50465665234   ----   202995.0674691651\n",
            "286  ---  80  ---  35.0 <class 'float'>   ----   137857.66199300694   ----   218082.82212295634\n",
            "199  ---  56  ---  36.0 <class 'float'>   ----   131798.0379899498   ----   173119.53081786702\n",
            "132  ---  31  ---  37.0 <class 'float'>   ----   155394.61666666673   ----   195562.76039192165\n",
            "57  ---  24  ---  38.0 <class 'float'>   ----   190479.8414035088   ----   237244.24190220272\n",
            "33  ---  8  ---  39.0 <class 'float'>   ----   122339.49454545454   ----   134709.05812472414\n",
            "23  ---  8  ---  40.0 <class 'float'>   ----   266524.1060869565   ----   273227.4659980469\n",
            "8  ---  3  ---  41.0 <class 'float'>   ----   128595.88124999999   ----   297559.1761700169\n",
            "7  ---  1  ---  42.0 <class 'float'>   ----   75447.20142857144   ----   109338.97193245943\n",
            "3  ---  1  ---  43.0 <class 'float'>   ----   43569.96   ----   21045.716350067534\n",
            "3  ---  1  ---  44.0 <class 'float'>   ----   20943.32666666667   ----   10523.79059571851\n",
            "sum of count   train :  1048563    test :  369438\n",
            "2.0\n",
            "2.0\n",
            "61245.43266884983  ---  7.0 <class 'float'>\n",
            "37237.42000670536  ---  7 <class 'str'>\n",
            "96371.30447348123  ---  17.0 <class 'float'>\n",
            "56865.12372496576  ---  17 <class 'str'>\n",
            "131628.6884853035  ---  27.0 <class 'float'>\n",
            "70059.04193821854  ---  27 <class 'str'>\n",
            "155394.61666666673  ---  37.0 <class 'float'>\n",
            "84330.6767982456  ---  37 <class 'str'>\n",
            "544474.4583333334  ---  #NUM! <class 'str'>\n",
            "2020-07-28 17:24:19.848954\n"
          ],
          "name": "stdout"
        }
      ]
    },
    {
      "cell_type": "code",
      "metadata": {
        "id": "_zKKWFFGD7BJ",
        "colab_type": "code",
        "colab": {
          "base_uri": "https://localhost:8080/",
          "height": 35
        },
        "outputId": "91af2d05-1607-44a6-d54c-96921f39a5bf"
      },
      "source": [
        "# string and number comparison \n",
        "# - have to be carefuel that python is not being too clever \n",
        "'''\n",
        "if 7.0 == '7.0' : \n",
        "  print ('Is equal!')\n",
        "else : \n",
        "  print ('not equal!')\n",
        "\n",
        "print(dt.now())\n",
        "'''"
      ],
      "execution_count": 29,
      "outputs": [
        {
          "output_type": "execute_result",
          "data": {
            "application/vnd.google.colaboratory.intrinsic+json": {
              "type": "string"
            },
            "text/plain": [
              "\"\\nif 7.0 == '7.0' : \\n  print ('Is equal!')\\nelse : \\n  print ('not equal!')\\n\\nprint(dt.now())\\n\""
            ]
          },
          "metadata": {
            "tags": []
          },
          "execution_count": 29
        }
      ]
    },
    {
      "cell_type": "code",
      "metadata": {
        "id": "IO2VA0Mexyqw",
        "colab_type": "code",
        "colab": {
          "base_uri": "https://localhost:8080/",
          "height": 255
        },
        "outputId": "e742e83a-4d39-40a2-f5fb-69379be57c07"
      },
      "source": [
        "# implement mean encoding for WorkExp\n",
        "# what of teh two that are in test but not in train \n",
        "# which are 1.4 <class 'float'> & 47  <class 'str'>\n",
        "# either global mean encode or mean of either side - which - pref for more manual either side approach\n",
        "# initially just pick better of either side 47  <class 'str'>\n",
        "\n",
        "#build a map and then use it \n",
        "mean_encode = train_df.groupby('WorkExp')['Income'].mean()\n",
        "# print (mean_encode)\n",
        "# print (type(mean_encode))\n",
        "\n",
        "extras = pd.Series ([20259.65,56575.42], index=[1.4, '47'])\n",
        "# print (extras)\n",
        "\n",
        "mean_encode = mean_encode.append(extras)\n",
        "# print (mean_encode)\n",
        "# print (type(mean_encode))\n",
        "\n",
        "train_df.loc[:, 'WorkExpEnc1'] = train_df['WorkExp'].map(mean_encode)\n",
        "\n",
        "test_df.loc[:, 'WorkExpEnc1'] = test_df['WorkExp'].map(mean_encode)\n",
        "\n",
        "print (train_df.columns)\n",
        "print (test_df.columns)\n",
        "\n",
        "print (\"\\n 17 WorkExpEnc1 : \",\n",
        "       pearsonr(train_df[ 'WorkExpEnc1'], train_df['Income']),\n",
        "       spearmanr(train_df[ 'WorkExpEnc1'], train_df['Income']),\n",
        "       \"  -  not much correlation despite mean encoding \\n\")\n",
        "\n",
        "print(dt.now())"
      ],
      "execution_count": 30,
      "outputs": [
        {
          "output_type": "stream",
          "text": [
            "Index(['Instance', 'Year', 'Housing', 'CrimeLevel', 'WorkExp', 'Satisfaction',\n",
            "       'Gender', 'Age', 'Country', 'CitySize', 'Profession', 'Degree',\n",
            "       'Glasses', 'Hair', 'Height', 'AdditionalIncome', 'Income',\n",
            "       'InstanceEnc', 'YearEnc', 'HousingEnc1', 'HousingEnc', 'WorkExpEnc1'],\n",
            "      dtype='object')\n",
            "Index(['Instance', 'Year', 'Housing', 'CrimeLevel', 'WorkExp', 'Satisfaction',\n",
            "       'Gender', 'Age', 'Country', 'CitySize', 'Profession', 'Degree',\n",
            "       'Glasses', 'Hair', 'Height', 'AdditionalIncome', 'Income',\n",
            "       'InstanceEnc', 'YearEnc', 'HousingEnc1', 'HousingEnc', 'WorkExpEnc1'],\n",
            "      dtype='object')\n",
            "\n",
            " 17 WorkExpEnc1 :  (0.2007371563551865, 0.0) SpearmanrResult(correlation=0.19425821486433636, pvalue=0.0)   -  not much correlation despite mean encoding \n",
            "\n",
            "2020-07-28 17:24:44.238125\n"
          ],
          "name": "stdout"
        }
      ]
    },
    {
      "cell_type": "code",
      "metadata": {
        "id": "0fe2PDYuxyl6",
        "colab_type": "code",
        "colab": {}
      },
      "source": [
        ""
      ],
      "execution_count": null,
      "outputs": []
    },
    {
      "cell_type": "code",
      "metadata": {
        "id": "2sAHKEqbxygH",
        "colab_type": "code",
        "colab": {
          "base_uri": "https://localhost:8080/",
          "height": 68
        },
        "outputId": "9612b90e-03cb-4e0d-f436-15d1739b8772"
      },
      "source": [
        "# encode Work Exp as a scaled value : \n",
        "\n",
        "# WorkExp \n",
        "# encode as a scaled value \n",
        "\n",
        "'''\n",
        "print (\"Initial : \" )\n",
        "print (\"  max : \")\n",
        "print (\"    \", train_df.WorkExpEnc1.max(), test_df.WorkExpEnc1.max())\n",
        "maxWorkExp = max(train_df.WorkExpEnc1.max(), test_df.WorkExpEnc1.max())\n",
        "print (\"    \", maxWorkExp) \n",
        "\n",
        "print (\"  min : \")\n",
        "print (\"    \",train_df.WorkExpEnc1.min(), test_df.WorkExpEnc1.min())\n",
        "minWorkExp = min(train_df.WorkExpEnc1.min(), test_df.WorkExpEnc1.min())\n",
        "print (\"    \", minWorkExp)\n",
        "\n",
        "rangeWorkExp = maxWorkExp - minWorkExp\n",
        "train_df.loc[:, 'WorkExpEnc'] = (train_df['WorkExpEnc']-minWorkExp) / rangeWorkExp\n",
        "\n",
        "test_df.loc[:, 'WorkExpEnc'] = (test_df['WorkExpEnc1']-minWorkExp) / rangeWorkExp\n",
        "\n",
        "print (\"\\nEncoded : \" )\n",
        "print (\"  max : \")\n",
        "print (\"    \", train_df.WorkExpEnc.max(), test_df.WorkExpEnc.max())\n",
        "maxWorkExpEnc = max(train_df.WorkExpEnc.max(), test_df.WorkExpEnc.max())\n",
        "print (\"    \", maxWorkExpEnc) \n",
        "\n",
        "print (\"  min : \")\n",
        "print (\"    \",train_df.WorkExpEnc.min(), test_df.WorkExpEnc.min())\n",
        "minWorkExpEnc = min(train_df.WorkExpEnc.min(), test_df.WorkExpEnc.min())\n",
        "print (\"    \", minWorkExpEnc)\n",
        "'''\n",
        "\n",
        "train_df[ 'WorkExpEnc'], test_df[ 'WorkExpEnc'] = myscale ( train_df.WorkExpEnc1, test_df.WorkExpEnc1 ) \n",
        "\n",
        "# and check correlation is preserved\n",
        "\n",
        "print (\" 5 WorkExp : \",\n",
        "       pearsonr(train_df[ 'WorkExpEnc'], train_df['Income']),\n",
        "       spearmanr(train_df[ 'WorkExpEnc'], train_df['Income']),\n",
        "       \"  -  slight corelation \\n\")\n",
        "\n",
        "print(dt.now())"
      ],
      "execution_count": 31,
      "outputs": [
        {
          "output_type": "stream",
          "text": [
            " 5 WorkExp :  (0.20073715635518646, 0.0) SpearmanrResult(correlation=0.19425821486433636, pvalue=0.0)   -  slight corelation \n",
            "\n",
            "2020-07-28 17:24:54.561486\n"
          ],
          "name": "stdout"
        }
      ]
    },
    {
      "cell_type": "code",
      "metadata": {
        "id": "N1ZStymtxycg",
        "colab_type": "code",
        "colab": {
          "base_uri": "https://localhost:8080/",
          "height": 136
        },
        "outputId": "d9410c43-e891-418f-dcd3-ed4b2489a4b0"
      },
      "source": [
        "###############################################\n",
        "#@title            Satisfaction               #\n",
        "###############################################\n",
        "\n",
        "\n",
        "# Satisfaction\n",
        "print (\"train_df :\")\n",
        "print( train_df.Satisfaction.unique() )\n",
        "\n",
        "print (\"\\n test_df :\")\n",
        "print ( test_df.Satisfaction.unique() )\n",
        "\n",
        "print(\"\\n\", dt.now())\n"
      ],
      "execution_count": 32,
      "outputs": [
        {
          "output_type": "stream",
          "text": [
            "train_df :\n",
            "['Unhappy' 'Average' 'Happy' 'Somewhat Happy' nan]\n",
            "\n",
            " test_df :\n",
            "['Average' 'Happy' 'Somewhat Happy' nan 'Unhappy']\n",
            "\n",
            " 2020-07-28 17:25:00.450683\n"
          ],
          "name": "stdout"
        }
      ]
    },
    {
      "cell_type": "code",
      "metadata": {
        "id": "3s6VTzxZmPdP",
        "colab_type": "code",
        "colab": {
          "base_uri": "https://localhost:8080/",
          "height": 289
        },
        "outputId": "30a4b3d9-2650-4ce7-b64a-ea72d4d4eddd"
      },
      "source": [
        "\n",
        "satisfactioncount = 0\n",
        "satisfactioncounttest = 0\n",
        "\n",
        "for i in train_df.Satisfaction.unique() :\n",
        "  thiscount = train_df.loc[train_df.Satisfaction == i].Instance.count()\n",
        "  thiscounttest = test_df.loc[test_df.Satisfaction == i].Instance.count()\n",
        "  thismean = train_df.loc[train_df.Satisfaction == i].Income.mean()\n",
        "  thisstd = train_df.loc[train_df.Satisfaction == i].Income.std()\n",
        "  satisfactioncount += thiscount\n",
        "  satisfactioncounttest += thiscounttest\n",
        "  print ( thiscount, \" --- \", thiscounttest, \" --- \", i, type(i), \"  ----  \", thismean, \"  ----  \", thisstd )\n",
        "\n",
        "print(\"record count   train : \", len(train_df.Instance), '   test : ', len(test_df.Instance) )\n",
        "print(\"sum of count   train : \", satisfactioncount, '   test : ', satisfactioncounttest )\n",
        "\n",
        "# replace the NANs with \"Undecided\"\n",
        "train_df[\"Satisfaction\"].fillna(\"Undecided\", inplace = True) \n",
        "test_df[\"Satisfaction\"].fillna(\"Undecided\", inplace = True) \n",
        "\n",
        "satisfactioncount = 0\n",
        "satisfactioncounttest = 0\n",
        "\n",
        "for i in train_df.Satisfaction.unique() :\n",
        "  thiscount = train_df.loc[train_df.Satisfaction == i].Instance.count()\n",
        "  thiscounttest = test_df.loc[test_df.Satisfaction == i].Instance.count()\n",
        "  thismean = train_df.loc[train_df.Satisfaction == i].Income.mean()\n",
        "  thisstd = train_df.loc[train_df.Satisfaction == i].Income.std()\n",
        "  satisfactioncount += thiscount\n",
        "  satisfactioncounttest += thiscounttest\n",
        "  print ( thiscount, \" --- \", thiscounttest, \" --- \", i, type(i), \"  ----  \", thismean, \"  ----  \", thisstd )\n",
        "\n",
        "print(\"record count   train : \", len(train_df.Instance), '   test : ', len(test_df.Instance) )\n",
        "print(\"sum of count   train : \", satisfactioncount, '   test : ', satisfactioncounttest )\n",
        "\n",
        "print(\"\\n\", dt.now())"
      ],
      "execution_count": 33,
      "outputs": [
        {
          "output_type": "stream",
          "text": [
            "15201  ---  6332  ---  Unhappy <class 'str'>   ----   157393.90898625058   ----   216877.02205764758\n",
            "487634  ---  171392  ---  Average <class 'str'>   ----   65225.79279158221   ----   104786.54475298432\n",
            "351808  ---  123781  ---  Happy <class 'str'>   ----   68667.00406841355   ----   117503.32113066837\n",
            "155844  ---  54501  ---  Somewhat Happy <class 'str'>   ----   68420.2974915309   ----   98639.98180797772\n",
            "0  ---  0  ---  nan <class 'float'>   ----   nan   ----   nan\n",
            "record count   train :  1048574    test :  369438\n",
            "sum of count   train :  1010487    test :  356006\n",
            "15201  ---  6332  ---  Unhappy <class 'str'>   ----   157393.90898625058   ----   216877.02205764758\n",
            "487634  ---  171392  ---  Average <class 'str'>   ----   65225.79279158221   ----   104786.54475298432\n",
            "351808  ---  123781  ---  Happy <class 'str'>   ----   68667.00406841355   ----   117503.32113066837\n",
            "155844  ---  54501  ---  Somewhat Happy <class 'str'>   ----   68420.2974915309   ----   98639.98180797772\n",
            "38087  ---  13432  ---  Undecided <class 'str'>   ----   73993.01402368287   ----   122047.39730213898\n",
            "record count   train :  1048574    test :  369438\n",
            "sum of count   train :  1048574    test :  369438\n",
            "\n",
            " 2020-07-28 17:25:07.141029\n"
          ],
          "name": "stdout"
        }
      ]
    },
    {
      "cell_type": "code",
      "metadata": {
        "id": "HGCNTuBGmPPy",
        "colab_type": "code",
        "colab": {
          "base_uri": "https://localhost:8080/",
          "height": 425
        },
        "outputId": "c9c24a02-6d0f-46c8-9318-06c978959df8"
      },
      "source": [
        "# use mean encoding - may adjust to a smoothed mean or James-Stein later\n",
        "\n",
        "#build a map and then use it \n",
        "mean_encode = train_df.groupby('Satisfaction')['Income'].mean()\n",
        "print (mean_encode)\n",
        "\n",
        "train_df.loc[:, 'SatisfactionEnc1'] = train_df['Satisfaction'].map(mean_encode)\n",
        "\n",
        "test_df.loc[:, 'SatisfactionEnc1'] = test_df['Satisfaction'].map(mean_encode)\n",
        "\n",
        "print (train_df.columns)\n",
        "print (test_df.columns)\n",
        "\n",
        "print (\"\\n 18 SatisfactionEnc1 : \",\n",
        "       pearsonr(train_df[ 'SatisfactionEnc1'], train_df['Income']),\n",
        "       spearmanr(train_df[ 'SatisfactionEnc1'], train_df['Income']),\n",
        "       \"  -  Minimum correlation - could consider not using it - just adds noise. \\n\")\n",
        "\n",
        "print(\"\\n\", dt.now())"
      ],
      "execution_count": 34,
      "outputs": [
        {
          "output_type": "stream",
          "text": [
            "Satisfaction\n",
            "Average           65225.8\n",
            "Happy             68667.0\n",
            "Somewhat Happy    68420.3\n",
            "Undecided         73993.0\n",
            "Unhappy          157393.9\n",
            "Name: Income, dtype: float64\n",
            "Index(['Instance', 'Year', 'Housing', 'CrimeLevel', 'WorkExp', 'Satisfaction',\n",
            "       'Gender', 'Age', 'Country', 'CitySize', 'Profession', 'Degree',\n",
            "       'Glasses', 'Hair', 'Height', 'AdditionalIncome', 'Income',\n",
            "       'InstanceEnc', 'YearEnc', 'HousingEnc1', 'HousingEnc', 'WorkExpEnc1',\n",
            "       'WorkExpEnc', 'SatisfactionEnc1'],\n",
            "      dtype='object')\n",
            "Index(['Instance', 'Year', 'Housing', 'CrimeLevel', 'WorkExp', 'Satisfaction',\n",
            "       'Gender', 'Age', 'Country', 'CitySize', 'Profession', 'Degree',\n",
            "       'Glasses', 'Hair', 'Height', 'AdditionalIncome', 'Income',\n",
            "       'InstanceEnc', 'YearEnc', 'HousingEnc1', 'HousingEnc', 'WorkExpEnc1',\n",
            "       'WorkExpEnc', 'SatisfactionEnc1'],\n",
            "      dtype='object')\n",
            "\n",
            " 18 SatisfactionEnc1 :  (0.09813265344382163, 0.0) SpearmanrResult(correlation=0.0057278007006581755, pvalue=4.483120708689596e-09)   -  Minimum correlation - could consider not using it - just adds noise. \n",
            "\n",
            "\n",
            " 2020-07-28 17:25:17.871232\n"
          ],
          "name": "stdout"
        }
      ]
    },
    {
      "cell_type": "code",
      "metadata": {
        "id": "icgXte5xmPCW",
        "colab_type": "code",
        "colab": {
          "base_uri": "https://localhost:8080/",
          "height": 85
        },
        "outputId": "34d28362-9e12-4007-ca8c-67086c0e839f"
      },
      "source": [
        "# Scale the value\n",
        "train_df[ 'SatisfactionEnc'], test_df[ 'SatisfactionEnc'] = myscale ( train_df.SatisfactionEnc1, test_df.SatisfactionEnc1 ) \n",
        "\n",
        "\n",
        "\n",
        "print (\" 6 Satisfaction : \",\n",
        "       pearsonr(train_df[ 'SatisfactionEnc'], train_df['Income']),\n",
        "       spearmanr(train_df[ 'SatisfactionEnc'], train_df['Income']),\n",
        "       \"  -  Minimum correlation - could consider not using it - just adds noise. \\n\")\n",
        "\n",
        "print(\"\\n\", dt.now())"
      ],
      "execution_count": 35,
      "outputs": [
        {
          "output_type": "stream",
          "text": [
            " 6 Satisfaction :  (0.0981326534438217, 0.0) SpearmanrResult(correlation=0.0057278007006581755, pvalue=4.483120708689596e-09)   -  Minimum correlation - could consider not using it - just adds noise. \n",
            "\n",
            "\n",
            " 2020-07-28 17:25:27.631974\n"
          ],
          "name": "stdout"
        }
      ]
    },
    {
      "cell_type": "code",
      "metadata": {
        "id": "XwamLmKpmO0v",
        "colab_type": "code",
        "colab": {
          "base_uri": "https://localhost:8080/",
          "height": 136
        },
        "outputId": "7cab65e5-6c93-4eb2-ab43-e7dec5bcbeb0"
      },
      "source": [
        "###############################################\n",
        "#@title            Gender                     #\n",
        "###############################################\n",
        "\n",
        "\n",
        "# Gender\n",
        "\n",
        "print (\" train_df :\")\n",
        "print( train_df.Gender.unique() )\n",
        "\n",
        "print (\"\\n test_df :\")\n",
        "print ( test_df.Gender.unique() )\n",
        "\n",
        "print(\"\\n\", dt.now())"
      ],
      "execution_count": 36,
      "outputs": [
        {
          "output_type": "stream",
          "text": [
            " train_df :\n",
            "['other' 'female' 'male' nan 'unknown' '0' 'f']\n",
            "\n",
            " test_df :\n",
            "['other' nan 'male' 'female' 'f' 'unknown' '0']\n",
            "\n",
            " 2020-07-28 17:25:32.691779\n"
          ],
          "name": "stdout"
        }
      ]
    },
    {
      "cell_type": "code",
      "metadata": {
        "id": "xTLz9Ub1s9WH",
        "colab_type": "code",
        "colab": {
          "base_uri": "https://localhost:8080/",
          "height": 357
        },
        "outputId": "c4a7fa23-a39e-4b4a-ec43-2d22f65c4ed3"
      },
      "source": [
        "# check values and fill in NAs\n",
        "gendercount = 0\n",
        "gendercounttest = 0\n",
        "\n",
        "for i in train_df. Gender.unique() :\n",
        "  thiscount = train_df.loc[train_df.Gender == i].Instance.count()\n",
        "  thiscounttest = test_df.loc[test_df.Gender == i].Instance.count()\n",
        "  thismean = train_df.loc[train_df.Gender == i].Income.mean()\n",
        "  thisstd = train_df.loc[train_df.Gender == i].Income.std()\n",
        "  gendercount += thiscount\n",
        "  gendercounttest += thiscounttest\n",
        "  print ( thiscount, \" --- \", thiscounttest, \" --- \", i, type(i), \"  ----  \", thismean, \"  ----  \", thisstd )\n",
        "\n",
        "print(\"record count   train : \", len(train_df.Instance), '   test : ', len(test_df.Instance) )\n",
        "print(\"sum of count   train : \", gendercount, '   test : ', gendercounttest )\n",
        "\n",
        "# replace the NANs with \"Missing\"\n",
        "train_df[\"Gender\"].fillna(\"Missing\", inplace = True) \n",
        "test_df[\"Gender\"].fillna(\"Missing\", inplace = True) \n",
        "\n",
        "gendercount = 0\n",
        "gendercounttest = 0\n",
        "\n",
        "for i in train_df.Gender.unique() :\n",
        "  thiscount = train_df.loc[train_df.Gender == i].Instance.count()\n",
        "  thiscounttest = test_df.loc[test_df.Gender == i].Instance.count()\n",
        "  thismean = train_df.loc[train_df.Gender == i].Income.mean()\n",
        "  thisstd = train_df.loc[train_df.Gender == i].Income.std()\n",
        "  gendercount += thiscount\n",
        "  gendercounttest += thiscounttest\n",
        "  print ( thiscount, \" --- \", thiscounttest, \" --- \", i, type(i), \"  ----  \", thismean, \"  ----  \", thisstd )\n",
        "\n",
        "print(\"record count   train : \", len(train_df.Instance), '   test : ', len(test_df.Instance) )\n",
        "print(\"sum of count   train : \", gendercount, '   test : ', gendercounttest )\n",
        "\n",
        "print(\"\\n\", dt.now())"
      ],
      "execution_count": 37,
      "outputs": [
        {
          "output_type": "stream",
          "text": [
            "252053  ---  88688  ---  other <class 'str'>   ----   71399.96173753282   ----   116552.39298861871\n",
            "237489  ---  83235  ---  female <class 'str'>   ----   50288.77522992694   ----   77408.47423402575\n",
            "400113  ---  140972  ---  male <class 'str'>   ----   68722.11991124932   ----   112584.0842370958\n",
            "0  ---  0  ---  nan <class 'float'>   ----   nan   ----   nan\n",
            "62957  ---  22441  ---  unknown <class 'str'>   ----   72731.14825674625   ----   118511.95562548703\n",
            "6804  ---  2338  ---  0 <class 'str'>   ----   73724.88045267489   ----   121206.82804167588\n",
            "15031  ---  5456  ---  f <class 'str'>   ----   301473.25204444013   ----   185536.4971161734\n",
            "record count   train :  1048574    test :  369438\n",
            "sum of count   train :  974447    test :  343130\n",
            "252053  ---  88688  ---  other <class 'str'>   ----   71399.96173753282   ----   116552.39298861871\n",
            "237489  ---  83235  ---  female <class 'str'>   ----   50288.77522992694   ----   77408.47423402575\n",
            "400113  ---  140972  ---  male <class 'str'>   ----   68722.11991124932   ----   112584.0842370958\n",
            "74127  ---  26308  ---  Missing <class 'str'>   ----   64609.42285509966   ----   105021.21053434777\n",
            "62957  ---  22441  ---  unknown <class 'str'>   ----   72731.14825674625   ----   118511.95562548703\n",
            "6804  ---  2338  ---  0 <class 'str'>   ----   73724.88045267489   ----   121206.82804167588\n",
            "15031  ---  5456  ---  f <class 'str'>   ----   301473.25204444013   ----   185536.4971161734\n",
            "record count   train :  1048574    test :  369438\n",
            "sum of count   train :  1048574    test :  369438\n",
            "\n",
            " 2020-07-28 17:25:42.980261\n"
          ],
          "name": "stdout"
        }
      ]
    },
    {
      "cell_type": "code",
      "metadata": {
        "id": "Ll1mSl5Fs9L0",
        "colab_type": "code",
        "colab": {
          "base_uri": "https://localhost:8080/",
          "height": 459
        },
        "outputId": "25fc3b1e-1bde-4fbf-fd60-94b41c90b0aa"
      },
      "source": [
        "# use mean encoding - may adjust to a smoothed mean or James-Stein later\n",
        "\n",
        "#build a map and then use it \n",
        "mean_encode = train_df.groupby('Gender')['Income'].mean()\n",
        "print (mean_encode)\n",
        "\n",
        "train_df.loc[:, 'GenderEnc1'] = train_df['Gender'].map(mean_encode)\n",
        "\n",
        "test_df.loc[:, 'GenderEnc1'] = test_df['Gender'].map(mean_encode)\n",
        "\n",
        "print (train_df.columns)\n",
        "print (test_df.columns)\n",
        "\n",
        "print (\"\\n 18 GenderEnc1 : \",\n",
        "       pearsonr(train_df[ 'GenderEnc1'], train_df['Income']),\n",
        "       spearmanr(train_df[ 'GenderEnc1'], train_df['Income']),\n",
        "       \"  -  Small correlation - should contribute a bit. \\n\")\n",
        "\n",
        "print(\"\\n\", dt.now())"
      ],
      "execution_count": 38,
      "outputs": [
        {
          "output_type": "stream",
          "text": [
            "Gender\n",
            "0          73724.9\n",
            "Missing    64609.4\n",
            "f         301473.3\n",
            "female     50288.8\n",
            "male       68722.1\n",
            "other      71400.0\n",
            "unknown    72731.1\n",
            "Name: Income, dtype: float64\n",
            "Index(['Instance', 'Year', 'Housing', 'CrimeLevel', 'WorkExp', 'Satisfaction',\n",
            "       'Gender', 'Age', 'Country', 'CitySize', 'Profession', 'Degree',\n",
            "       'Glasses', 'Hair', 'Height', 'AdditionalIncome', 'Income',\n",
            "       'InstanceEnc', 'YearEnc', 'HousingEnc1', 'HousingEnc', 'WorkExpEnc1',\n",
            "       'WorkExpEnc', 'SatisfactionEnc1', 'SatisfactionEnc', 'GenderEnc1'],\n",
            "      dtype='object')\n",
            "Index(['Instance', 'Year', 'Housing', 'CrimeLevel', 'WorkExp', 'Satisfaction',\n",
            "       'Gender', 'Age', 'Country', 'CitySize', 'Profession', 'Degree',\n",
            "       'Glasses', 'Hair', 'Height', 'AdditionalIncome', 'Income',\n",
            "       'InstanceEnc', 'YearEnc', 'HousingEnc1', 'HousingEnc', 'WorkExpEnc1',\n",
            "       'WorkExpEnc', 'SatisfactionEnc1', 'SatisfactionEnc', 'GenderEnc1'],\n",
            "      dtype='object')\n",
            "\n",
            " 18 GenderEnc1 :  (0.2616226071599889, 0.0) SpearmanrResult(correlation=0.08366667031295193, pvalue=0.0)   -  Small correlation - should contribute a bit. \n",
            "\n",
            "\n",
            " 2020-07-28 17:25:50.840107\n"
          ],
          "name": "stdout"
        }
      ]
    },
    {
      "cell_type": "code",
      "metadata": {
        "id": "EGAtWUKDs899",
        "colab_type": "code",
        "colab": {
          "base_uri": "https://localhost:8080/",
          "height": 85
        },
        "outputId": "987d7162-f4da-4226-bc55-ccdab222047f"
      },
      "source": [
        "# Scale the value\n",
        "train_df[ 'GenderEnc'], test_df[ 'GenderEnc'] = myscale ( train_df.GenderEnc1, test_df.GenderEnc1 ) \n",
        "\n",
        "print (\" 7 Gender : \",\n",
        "       pearsonr(train_df[ 'GenderEnc'], train_df['Income']),\n",
        "       spearmanr(train_df[ 'GenderEnc'], train_df['Income']),\n",
        "       \"  -  Small correlation - should contribute a bit. \\n\")\n",
        "\n",
        "print(\"\\n\", dt.now())"
      ],
      "execution_count": 39,
      "outputs": [
        {
          "output_type": "stream",
          "text": [
            " 7 Gender :  (0.261622607159989, 0.0) SpearmanrResult(correlation=0.08366667031295193, pvalue=0.0)   -  Small correlation - should contribute a bit. \n",
            "\n",
            "\n",
            " 2020-07-28 17:25:56.264243\n"
          ],
          "name": "stdout"
        }
      ]
    },
    {
      "cell_type": "code",
      "metadata": {
        "id": "G8yCXN8amOeE",
        "colab_type": "code",
        "colab": {
          "base_uri": "https://localhost:8080/",
          "height": 1000
        },
        "outputId": "7fc0a9f3-86cd-4fe2-9bb8-57807b9fd9f2"
      },
      "source": [
        "###############################################\n",
        "#@title           Country                     #\n",
        "###############################################\n",
        "\n",
        "\n",
        "# Country\n",
        "\n",
        "print (\" train_df :\")\n",
        "print( train_df.Country.unique() )\n",
        "\n",
        "print (\"\\n test_df :\")\n",
        "print ( test_df.Country.unique() )\n",
        "\n",
        "print(\"\\n\", dt.now())"
      ],
      "execution_count": 40,
      "outputs": [
        {
          "output_type": "stream",
          "text": [
            " train_df :\n",
            "['Afghanistan' 'Albania' 'Algeria' 'Angola' 'Argentina' 'Armenia'\n",
            " 'Australia' 'Austria' 'Azerbaijan' 'Bahrain' 'Belarus' 'Belgium' 'Benin'\n",
            " 'Bhutan' 'Bolivia' 'Bosnia and Herzegovina' 'Botswana' 'Brunei'\n",
            " 'Bulgaria' 'Burkina Faso' 'Burundi' 'Cambodia' 'Cameroon' 'Canada'\n",
            " 'Central African Republic' 'Chad' 'Chile' 'Colombia' 'Comoros' 'Congo'\n",
            " 'Costa Rica' \"Côte d'Ivoire\" 'Croatia' 'Cuba' 'Cyprus' 'Czechia'\n",
            " 'Denmark' 'Djibouti' 'Dominican Republic' 'Ecuador' 'El Salvador'\n",
            " 'Equatorial Guinea' 'Eritrea' 'Estonia' 'Eswatini' 'Fiji' 'Finland'\n",
            " 'Gabon' 'Gambia' 'Georgia' 'Ghana' 'Greece' 'Grenada' 'Guatemala'\n",
            " 'Guinea' 'Guinea-Bissau' 'Guyana' 'Haiti' 'Honduras' 'Hungary' 'Iraq'\n",
            " 'Ireland' 'Israel' 'Jamaica' 'Jordan' 'Kazakhstan' 'Kenya' 'Kuwait'\n",
            " 'Kyrgyzstan' 'Laos' 'Latvia' 'Lebanon' 'Lesotho' 'Liberia' 'Libya'\n",
            " 'Lithuania' 'Luxembourg' 'Madagascar' 'Malawi' 'Malaysia' 'Maldives'\n",
            " 'Mali' 'Mauritania' 'Mauritius' 'Micronesia' 'Moldova' 'Mongolia'\n",
            " 'Montenegro' 'Morocco' 'Mozambique' 'Namibia' 'Nepal' 'Netherlands'\n",
            " 'New Zealand' 'Nicaragua' 'Niger' 'North Korea' 'North Macedonia'\n",
            " 'Norway' 'Oman' 'Panama' 'Papua New Guinea' 'Paraguay' 'Peru' 'Poland'\n",
            " 'Portugal' 'Qatar' 'Romania' 'Rwanda' 'Saint Lucia' 'Saudi Arabia'\n",
            " 'Senegal' 'Serbia' 'Sierra Leone' 'Singapore' 'Slovakia' 'Slovenia'\n",
            " 'Solomon Islands' 'Somalia' 'South Sudan' 'Spain' 'Sri Lanka'\n",
            " 'State of Palestine' 'Sudan' 'Sweden' 'Switzerland' 'Syria' 'Tajikistan'\n",
            " 'Timor-Leste' 'Togo' 'Trinidad and Tobago' 'Tunisia' 'Turkmenistan'\n",
            " 'Ukraine' 'United Arab Emirates' 'Belize' 'Cabo Verde' 'Iceland'\n",
            " 'South Korea' 'Suriname' 'Italy' 'Kiribati' 'Marshall Islands' 'Uganda'\n",
            " 'Bahamas' 'Malta' 'Nigeria' 'Tanzania' 'Turkey' 'Myanmar'\n",
            " 'Saint Kitts & Nevis' 'South Africa' 'Barbados' 'Antigua and Barbuda'\n",
            " 'France' 'DR Congo' 'Thailand' '0' 'Philippines' 'Samoa'\n",
            " 'Sao Tome & Principe' 'Tonga' 'Iran' 'Nauru' 'St. Vincent & Grenadines'\n",
            " 'Liechtenstein' 'San Marino' 'Seychelles' 'Ethiopia' 'Germany' 'Mexico'\n",
            " 'Russia' 'Monaco' 'Palau']\n",
            "\n",
            " test_df :\n",
            "['Serbia' 'Austria' 'Sierra Leone' 'Ecuador' 'Lithuania' 'Azerbaijan'\n",
            " 'Switzerland' 'Laos' 'Finland' 'Czechia' 'Bulgaria' 'El Salvador' 'Togo'\n",
            " 'Jamaica' 'Singapore' 'Qatar' 'Eritrea' 'Cambodia' 'Nicaragua' 'Senegal'\n",
            " 'Lebanon' 'Belgium' 'Oman' 'Israel' 'Chile' 'Papua New Guinea'\n",
            " 'Central African Republic' 'Zimbabwe' 'Libya' 'State of Palestine'\n",
            " 'Paraguay' 'Greece' 'Belarus' 'South Sudan' 'New Zealand' 'Kuwait'\n",
            " 'Tajikistan' 'Honduras' 'Slovenia' 'Kyrgyzstan' 'Guinea-Bissau'\n",
            " 'Turkmenistan' 'Mauritania' 'Costa Rica' 'Sweden' 'Rwanda' 'Norway'\n",
            " 'Jordan' 'Benin' 'Croatia' 'Bosnia and Herzegovina' 'Saudi Arabia'\n",
            " 'Haiti' 'Trinidad and Tobago' 'Burundi' 'Liberia' 'Bolivia' 'Uruguay'\n",
            " 'United Arab Emirates' 'Cuba' 'Ireland' 'Denmark' 'Georgia' 'Slovakia'\n",
            " 'Chad' 'Moldova' 'Romania' 'Guatemala' 'Congo' 'Netherlands' 'Hungary'\n",
            " 'Yemen' 'Portugal' 'Zambia' 'Gabon' 'Panama' 'Kazakhstan' 'Armenia'\n",
            " 'North Korea' 'Namibia' 'Cyprus' 'Mongolia' 'Tunisia' 'Lesotho' 'Niger'\n",
            " 'Sri Lanka' 'Somalia' 'Equatorial Guinea' 'Canada' 'Dominican Republic'\n",
            " 'Nepal' 'Venezuela' 'Albania' 'Montenegro' 'Estonia' 'Syria' 'Botswana'\n",
            " \"Côte d'Ivoire\" 'Guinea' 'Madagascar' 'Latvia' 'Mozambique' 'Mauritius'\n",
            " 'Cameroon' 'North Macedonia' 'Malaysia' 'Malawi' 'Australia' 'Eswatini'\n",
            " 'Timor-Leste' 'Burkina Faso' 'Mexico' 'Uzbekistan' 'Mali' 'Comoros'\n",
            " 'Angola' 'Gambia' 'Bahrain' 'Guyana' 'Bhutan' 'Solomon Islands'\n",
            " 'Micronesia' 'Colombia' 'Djibouti' 'Afghanistan' 'Kenya' 'Suriname'\n",
            " 'Poland' 'Argentina' 'Iceland' 'Morocco' 'Ghana' 'Uganda' 'Peru'\n",
            " 'Cabo Verde' 'Malta' 'Algeria' 'Brunei' 'Ukraine' 'Fiji' 'Sudan'\n",
            " 'Saint Lucia' 'Maldives' 'Italy' 'Barbados' 'Iraq' 'Kiribati' 'Belize'\n",
            " 'South Korea' 'Spain' 'Myanmar' 'Luxembourg' 'Egypt'\n",
            " 'St. Vincent & Grenadines' 'Bahamas' 'Tanzania' 'Samoa' 'Vanuatu'\n",
            " 'Thailand' 'France' 'Grenada' 'South Africa' 'Turkey' 'DR Congo'\n",
            " 'Saint Kitts & Nevis' 'United Kingdom' 'Sao Tome & Principe' 'Vietnam'\n",
            " nan]\n",
            "\n",
            " 2020-07-28 17:25:59.936690\n"
          ],
          "name": "stdout"
        }
      ]
    },
    {
      "cell_type": "code",
      "metadata": {
        "id": "2f-6jAfYxyXG",
        "colab_type": "code",
        "colab": {
          "base_uri": "https://localhost:8080/",
          "height": 1000
        },
        "outputId": "a6a128b1-289e-4034-9613-72b645752cc6"
      },
      "source": [
        "# check values and fill in NAs\n",
        "countrycount = 0\n",
        "countrycounttest = 0\n",
        "\n",
        "print (\" train_df :\")\n",
        "for i in sorted( train_df.Country.unique().tolist() ) :\n",
        "  thiscount = train_df.loc[train_df.Country == i].Instance.count()\n",
        "  thiscounttest = test_df.loc[test_df.Country == i].Instance.count()\n",
        "  thismean = train_df.loc[train_df.Country == i].Income.mean()\n",
        "  thisstd = train_df.loc[train_df.Country == i].Income.std()\n",
        "  countrycount += thiscount\n",
        "  countrycounttest += thiscounttest\n",
        "  print (\" -+++++++- \", thiscount + thiscounttest, \" -+- \", thiscount, \" -++- \", thiscounttest, \" -+++- \", i, type(i), \" -++++- \", thismean, \" -+++++- \", thisstd, \" -++++++- \" )\n",
        "\n",
        "print(\"record count   train : \", len(train_df.Instance), '   test : ', len(test_df.Instance) )\n",
        "print(\"sum of count   train : \", countrycount, '   test : ', countrycounttest )\n",
        "\n",
        "# replace the NANs with \"Missing\"\n",
        "# train_df[\"Country\"].fillna(\"Unknown\", inplace = True) \n",
        "test_df[\"Country\"].fillna(\"Unknown\", inplace = True) \n",
        "\n",
        "countrycount = 0\n",
        "countrycounttest = 0\n",
        "\n",
        "print (\"\\n test_df :\")\n",
        "for i in sorted( test_df.Country.unique().tolist() ) :\n",
        "  thiscount = train_df.loc[train_df.Country == i].Instance.count()\n",
        "  thiscounttest = test_df.loc[test_df.Country == i].Instance.count()\n",
        "  thismean = train_df.loc[train_df.Country == i].Income.mean()\n",
        "  thisstd = train_df.loc[train_df.Country == i].Income.std()\n",
        "  countrycount += thiscount\n",
        "  countrycounttest += thiscounttest\n",
        "  print ( \" -+++++++- \", thiscount + thiscounttest, \" -+- \", thiscount, \" -++- \", thiscounttest, \" -+++- \", i, type(i), \" -++++- \", thismean, \" -+++++- \", thisstd, \" -++++++- \")\n",
        "\n",
        "print(\"record count   train : \", len(train_df.Instance), '   test : ', len(test_df.Instance) )\n",
        "print(\"sum of count   train : \", countrycount, '   test : ', countrycounttest )\n",
        "\n",
        "print(\"\\n\", dt.now())"
      ],
      "execution_count": 41,
      "outputs": [
        {
          "output_type": "stream",
          "text": [
            " train_df :\n",
            " -+++++++-  2  -+-  2  -++-  0  -+++-  0 <class 'str'>  -++++-  136556.055  -+++++-  99930.44456655864  -++++++- \n",
            " -+++++++-  186  -+-  122  -++-  64  -+++-  Afghanistan <class 'str'>  -++++-  191828.95327868854  -+++++-  323261.86109116365  -++++++- \n",
            " -+++++++-  4848  -+-  3475  -++-  1373  -+++-  Albania <class 'str'>  -++++-  135701.55056690663  -+++++-  185007.79264120176  -++++++- \n",
            " -+++++++-  108  -+-  76  -++-  32  -+++-  Algeria <class 'str'>  -++++-  248576.24157894732  -+++++-  323130.7139699207  -++++++- \n",
            " -+++++++-  622  -+-  446  -++-  176  -+++-  Angola <class 'str'>  -++++-  181059.7981165918  -+++++-  235937.65341544247  -++++++- \n",
            " -+++++++-  1  -+-  1  -++-  0  -+++-  Antigua and Barbuda <class 'str'>  -++++-  27670.05  -+++++-  nan  -++++++- \n",
            " -+++++++-  83  -+-  60  -++-  23  -+++-  Argentina <class 'str'>  -++++-  245934.46416666664  -+++++-  305468.04335784685  -++++++- \n",
            " -+++++++-  5864  -+-  4274  -++-  1590  -+++-  Armenia <class 'str'>  -++++-  124747.17065278419  -+++++-  174803.65084501903  -++++++- \n",
            " -+++++++-  2155  -+-  1569  -++-  586  -+++-  Australia <class 'str'>  -++++-  138634.6857170172  -+++++-  183279.31111589892  -++++++- \n",
            " -+++++++-  26731  -+-  19449  -++-  7282  -+++-  Austria <class 'str'>  -++++-  56109.05623014018  -+++++-  86354.70583928068  -++++++- \n",
            " -+++++++-  23084  -+-  16822  -++-  6262  -+++-  Azerbaijan <class 'str'>  -++++-  52078.27914160031  -+++++-  79304.18673479346  -++++++- \n",
            " -+++++++-  44  -+-  34  -++-  10  -+++-  Bahamas <class 'str'>  -++++-  340787.8244117647  -+++++-  415186.33445835114  -++++++- \n",
            " -+++++++-  1362  -+-  1009  -++-  353  -+++-  Bahrain <class 'str'>  -++++-  171418.8700198217  -+++++-  231402.36278705866  -++++++- \n",
            " -+++++++-  30  -+-  24  -++-  6  -+++-  Barbados <class 'str'>  -++++-  273244.0520833333  -+++++-  323600.135153455  -++++++- \n",
            " -+++++++-  25704  -+-  18662  -++-  7042  -+++-  Belarus <class 'str'>  -++++-  56161.89907673347  -+++++-  88420.70292306588  -++++++- \n",
            " -+++++++-  14522  -+-  10602  -++-  3920  -+++-  Belgium <class 'str'>  -++++-  76042.2870750802  -+++++-  111421.80345113836  -++++++- \n",
            " -+++++++-  57  -+-  43  -++-  14  -+++-  Belize <class 'str'>  -++++-  283565.6939534884  -+++++-  315399.2877848181  -++++++- \n",
            " -+++++++-  13111  -+-  9604  -++-  3507  -+++-  Benin <class 'str'>  -++++-  84016.39992399006  -+++++-  119972.0995620278  -++++++- \n",
            " -+++++++-  233  -+-  161  -++-  72  -+++-  Bhutan <class 'str'>  -++++-  273746.52987577644  -+++++-  343603.5076066287  -++++++- \n",
            " -+++++++-  16530  -+-  12009  -++-  4521  -+++-  Bolivia <class 'str'>  -++++-  67573.31346573423  -+++++-  100287.33543419676  -++++++- \n",
            " -+++++++-  6809  -+-  4889  -++-  1920  -+++-  Bosnia and Herzegovina <class 'str'>  -++++-  117127.04444262637  -+++++-  163074.63477614717  -++++++- \n",
            " -+++++++-  3013  -+-  2186  -++-  827  -+++-  Botswana <class 'str'>  -++++-  149257.06795059473  -+++++-  206874.9528106526  -++++++- \n",
            " -+++++++-  48  -+-  30  -++-  18  -+++-  Brunei <class 'str'>  -++++-  406597.46933333337  -+++++-  490090.58701471577  -++++++- \n",
            " -+++++++-  25826  -+-  18793  -++-  7033  -+++-  Bulgaria <class 'str'>  -++++-  54272.739755227856  -+++++-  81919.05581478818  -++++++- \n",
            " -+++++++-  3015  -+-  2187  -++-  828  -+++-  Burkina Faso <class 'str'>  -++++-  126989.81763145857  -+++++-  166639.27616265544  -++++++- \n",
            " -+++++++-  15611  -+-  11262  -++-  4349  -+++-  Burundi <class 'str'>  -++++-  71109.89591014037  -+++++-  106014.02361111788  -++++++- \n",
            " -+++++++-  123  -+-  88  -++-  35  -+++-  Cabo Verde <class 'str'>  -++++-  274762.00352272723  -+++++-  353834.6307833521  -++++++- \n",
            " -+++++++-  8037  -+-  5875  -++-  2162  -+++-  Cambodia <class 'str'>  -++++-  110268.53861276612  -+++++-  155638.35248092288  -++++++- \n",
            " -+++++++-  1520  -+-  1081  -++-  439  -+++-  Cameroon <class 'str'>  -++++-  161821.88488436633  -+++++-  204836.14263231715  -++++++- \n",
            " -+++++++-  290  -+-  199  -++-  91  -+++-  Canada <class 'str'>  -++++-  240804.2008542713  -+++++-  295581.65316549625  -++++++- \n",
            " -+++++++-  13283  -+-  9625  -++-  3658  -+++-  Central African Republic <class 'str'>  -++++-  88063.65610389618  -+++++-  128992.17784658239  -++++++- \n",
            " -+++++++-  9524  -+-  6950  -++-  2574  -+++-  Chad <class 'str'>  -++++-  99108.26017985618  -+++++-  140210.48094252084  -++++++- \n",
            " -+++++++-  3988  -+-  2888  -++-  1100  -+++-  Chile <class 'str'>  -++++-  127835.84882964016  -+++++-  173440.42926133558  -++++++- \n",
            " -+++++++-  53  -+-  30  -++-  23  -+++-  Colombia <class 'str'>  -++++-  225744.47266666667  -+++++-  328424.89873252093  -++++++- \n",
            " -+++++++-  357  -+-  266  -++-  91  -+++-  Comoros <class 'str'>  -++++-  205657.09511278206  -+++++-  259552.51024906005  -++++++- \n",
            " -+++++++-  19528  -+-  14232  -++-  5296  -+++-  Congo <class 'str'>  -++++-  57011.56950182693  -+++++-  84975.19030121036  -++++++- \n",
            " -+++++++-  18077  -+-  13103  -++-  4974  -+++-  Costa Rica <class 'str'>  -++++-  56082.821751507465  -+++++-  84568.50059276649  -++++++- \n",
            " -+++++++-  9872  -+-  7212  -++-  2660  -+++-  Croatia <class 'str'>  -++++-  102316.96704381588  -+++++-  145944.32242699727  -++++++- \n",
            " -+++++++-  17077  -+-  12381  -++-  4696  -+++-  Cuba <class 'str'>  -++++-  63964.664724173985  -+++++-  95731.73827559214  -++++++- \n",
            " -+++++++-  609  -+-  430  -++-  179  -+++-  Cyprus <class 'str'>  -++++-  230669.466744186  -+++++-  287326.9823909963  -++++++- \n",
            " -+++++++-  20198  -+-  14567  -++-  5631  -+++-  Czechia <class 'str'>  -++++-  54329.24428571428  -+++++-  81637.3613425218  -++++++- \n",
            " -+++++++-  1674  -+-  1228  -++-  446  -+++-  Côte d'Ivoire <class 'str'>  -++++-  157256.75217426696  -+++++-  201662.55331632777  -++++++- \n",
            " -+++++++-  7  -+-  5  -++-  2  -+++-  DR Congo <class 'str'>  -++++-  417432.63600000006  -+++++-  525364.4553982415  -++++++- \n",
            " -+++++++-  21764  -+-  15854  -++-  5910  -+++-  Denmark <class 'str'>  -++++-  55599.87060867908  -+++++-  83711.81915055834  -++++++- \n",
            " -+++++++-  447  -+-  320  -++-  127  -+++-  Djibouti <class 'str'>  -++++-  220828.59587500003  -+++++-  306582.6138149439  -++++++- \n",
            " -+++++++-  19595  -+-  14239  -++-  5356  -+++-  Dominican Republic <class 'str'>  -++++-  56731.30133576776  -+++++-  87694.30746120098  -++++++- \n",
            " -+++++++-  6463  -+-  4629  -++-  1834  -+++-  Ecuador <class 'str'>  -++++-  126564.6492914236  -+++++-  179649.1613296972  -++++++- \n",
            " -+++++++-  24245  -+-  17553  -++-  6692  -+++-  El Salvador <class 'str'>  -++++-  54309.833553808334  -+++++-  80940.7779250018  -++++++- \n",
            " -+++++++-  976  -+-  731  -++-  245  -+++-  Equatorial Guinea <class 'str'>  -++++-  188369.206621067  -+++++-  248106.4256941031  -++++++- \n",
            " -+++++++-  8115  -+-  5920  -++-  2195  -+++-  Eritrea <class 'str'>  -++++-  111185.43976182421  -+++++-  157824.2115022286  -++++++- \n",
            " -+++++++-  893  -+-  616  -++-  277  -+++-  Estonia <class 'str'>  -++++-  193611.06535714286  -+++++-  249280.1089991803  -++++++- \n",
            " -+++++++-  509  -+-  396  -++-  113  -+++-  Eswatini <class 'str'>  -++++-  238879.01123737378  -+++++-  303525.9837880431  -++++++- \n",
            " -+++++++-  1  -+-  1  -++-  0  -+++-  Ethiopia <class 'str'>  -++++-  346231.89  -+++++-  nan  -++++++- \n",
            " -+++++++-  414  -+-  297  -++-  117  -+++-  Fiji <class 'str'>  -++++-  227440.47811447806  -+++++-  316372.88343729416  -++++++- \n",
            " -+++++++-  21359  -+-  15536  -++-  5823  -+++-  Finland <class 'str'>  -++++-  55233.36004891864  -+++++-  84593.83373850577  -++++++- \n",
            " -+++++++-  23  -+-  16  -++-  7  -+++-  France <class 'str'>  -++++-  158314.530625  -+++++-  128082.84386221907  -++++++- \n",
            " -+++++++-  2671  -+-  1912  -++-  759  -+++-  Gabon <class 'str'>  -++++-  154266.8757688284  -+++++-  207274.9827736345  -++++++- \n",
            " -+++++++-  3299  -+-  2386  -++-  913  -+++-  Gambia <class 'str'>  -++++-  144304.2461525564  -+++++-  200374.5256444767  -++++++- \n",
            " -+++++++-  8563  -+-  6236  -++-  2327  -+++-  Georgia <class 'str'>  -++++-  104503.09461513782  -+++++-  150944.6911693223  -++++++- \n",
            " -+++++++-  2  -+-  2  -++-  0  -+++-  Germany <class 'str'>  -++++-  625805.51  -+++++-  463801.47769149876  -++++++- \n",
            " -+++++++-  679  -+-  509  -++-  170  -+++-  Ghana <class 'str'>  -++++-  200761.60001964628  -+++++-  256099.77606657788  -++++++- \n",
            " -+++++++-  21056  -+-  15284  -++-  5772  -+++-  Greece <class 'str'>  -++++-  54748.29710088973  -+++++-  83753.53850262144  -++++++- \n",
            " -+++++++-  11  -+-  6  -++-  5  -+++-  Grenada <class 'str'>  -++++-  446144.5516666666  -+++++-  633873.1859837965  -++++++- \n",
            " -+++++++-  5766  -+-  4207  -++-  1559  -+++-  Guatemala <class 'str'>  -++++-  130480.14249584026  -+++++-  182056.4400484768  -++++++- \n",
            " -+++++++-  11395  -+-  8258  -++-  3137  -+++-  Guinea <class 'str'>  -++++-  91569.45365342694  -+++++-  132397.93986850017  -++++++- \n",
            " -+++++++-  1680  -+-  1236  -++-  444  -+++-  Guinea-Bissau <class 'str'>  -++++-  165736.01723300968  -+++++-  232504.77027907918  -++++++- \n",
            " -+++++++-  323  -+-  240  -++-  83  -+++-  Guyana <class 'str'>  -++++-  224594.87529166669  -+++++-  328758.0773458318  -++++++- \n",
            " -+++++++-  17545  -+-  12652  -++-  4893  -+++-  Haiti <class 'str'>  -++++-  59043.36049083159  -+++++-  89297.35036356725  -++++++- \n",
            " -+++++++-  118000  -+-  111155  -++-  6845  -+++-  Honduras <class 'str'>  -++++-  48002.29042697031  -+++++-  75744.3920033225  -++++++- \n",
            " -+++++++-  25074  -+-  18200  -++-  6874  -+++-  Hungary <class 'str'>  -++++-  57262.401945604535  -+++++-  89005.09642385342  -++++++- \n",
            " -+++++++-  40  -+-  25  -++-  15  -+++-  Iceland <class 'str'>  -++++-  287466.2568  -+++++-  386433.7164201364  -++++++- \n",
            " -+++++++-  6  -+-  6  -++-  0  -+++-  Iran <class 'str'>  -++++-  456490.9766666666  -+++++-  788517.5348108587  -++++++- \n",
            " -+++++++-  164  -+-  120  -++-  44  -+++-  Iraq <class 'str'>  -++++-  259285.97800000006  -+++++-  299489.8906584847  -++++++- \n",
            " -+++++++-  14697  -+-  10599  -++-  4098  -+++-  Ireland <class 'str'>  -++++-  60665.539615057925  -+++++-  89229.588116751  -++++++- \n",
            " -+++++++-  26908  -+-  19548  -++-  7360  -+++-  Israel <class 'str'>  -++++-  55495.98080519745  -+++++-  84264.63035542212  -++++++- \n",
            " -+++++++-  20  -+-  16  -++-  4  -+++-  Italy <class 'str'>  -++++-  540869.3324999999  -+++++-  640553.8508287922  -++++++- \n",
            " -+++++++-  5340  -+-  3806  -++-  1534  -+++-  Jamaica <class 'str'>  -++++-  125281.8440620073  -+++++-  173767.32767894855  -++++++- \n",
            " -+++++++-  22157  -+-  16128  -++-  6029  -+++-  Jordan <class 'str'>  -++++-  52615.89857018843  -+++++-  79944.28376428825  -++++++- \n",
            " -+++++++-  4876  -+-  3509  -++-  1367  -+++-  Kazakhstan <class 'str'>  -++++-  138102.06322884027  -+++++-  192223.58834384813  -++++++- \n",
            " -+++++++-  35  -+-  28  -++-  7  -+++-  Kenya <class 'str'>  -++++-  288711.7032142857  -+++++-  409985.01335044194  -++++++- \n",
            " -+++++++-  12  -+-  10  -++-  2  -+++-  Kiribati <class 'str'>  -++++-  292994.838  -+++++-  441284.8598478536  -++++++- \n",
            " -+++++++-  10841  -+-  7821  -++-  3020  -+++-  Kuwait <class 'str'>  -++++-  96815.45453906151  -+++++-  139816.98563535992  -++++++- \n",
            " -+++++++-  23521  -+-  17111  -++-  6410  -+++-  Kyrgyzstan <class 'str'>  -++++-  56594.431527672205  -+++++-  85323.5744081299  -++++++- \n",
            " -+++++++-  26544  -+-  19036  -++-  7508  -+++-  Laos <class 'str'>  -++++-  56165.231997793635  -+++++-  84252.2555413307  -++++++- \n",
            " -+++++++-  1563  -+-  1140  -++-  423  -+++-  Latvia <class 'str'>  -++++-  173703.9894473685  -+++++-  239507.5166396101  -++++++- \n",
            " -+++++++-  25732  -+-  18584  -++-  7148  -+++-  Lebanon <class 'str'>  -++++-  56137.0632441884  -+++++-  84275.99565435015  -++++++- \n",
            " -+++++++-  2324  -+-  1691  -++-  633  -+++-  Lesotho <class 'str'>  -++++-  150180.96361324677  -+++++-  207107.72967643818  -++++++- \n",
            " -+++++++-  15429  -+-  11172  -++-  4257  -+++-  Liberia <class 'str'>  -++++-  58449.9488435375  -+++++-  86420.88238637023  -++++++- \n",
            " -+++++++-  25014  -+-  18255  -++-  6759  -+++-  Libya <class 'str'>  -++++-  55222.56374034516  -+++++-  83320.52283660551  -++++++- \n",
            " -+++++++-  1  -+-  1  -++-  0  -+++-  Liechtenstein <class 'str'>  -++++-  117630.93  -+++++-  nan  -++++++- \n",
            " -+++++++-  3973  -+-  2871  -++-  1102  -+++-  Lithuania <class 'str'>  -++++-  131971.71832462575  -+++++-  181613.96973457607  -++++++- \n",
            " -+++++++-  150  -+-  111  -++-  39  -+++-  Luxembourg <class 'str'>  -++++-  234664.86117117113  -+++++-  280538.1007006693  -++++++- \n",
            " -+++++++-  1314  -+-  950  -++-  364  -+++-  Madagascar <class 'str'>  -++++-  153686.0919894737  -+++++-  205519.12180832744  -++++++- \n",
            " -+++++++-  4427  -+-  3138  -++-  1289  -+++-  Malawi <class 'str'>  -++++-  141114.479142766  -+++++-  198019.92116137536  -++++++- \n",
            " -+++++++-  524  -+-  382  -++-  142  -+++-  Malaysia <class 'str'>  -++++-  183503.32662303673  -+++++-  222881.51201179437  -++++++- \n",
            " -+++++++-  87  -+-  62  -++-  25  -+++-  Maldives <class 'str'>  -++++-  274008.19241935486  -+++++-  438236.0877361272  -++++++- \n",
            " -+++++++-  3245  -+-  2335  -++-  910  -+++-  Mali <class 'str'>  -++++-  116523.09232976445  -+++++-  154202.58302302827  -++++++- \n",
            " -+++++++-  66  -+-  55  -++-  11  -+++-  Malta <class 'str'>  -++++-  263351.49036363635  -+++++-  294764.28814887715  -++++++- \n",
            " -+++++++-  3  -+-  3  -++-  0  -+++-  Marshall Islands <class 'str'>  -++++-  251510.60333333336  -+++++-  411072.4696380089  -++++++- \n",
            " -+++++++-  12402  -+-  8968  -++-  3434  -+++-  Mauritania <class 'str'>  -++++-  92345.9264351029  -+++++-  135071.50246588726  -++++++- \n",
            " -+++++++-  711  -+-  493  -++-  218  -+++-  Mauritius <class 'str'>  -++++-  197775.4997160242  -+++++-  278614.83337613934  -++++++- \n",
            " -+++++++-  3  -+-  2  -++-  1  -+++-  Mexico <class 'str'>  -++++-  1419633.01  -+++++-  1058904.3832157282  -++++++- \n",
            " -+++++++-  96  -+-  68  -++-  28  -+++-  Micronesia <class 'str'>  -++++-  225979.13058823528  -+++++-  364997.5611856515  -++++++- \n",
            " -+++++++-  9361  -+-  6784  -++-  2577  -+++-  Moldova <class 'str'>  -++++-  102533.56155365545  -+++++-  149572.65774663002  -++++++- \n",
            " -+++++++-  1  -+-  1  -++-  0  -+++-  Monaco <class 'str'>  -++++-  1026574.69  -+++++-  nan  -++++++- \n",
            " -+++++++-  6377  -+-  4598  -++-  1779  -+++-  Mongolia <class 'str'>  -++++-  120196.68486733365  -+++++-  169964.41589805958  -++++++- \n",
            " -+++++++-  173  -+-  139  -++-  34  -+++-  Montenegro <class 'str'>  -++++-  262937.424028777  -+++++-  363689.16999690904  -++++++- \n",
            " -+++++++-  337  -+-  244  -++-  93  -+++-  Morocco <class 'str'>  -++++-  257330.21700819666  -+++++-  362255.40199199965  -++++++- \n",
            " -+++++++-  780  -+-  564  -++-  216  -+++-  Mozambique <class 'str'>  -++++-  178941.05141843978  -+++++-  237979.42654330865  -++++++- \n",
            " -+++++++-  29  -+-  21  -++-  8  -+++-  Myanmar <class 'str'>  -++++-  283959.5714285714  -+++++-  398949.5915058132  -++++++- \n",
            " -+++++++-  3580  -+-  2536  -++-  1044  -+++-  Namibia <class 'str'>  -++++-  144649.54218848585  -+++++-  199580.84926502084  -++++++- \n",
            " -+++++++-  1  -+-  1  -++-  0  -+++-  Nauru <class 'str'>  -++++-  79549.52  -+++++-  nan  -++++++- \n",
            " -+++++++-  1009  -+-  746  -++-  263  -+++-  Nepal <class 'str'>  -++++-  166334.91731903484  -+++++-  222521.19871831936  -++++++- \n",
            " -+++++++-  6818  -+-  5017  -++-  1801  -+++-  Netherlands <class 'str'>  -++++-  117841.24155471395  -+++++-  162019.1620466956  -++++++- \n",
            " -+++++++-  13639  -+-  9961  -++-  3678  -+++-  New Zealand <class 'str'>  -++++-  62133.348103604265  -+++++-  89851.87661575426  -++++++- \n",
            " -+++++++-  24872  -+-  17982  -++-  6890  -+++-  Nicaragua <class 'str'>  -++++-  56418.01136914693  -+++++-  84234.02398323998  -++++++- \n",
            " -+++++++-  2348  -+-  1691  -++-  657  -+++-  Niger <class 'str'>  -++++-  149068.91802483745  -+++++-  194149.04332004543  -++++++- \n",
            " -+++++++-  1  -+-  1  -++-  0  -+++-  Nigeria <class 'str'>  -++++-  23752.56  -+++++-  nan  -++++++- \n",
            " -+++++++-  1810  -+-  1328  -++-  482  -+++-  North Korea <class 'str'>  -++++-  155516.79433734942  -+++++-  200541.4598015301  -++++++- \n",
            " -+++++++-  2090  -+-  1476  -++-  614  -+++-  North Macedonia <class 'str'>  -++++-  166340.8392682926  -+++++-  224055.67190520692  -++++++- \n",
            " -+++++++-  18422  -+-  13334  -++-  5088  -+++-  Norway <class 'str'>  -++++-  56204.99139343034  -+++++-  85846.57610251184  -++++++- \n",
            " -+++++++-  16048  -+-  11630  -++-  4418  -+++-  Oman <class 'str'>  -++++-  58868.32635855554  -+++++-  86933.85056114364  -++++++- \n",
            " -+++++++-  1  -+-  1  -++-  0  -+++-  Palau <class 'str'>  -++++-  2319623.71  -+++++-  nan  -++++++- \n",
            " -+++++++-  11497  -+-  8374  -++-  3123  -+++-  Panama <class 'str'>  -++++-  94600.39274540238  -+++++-  137593.3947878985  -++++++- \n",
            " -+++++++-  26346  -+-  19024  -++-  7322  -+++-  Papua New Guinea <class 'str'>  -++++-  56098.97723244318  -+++++-  85953.56020059626  -++++++- \n",
            " -+++++++-  26136  -+-  18828  -++-  7308  -+++-  Paraguay <class 'str'>  -++++-  55460.01235181641  -+++++-  83547.43459655649  -++++++- \n",
            " -+++++++-  475  -+-  352  -++-  123  -+++-  Peru <class 'str'>  -++++-  218928.84795454537  -+++++-  274036.15705549653  -++++++- \n",
            " -+++++++-  1  -+-  1  -++-  0  -+++-  Philippines <class 'str'>  -++++-  38454.98  -+++++-  nan  -++++++- \n",
            " -+++++++-  229  -+-  172  -++-  57  -+++-  Poland <class 'str'>  -++++-  236980.1012209302  -+++++-  338054.7103157657  -++++++- \n",
            " -+++++++-  21846  -+-  15869  -++-  5977  -+++-  Portugal <class 'str'>  -++++-  54887.81401348549  -+++++-  81352.0853302811  -++++++- \n",
            " -+++++++-  4461  -+-  3204  -++-  1257  -+++-  Qatar <class 'str'>  -++++-  135691.59304619217  -+++++-  185390.76889008202  -++++++- \n",
            " -+++++++-  3478  -+-  2515  -++-  963  -+++-  Romania <class 'str'>  -++++-  126981.14510139149  -+++++-  169625.03595728643  -++++++- \n",
            " -+++++++-  1  -+-  1  -++-  0  -+++-  Russia <class 'str'>  -++++-  895473.69  -+++++-  nan  -++++++- \n",
            " -+++++++-  12382  -+-  9050  -++-  3332  -+++-  Rwanda <class 'str'>  -++++-  84435.80427071807  -+++++-  123216.2301266562  -++++++- \n",
            " -+++++++-  6  -+-  5  -++-  1  -+++-  Saint Kitts & Nevis <class 'str'>  -++++-  563772.926  -+++++-  979941.9210552138  -++++++- \n",
            " -+++++++-  16  -+-  9  -++-  7  -+++-  Saint Lucia <class 'str'>  -++++-  89834.58  -+++++-  162227.08021774277  -++++++- \n",
            " -+++++++-  14  -+-  11  -++-  3  -+++-  Samoa <class 'str'>  -++++-  500904.7872727273  -+++++-  452399.37097277085  -++++++- \n",
            " -+++++++-  1  -+-  1  -++-  0  -+++-  San Marino <class 'str'>  -++++-  178733.32  -+++++-  nan  -++++++- \n",
            " -+++++++-  15  -+-  12  -++-  3  -+++-  Sao Tome & Principe <class 'str'>  -++++-  835319.6725  -+++++-  827002.6492300626  -++++++- \n",
            " -+++++++-  335  -+-  254  -++-  81  -+++-  Saudi Arabia <class 'str'>  -++++-  245623.5335826772  -+++++-  306319.9041773241  -++++++- \n",
            " -+++++++-  8727  -+-  6274  -++-  2453  -+++-  Senegal <class 'str'>  -++++-  108453.17454096273  -+++++-  150501.0277053006  -++++++- \n",
            " -+++++++-  26728  -+-  19258  -++-  7470  -+++-  Serbia <class 'str'>  -++++-  55455.05505036857  -+++++-  84343.54845691472  -++++++- \n",
            " -+++++++-  1  -+-  1  -++-  0  -+++-  Seychelles <class 'str'>  -++++-  279233.9  -+++++-  nan  -++++++- \n",
            " -+++++++-  26212  -+-  18937  -++-  7275  -+++-  Sierra Leone <class 'str'>  -++++-  54394.10504726196  -+++++-  83457.53690801944  -++++++- \n",
            " -+++++++-  22553  -+-  16435  -++-  6118  -+++-  Singapore <class 'str'>  -++++-  55234.38994219647  -+++++-  83656.8703309969  -++++++- \n",
            " -+++++++-  20325  -+-  14715  -++-  5610  -+++-  Slovakia <class 'str'>  -++++-  55445.172945973536  -+++++-  84759.96732369842  -++++++- \n",
            " -+++++++-  1920  -+-  1419  -++-  501  -+++-  Slovenia <class 'str'>  -++++-  158264.2251444678  -+++++-  214454.88951387198  -++++++- \n",
            " -+++++++-  187  -+-  141  -++-  46  -+++-  Solomon Islands <class 'str'>  -++++-  277052.18985815597  -+++++-  375713.9893146404  -++++++- \n",
            " -+++++++-  10101  -+-  7371  -++-  2730  -+++-  Somalia <class 'str'>  -++++-  98293.93950345943  -+++++-  142051.28260968512  -++++++- \n",
            " -+++++++-  21  -+-  16  -++-  5  -+++-  South Africa <class 'str'>  -++++-  292418.69625000004  -+++++-  296246.8796066534  -++++++- \n",
            " -+++++++-  42  -+-  28  -++-  14  -+++-  South Korea <class 'str'>  -++++-  382512.0957142857  -+++++-  366724.45817398495  -++++++- \n",
            " -+++++++-  18597  -+-  13506  -++-  5091  -+++-  South Sudan <class 'str'>  -++++-  57007.04867170146  -+++++-  87732.80327803335  -++++++- \n",
            " -+++++++-  53  -+-  39  -++-  14  -+++-  Spain <class 'str'>  -++++-  263865.41794871795  -+++++-  421474.79076179146  -++++++- \n",
            " -+++++++-  2706  -+-  1957  -++-  749  -+++-  Sri Lanka <class 'str'>  -++++-  124858.33921308118  -+++++-  167831.4033184941  -++++++- \n",
            " -+++++++-  6  -+-  5  -++-  1  -+++-  St. Vincent & Grenadines <class 'str'>  -++++-  614662.824  -+++++-  962459.3290799583  -++++++- \n",
            " -+++++++-  17037  -+-  12278  -++-  4759  -+++-  State of Palestine <class 'str'>  -++++-  57358.19443801921  -+++++-  86407.08885816553  -++++++- \n",
            " -+++++++-  148  -+-  106  -++-  42  -+++-  Sudan <class 'str'>  -++++-  249219.88490566038  -+++++-  357140.5192469248  -++++++- \n",
            " -+++++++-  144  -+-  109  -++-  35  -+++-  Suriname <class 'str'>  -++++-  303022.6966055046  -+++++-  357467.3608950007  -++++++- \n",
            " -+++++++-  23889  -+-  17322  -++-  6567  -+++-  Sweden <class 'str'>  -++++-  51310.48552187986  -+++++-  78375.8007185537  -++++++- \n",
            " -+++++++-  27245  -+-  19881  -++-  7364  -+++-  Switzerland <class 'str'>  -++++-  55881.18549318464  -+++++-  85659.96801094773  -++++++- \n",
            " -+++++++-  7581  -+-  5571  -++-  2010  -+++-  Syria <class 'str'>  -++++-  114281.49017232108  -+++++-  164407.48211043642  -++++++- \n",
            " -+++++++-  26129  -+-  19134  -++-  6995  -+++-  Tajikistan <class 'str'>  -++++-  55711.063613985214  -+++++-  85810.60973931698  -++++++- \n",
            " -+++++++-  23  -+-  15  -++-  8  -+++-  Tanzania <class 'str'>  -++++-  300912.70533333335  -+++++-  488577.5589499386  -++++++- \n",
            " -+++++++-  11  -+-  4  -++-  7  -+++-  Thailand <class 'str'>  -++++-  933539.5425  -+++++-  807907.0095085177  -++++++- \n",
            " -+++++++-  771  -+-  553  -++-  218  -+++-  Timor-Leste <class 'str'>  -++++-  195901.12206148278  -+++++-  257768.55115296968  -++++++- \n",
            " -+++++++-  27073  -+-  19652  -++-  7421  -+++-  Togo <class 'str'>  -++++-  54076.319243842794  -+++++-  82946.69729409642  -++++++- \n",
            " -+++++++-  4  -+-  4  -++-  0  -+++-  Tonga <class 'str'>  -++++-  642167.5525  -+++++-  897372.2525885255  -++++++- \n",
            " -+++++++-  1250  -+-  943  -++-  307  -+++-  Trinidad and Tobago <class 'str'>  -++++-  157257.79713679742  -+++++-  202469.9909129533  -++++++- \n",
            " -+++++++-  13990  -+-  10117  -++-  3873  -+++-  Tunisia <class 'str'>  -++++-  77619.46979539405  -+++++-  111965.30406384896  -++++++- \n",
            " -+++++++-  9  -+-  7  -++-  2  -+++-  Turkey <class 'str'>  -++++-  132523.86428571428  -+++++-  179029.24547151336  -++++++- \n",
            " -+++++++-  23136  -+-  16805  -++-  6331  -+++-  Turkmenistan <class 'str'>  -++++-  57392.183944659315  -+++++-  86895.58442172503  -++++++- \n",
            " -+++++++-  78  -+-  61  -++-  17  -+++-  Uganda <class 'str'>  -++++-  229060.79393442624  -+++++-  329171.47255585727  -++++++- \n",
            " -+++++++-  94  -+-  59  -++-  35  -+++-  Ukraine <class 'str'>  -++++-  291637.6477966102  -+++++-  369740.27746308  -++++++- \n",
            " -+++++++-  22257  -+-  15728  -++-  6529  -+++-  United Arab Emirates <class 'str'>  -++++-  51998.37347024412  -+++++-  83412.52623474982  -++++++- \n",
            "record count   train :  1048574    test :  369438\n",
            "sum of count   train :  1048574    test :  362319\n",
            "\n",
            " test_df :\n",
            " -+++++++-  186  -+-  122  -++-  64  -+++-  Afghanistan <class 'str'>  -++++-  191828.95327868854  -+++++-  323261.86109116365  -++++++- \n",
            " -+++++++-  4848  -+-  3475  -++-  1373  -+++-  Albania <class 'str'>  -++++-  135701.55056690663  -+++++-  185007.79264120176  -++++++- \n",
            " -+++++++-  108  -+-  76  -++-  32  -+++-  Algeria <class 'str'>  -++++-  248576.24157894732  -+++++-  323130.7139699207  -++++++- \n",
            " -+++++++-  622  -+-  446  -++-  176  -+++-  Angola <class 'str'>  -++++-  181059.7981165918  -+++++-  235937.65341544247  -++++++- \n",
            " -+++++++-  83  -+-  60  -++-  23  -+++-  Argentina <class 'str'>  -++++-  245934.46416666664  -+++++-  305468.04335784685  -++++++- \n",
            " -+++++++-  5864  -+-  4274  -++-  1590  -+++-  Armenia <class 'str'>  -++++-  124747.17065278419  -+++++-  174803.65084501903  -++++++- \n",
            " -+++++++-  2155  -+-  1569  -++-  586  -+++-  Australia <class 'str'>  -++++-  138634.6857170172  -+++++-  183279.31111589892  -++++++- \n",
            " -+++++++-  26731  -+-  19449  -++-  7282  -+++-  Austria <class 'str'>  -++++-  56109.05623014018  -+++++-  86354.70583928068  -++++++- \n",
            " -+++++++-  23084  -+-  16822  -++-  6262  -+++-  Azerbaijan <class 'str'>  -++++-  52078.27914160031  -+++++-  79304.18673479346  -++++++- \n",
            " -+++++++-  44  -+-  34  -++-  10  -+++-  Bahamas <class 'str'>  -++++-  340787.8244117647  -+++++-  415186.33445835114  -++++++- \n",
            " -+++++++-  1362  -+-  1009  -++-  353  -+++-  Bahrain <class 'str'>  -++++-  171418.8700198217  -+++++-  231402.36278705866  -++++++- \n",
            " -+++++++-  30  -+-  24  -++-  6  -+++-  Barbados <class 'str'>  -++++-  273244.0520833333  -+++++-  323600.135153455  -++++++- \n",
            " -+++++++-  25704  -+-  18662  -++-  7042  -+++-  Belarus <class 'str'>  -++++-  56161.89907673347  -+++++-  88420.70292306588  -++++++- \n",
            " -+++++++-  14522  -+-  10602  -++-  3920  -+++-  Belgium <class 'str'>  -++++-  76042.2870750802  -+++++-  111421.80345113836  -++++++- \n",
            " -+++++++-  57  -+-  43  -++-  14  -+++-  Belize <class 'str'>  -++++-  283565.6939534884  -+++++-  315399.2877848181  -++++++- \n",
            " -+++++++-  13111  -+-  9604  -++-  3507  -+++-  Benin <class 'str'>  -++++-  84016.39992399006  -+++++-  119972.0995620278  -++++++- \n",
            " -+++++++-  233  -+-  161  -++-  72  -+++-  Bhutan <class 'str'>  -++++-  273746.52987577644  -+++++-  343603.5076066287  -++++++- \n",
            " -+++++++-  16530  -+-  12009  -++-  4521  -+++-  Bolivia <class 'str'>  -++++-  67573.31346573423  -+++++-  100287.33543419676  -++++++- \n",
            " -+++++++-  6809  -+-  4889  -++-  1920  -+++-  Bosnia and Herzegovina <class 'str'>  -++++-  117127.04444262637  -+++++-  163074.63477614717  -++++++- \n",
            " -+++++++-  3013  -+-  2186  -++-  827  -+++-  Botswana <class 'str'>  -++++-  149257.06795059473  -+++++-  206874.9528106526  -++++++- \n",
            " -+++++++-  48  -+-  30  -++-  18  -+++-  Brunei <class 'str'>  -++++-  406597.46933333337  -+++++-  490090.58701471577  -++++++- \n",
            " -+++++++-  25826  -+-  18793  -++-  7033  -+++-  Bulgaria <class 'str'>  -++++-  54272.739755227856  -+++++-  81919.05581478818  -++++++- \n",
            " -+++++++-  3015  -+-  2187  -++-  828  -+++-  Burkina Faso <class 'str'>  -++++-  126989.81763145857  -+++++-  166639.27616265544  -++++++- \n",
            " -+++++++-  15611  -+-  11262  -++-  4349  -+++-  Burundi <class 'str'>  -++++-  71109.89591014037  -+++++-  106014.02361111788  -++++++- \n",
            " -+++++++-  123  -+-  88  -++-  35  -+++-  Cabo Verde <class 'str'>  -++++-  274762.00352272723  -+++++-  353834.6307833521  -++++++- \n",
            " -+++++++-  8037  -+-  5875  -++-  2162  -+++-  Cambodia <class 'str'>  -++++-  110268.53861276612  -+++++-  155638.35248092288  -++++++- \n",
            " -+++++++-  1520  -+-  1081  -++-  439  -+++-  Cameroon <class 'str'>  -++++-  161821.88488436633  -+++++-  204836.14263231715  -++++++- \n",
            " -+++++++-  290  -+-  199  -++-  91  -+++-  Canada <class 'str'>  -++++-  240804.2008542713  -+++++-  295581.65316549625  -++++++- \n",
            " -+++++++-  13283  -+-  9625  -++-  3658  -+++-  Central African Republic <class 'str'>  -++++-  88063.65610389618  -+++++-  128992.17784658239  -++++++- \n",
            " -+++++++-  9524  -+-  6950  -++-  2574  -+++-  Chad <class 'str'>  -++++-  99108.26017985618  -+++++-  140210.48094252084  -++++++- \n",
            " -+++++++-  3988  -+-  2888  -++-  1100  -+++-  Chile <class 'str'>  -++++-  127835.84882964016  -+++++-  173440.42926133558  -++++++- \n",
            " -+++++++-  53  -+-  30  -++-  23  -+++-  Colombia <class 'str'>  -++++-  225744.47266666667  -+++++-  328424.89873252093  -++++++- \n",
            " -+++++++-  357  -+-  266  -++-  91  -+++-  Comoros <class 'str'>  -++++-  205657.09511278206  -+++++-  259552.51024906005  -++++++- \n",
            " -+++++++-  19528  -+-  14232  -++-  5296  -+++-  Congo <class 'str'>  -++++-  57011.56950182693  -+++++-  84975.19030121036  -++++++- \n",
            " -+++++++-  18077  -+-  13103  -++-  4974  -+++-  Costa Rica <class 'str'>  -++++-  56082.821751507465  -+++++-  84568.50059276649  -++++++- \n",
            " -+++++++-  9872  -+-  7212  -++-  2660  -+++-  Croatia <class 'str'>  -++++-  102316.96704381588  -+++++-  145944.32242699727  -++++++- \n",
            " -+++++++-  17077  -+-  12381  -++-  4696  -+++-  Cuba <class 'str'>  -++++-  63964.664724173985  -+++++-  95731.73827559214  -++++++- \n",
            " -+++++++-  609  -+-  430  -++-  179  -+++-  Cyprus <class 'str'>  -++++-  230669.466744186  -+++++-  287326.9823909963  -++++++- \n",
            " -+++++++-  20198  -+-  14567  -++-  5631  -+++-  Czechia <class 'str'>  -++++-  54329.24428571428  -+++++-  81637.3613425218  -++++++- \n",
            " -+++++++-  1674  -+-  1228  -++-  446  -+++-  Côte d'Ivoire <class 'str'>  -++++-  157256.75217426696  -+++++-  201662.55331632777  -++++++- \n",
            " -+++++++-  7  -+-  5  -++-  2  -+++-  DR Congo <class 'str'>  -++++-  417432.63600000006  -+++++-  525364.4553982415  -++++++- \n",
            " -+++++++-  21764  -+-  15854  -++-  5910  -+++-  Denmark <class 'str'>  -++++-  55599.87060867908  -+++++-  83711.81915055834  -++++++- \n",
            " -+++++++-  447  -+-  320  -++-  127  -+++-  Djibouti <class 'str'>  -++++-  220828.59587500003  -+++++-  306582.6138149439  -++++++- \n",
            " -+++++++-  19595  -+-  14239  -++-  5356  -+++-  Dominican Republic <class 'str'>  -++++-  56731.30133576776  -+++++-  87694.30746120098  -++++++- \n",
            " -+++++++-  6463  -+-  4629  -++-  1834  -+++-  Ecuador <class 'str'>  -++++-  126564.6492914236  -+++++-  179649.1613296972  -++++++- \n",
            " -+++++++-  1  -+-  0  -++-  1  -+++-  Egypt <class 'str'>  -++++-  nan  -+++++-  nan  -++++++- \n",
            " -+++++++-  24245  -+-  17553  -++-  6692  -+++-  El Salvador <class 'str'>  -++++-  54309.833553808334  -+++++-  80940.7779250018  -++++++- \n",
            " -+++++++-  976  -+-  731  -++-  245  -+++-  Equatorial Guinea <class 'str'>  -++++-  188369.206621067  -+++++-  248106.4256941031  -++++++- \n",
            " -+++++++-  8115  -+-  5920  -++-  2195  -+++-  Eritrea <class 'str'>  -++++-  111185.43976182421  -+++++-  157824.2115022286  -++++++- \n",
            " -+++++++-  893  -+-  616  -++-  277  -+++-  Estonia <class 'str'>  -++++-  193611.06535714286  -+++++-  249280.1089991803  -++++++- \n",
            " -+++++++-  509  -+-  396  -++-  113  -+++-  Eswatini <class 'str'>  -++++-  238879.01123737378  -+++++-  303525.9837880431  -++++++- \n",
            " -+++++++-  414  -+-  297  -++-  117  -+++-  Fiji <class 'str'>  -++++-  227440.47811447806  -+++++-  316372.88343729416  -++++++- \n",
            " -+++++++-  21359  -+-  15536  -++-  5823  -+++-  Finland <class 'str'>  -++++-  55233.36004891864  -+++++-  84593.83373850577  -++++++- \n",
            " -+++++++-  23  -+-  16  -++-  7  -+++-  France <class 'str'>  -++++-  158314.530625  -+++++-  128082.84386221907  -++++++- \n",
            " -+++++++-  2671  -+-  1912  -++-  759  -+++-  Gabon <class 'str'>  -++++-  154266.8757688284  -+++++-  207274.9827736345  -++++++- \n",
            " -+++++++-  3299  -+-  2386  -++-  913  -+++-  Gambia <class 'str'>  -++++-  144304.2461525564  -+++++-  200374.5256444767  -++++++- \n",
            " -+++++++-  8563  -+-  6236  -++-  2327  -+++-  Georgia <class 'str'>  -++++-  104503.09461513782  -+++++-  150944.6911693223  -++++++- \n",
            " -+++++++-  679  -+-  509  -++-  170  -+++-  Ghana <class 'str'>  -++++-  200761.60001964628  -+++++-  256099.77606657788  -++++++- \n",
            " -+++++++-  21056  -+-  15284  -++-  5772  -+++-  Greece <class 'str'>  -++++-  54748.29710088973  -+++++-  83753.53850262144  -++++++- \n",
            " -+++++++-  11  -+-  6  -++-  5  -+++-  Grenada <class 'str'>  -++++-  446144.5516666666  -+++++-  633873.1859837965  -++++++- \n",
            " -+++++++-  5766  -+-  4207  -++-  1559  -+++-  Guatemala <class 'str'>  -++++-  130480.14249584026  -+++++-  182056.4400484768  -++++++- \n",
            " -+++++++-  11395  -+-  8258  -++-  3137  -+++-  Guinea <class 'str'>  -++++-  91569.45365342694  -+++++-  132397.93986850017  -++++++- \n",
            " -+++++++-  1680  -+-  1236  -++-  444  -+++-  Guinea-Bissau <class 'str'>  -++++-  165736.01723300968  -+++++-  232504.77027907918  -++++++- \n",
            " -+++++++-  323  -+-  240  -++-  83  -+++-  Guyana <class 'str'>  -++++-  224594.87529166669  -+++++-  328758.0773458318  -++++++- \n",
            " -+++++++-  17545  -+-  12652  -++-  4893  -+++-  Haiti <class 'str'>  -++++-  59043.36049083159  -+++++-  89297.35036356725  -++++++- \n",
            " -+++++++-  118000  -+-  111155  -++-  6845  -+++-  Honduras <class 'str'>  -++++-  48002.29042697031  -+++++-  75744.3920033225  -++++++- \n",
            " -+++++++-  25074  -+-  18200  -++-  6874  -+++-  Hungary <class 'str'>  -++++-  57262.401945604535  -+++++-  89005.09642385342  -++++++- \n",
            " -+++++++-  40  -+-  25  -++-  15  -+++-  Iceland <class 'str'>  -++++-  287466.2568  -+++++-  386433.7164201364  -++++++- \n",
            " -+++++++-  164  -+-  120  -++-  44  -+++-  Iraq <class 'str'>  -++++-  259285.97800000006  -+++++-  299489.8906584847  -++++++- \n",
            " -+++++++-  14697  -+-  10599  -++-  4098  -+++-  Ireland <class 'str'>  -++++-  60665.539615057925  -+++++-  89229.588116751  -++++++- \n",
            " -+++++++-  26908  -+-  19548  -++-  7360  -+++-  Israel <class 'str'>  -++++-  55495.98080519745  -+++++-  84264.63035542212  -++++++- \n",
            " -+++++++-  20  -+-  16  -++-  4  -+++-  Italy <class 'str'>  -++++-  540869.3324999999  -+++++-  640553.8508287922  -++++++- \n",
            " -+++++++-  5340  -+-  3806  -++-  1534  -+++-  Jamaica <class 'str'>  -++++-  125281.8440620073  -+++++-  173767.32767894855  -++++++- \n",
            " -+++++++-  22157  -+-  16128  -++-  6029  -+++-  Jordan <class 'str'>  -++++-  52615.89857018843  -+++++-  79944.28376428825  -++++++- \n",
            " -+++++++-  4876  -+-  3509  -++-  1367  -+++-  Kazakhstan <class 'str'>  -++++-  138102.06322884027  -+++++-  192223.58834384813  -++++++- \n",
            " -+++++++-  35  -+-  28  -++-  7  -+++-  Kenya <class 'str'>  -++++-  288711.7032142857  -+++++-  409985.01335044194  -++++++- \n",
            " -+++++++-  12  -+-  10  -++-  2  -+++-  Kiribati <class 'str'>  -++++-  292994.838  -+++++-  441284.8598478536  -++++++- \n",
            " -+++++++-  10841  -+-  7821  -++-  3020  -+++-  Kuwait <class 'str'>  -++++-  96815.45453906151  -+++++-  139816.98563535992  -++++++- \n",
            " -+++++++-  23521  -+-  17111  -++-  6410  -+++-  Kyrgyzstan <class 'str'>  -++++-  56594.431527672205  -+++++-  85323.5744081299  -++++++- \n",
            " -+++++++-  26544  -+-  19036  -++-  7508  -+++-  Laos <class 'str'>  -++++-  56165.231997793635  -+++++-  84252.2555413307  -++++++- \n",
            " -+++++++-  1563  -+-  1140  -++-  423  -+++-  Latvia <class 'str'>  -++++-  173703.9894473685  -+++++-  239507.5166396101  -++++++- \n",
            " -+++++++-  25732  -+-  18584  -++-  7148  -+++-  Lebanon <class 'str'>  -++++-  56137.0632441884  -+++++-  84275.99565435015  -++++++- \n",
            " -+++++++-  2324  -+-  1691  -++-  633  -+++-  Lesotho <class 'str'>  -++++-  150180.96361324677  -+++++-  207107.72967643818  -++++++- \n",
            " -+++++++-  15429  -+-  11172  -++-  4257  -+++-  Liberia <class 'str'>  -++++-  58449.9488435375  -+++++-  86420.88238637023  -++++++- \n",
            " -+++++++-  25014  -+-  18255  -++-  6759  -+++-  Libya <class 'str'>  -++++-  55222.56374034516  -+++++-  83320.52283660551  -++++++- \n",
            " -+++++++-  3973  -+-  2871  -++-  1102  -+++-  Lithuania <class 'str'>  -++++-  131971.71832462575  -+++++-  181613.96973457607  -++++++- \n",
            " -+++++++-  150  -+-  111  -++-  39  -+++-  Luxembourg <class 'str'>  -++++-  234664.86117117113  -+++++-  280538.1007006693  -++++++- \n",
            " -+++++++-  1314  -+-  950  -++-  364  -+++-  Madagascar <class 'str'>  -++++-  153686.0919894737  -+++++-  205519.12180832744  -++++++- \n",
            " -+++++++-  4427  -+-  3138  -++-  1289  -+++-  Malawi <class 'str'>  -++++-  141114.479142766  -+++++-  198019.92116137536  -++++++- \n",
            " -+++++++-  524  -+-  382  -++-  142  -+++-  Malaysia <class 'str'>  -++++-  183503.32662303673  -+++++-  222881.51201179437  -++++++- \n",
            " -+++++++-  87  -+-  62  -++-  25  -+++-  Maldives <class 'str'>  -++++-  274008.19241935486  -+++++-  438236.0877361272  -++++++- \n",
            " -+++++++-  3245  -+-  2335  -++-  910  -+++-  Mali <class 'str'>  -++++-  116523.09232976445  -+++++-  154202.58302302827  -++++++- \n",
            " -+++++++-  66  -+-  55  -++-  11  -+++-  Malta <class 'str'>  -++++-  263351.49036363635  -+++++-  294764.28814887715  -++++++- \n",
            " -+++++++-  12402  -+-  8968  -++-  3434  -+++-  Mauritania <class 'str'>  -++++-  92345.9264351029  -+++++-  135071.50246588726  -++++++- \n",
            " -+++++++-  711  -+-  493  -++-  218  -+++-  Mauritius <class 'str'>  -++++-  197775.4997160242  -+++++-  278614.83337613934  -++++++- \n",
            " -+++++++-  3  -+-  2  -++-  1  -+++-  Mexico <class 'str'>  -++++-  1419633.01  -+++++-  1058904.3832157282  -++++++- \n",
            " -+++++++-  96  -+-  68  -++-  28  -+++-  Micronesia <class 'str'>  -++++-  225979.13058823528  -+++++-  364997.5611856515  -++++++- \n",
            " -+++++++-  9361  -+-  6784  -++-  2577  -+++-  Moldova <class 'str'>  -++++-  102533.56155365545  -+++++-  149572.65774663002  -++++++- \n",
            " -+++++++-  6377  -+-  4598  -++-  1779  -+++-  Mongolia <class 'str'>  -++++-  120196.68486733365  -+++++-  169964.41589805958  -++++++- \n",
            " -+++++++-  173  -+-  139  -++-  34  -+++-  Montenegro <class 'str'>  -++++-  262937.424028777  -+++++-  363689.16999690904  -++++++- \n",
            " -+++++++-  337  -+-  244  -++-  93  -+++-  Morocco <class 'str'>  -++++-  257330.21700819666  -+++++-  362255.40199199965  -++++++- \n",
            " -+++++++-  780  -+-  564  -++-  216  -+++-  Mozambique <class 'str'>  -++++-  178941.05141843978  -+++++-  237979.42654330865  -++++++- \n",
            " -+++++++-  29  -+-  21  -++-  8  -+++-  Myanmar <class 'str'>  -++++-  283959.5714285714  -+++++-  398949.5915058132  -++++++- \n",
            " -+++++++-  3580  -+-  2536  -++-  1044  -+++-  Namibia <class 'str'>  -++++-  144649.54218848585  -+++++-  199580.84926502084  -++++++- \n",
            " -+++++++-  1009  -+-  746  -++-  263  -+++-  Nepal <class 'str'>  -++++-  166334.91731903484  -+++++-  222521.19871831936  -++++++- \n",
            " -+++++++-  6818  -+-  5017  -++-  1801  -+++-  Netherlands <class 'str'>  -++++-  117841.24155471395  -+++++-  162019.1620466956  -++++++- \n",
            " -+++++++-  13639  -+-  9961  -++-  3678  -+++-  New Zealand <class 'str'>  -++++-  62133.348103604265  -+++++-  89851.87661575426  -++++++- \n",
            " -+++++++-  24872  -+-  17982  -++-  6890  -+++-  Nicaragua <class 'str'>  -++++-  56418.01136914693  -+++++-  84234.02398323998  -++++++- \n",
            " -+++++++-  2348  -+-  1691  -++-  657  -+++-  Niger <class 'str'>  -++++-  149068.91802483745  -+++++-  194149.04332004543  -++++++- \n",
            " -+++++++-  1810  -+-  1328  -++-  482  -+++-  North Korea <class 'str'>  -++++-  155516.79433734942  -+++++-  200541.4598015301  -++++++- \n",
            " -+++++++-  2090  -+-  1476  -++-  614  -+++-  North Macedonia <class 'str'>  -++++-  166340.8392682926  -+++++-  224055.67190520692  -++++++- \n",
            " -+++++++-  18422  -+-  13334  -++-  5088  -+++-  Norway <class 'str'>  -++++-  56204.99139343034  -+++++-  85846.57610251184  -++++++- \n",
            " -+++++++-  16048  -+-  11630  -++-  4418  -+++-  Oman <class 'str'>  -++++-  58868.32635855554  -+++++-  86933.85056114364  -++++++- \n",
            " -+++++++-  11497  -+-  8374  -++-  3123  -+++-  Panama <class 'str'>  -++++-  94600.39274540238  -+++++-  137593.3947878985  -++++++- \n",
            " -+++++++-  26346  -+-  19024  -++-  7322  -+++-  Papua New Guinea <class 'str'>  -++++-  56098.97723244318  -+++++-  85953.56020059626  -++++++- \n",
            " -+++++++-  26136  -+-  18828  -++-  7308  -+++-  Paraguay <class 'str'>  -++++-  55460.01235181641  -+++++-  83547.43459655649  -++++++- \n",
            " -+++++++-  475  -+-  352  -++-  123  -+++-  Peru <class 'str'>  -++++-  218928.84795454537  -+++++-  274036.15705549653  -++++++- \n",
            " -+++++++-  229  -+-  172  -++-  57  -+++-  Poland <class 'str'>  -++++-  236980.1012209302  -+++++-  338054.7103157657  -++++++- \n",
            " -+++++++-  21846  -+-  15869  -++-  5977  -+++-  Portugal <class 'str'>  -++++-  54887.81401348549  -+++++-  81352.0853302811  -++++++- \n",
            " -+++++++-  4461  -+-  3204  -++-  1257  -+++-  Qatar <class 'str'>  -++++-  135691.59304619217  -+++++-  185390.76889008202  -++++++- \n",
            " -+++++++-  3478  -+-  2515  -++-  963  -+++-  Romania <class 'str'>  -++++-  126981.14510139149  -+++++-  169625.03595728643  -++++++- \n",
            " -+++++++-  12382  -+-  9050  -++-  3332  -+++-  Rwanda <class 'str'>  -++++-  84435.80427071807  -+++++-  123216.2301266562  -++++++- \n",
            " -+++++++-  6  -+-  5  -++-  1  -+++-  Saint Kitts & Nevis <class 'str'>  -++++-  563772.926  -+++++-  979941.9210552138  -++++++- \n",
            " -+++++++-  16  -+-  9  -++-  7  -+++-  Saint Lucia <class 'str'>  -++++-  89834.58  -+++++-  162227.08021774277  -++++++- \n",
            " -+++++++-  14  -+-  11  -++-  3  -+++-  Samoa <class 'str'>  -++++-  500904.7872727273  -+++++-  452399.37097277085  -++++++- \n",
            " -+++++++-  15  -+-  12  -++-  3  -+++-  Sao Tome & Principe <class 'str'>  -++++-  835319.6725  -+++++-  827002.6492300626  -++++++- \n",
            " -+++++++-  335  -+-  254  -++-  81  -+++-  Saudi Arabia <class 'str'>  -++++-  245623.5335826772  -+++++-  306319.9041773241  -++++++- \n",
            " -+++++++-  8727  -+-  6274  -++-  2453  -+++-  Senegal <class 'str'>  -++++-  108453.17454096273  -+++++-  150501.0277053006  -++++++- \n",
            " -+++++++-  26728  -+-  19258  -++-  7470  -+++-  Serbia <class 'str'>  -++++-  55455.05505036857  -+++++-  84343.54845691472  -++++++- \n",
            " -+++++++-  26212  -+-  18937  -++-  7275  -+++-  Sierra Leone <class 'str'>  -++++-  54394.10504726196  -+++++-  83457.53690801944  -++++++- \n",
            " -+++++++-  22553  -+-  16435  -++-  6118  -+++-  Singapore <class 'str'>  -++++-  55234.38994219647  -+++++-  83656.8703309969  -++++++- \n",
            " -+++++++-  20325  -+-  14715  -++-  5610  -+++-  Slovakia <class 'str'>  -++++-  55445.172945973536  -+++++-  84759.96732369842  -++++++- \n",
            " -+++++++-  1920  -+-  1419  -++-  501  -+++-  Slovenia <class 'str'>  -++++-  158264.2251444678  -+++++-  214454.88951387198  -++++++- \n",
            " -+++++++-  187  -+-  141  -++-  46  -+++-  Solomon Islands <class 'str'>  -++++-  277052.18985815597  -+++++-  375713.9893146404  -++++++- \n",
            " -+++++++-  10101  -+-  7371  -++-  2730  -+++-  Somalia <class 'str'>  -++++-  98293.93950345943  -+++++-  142051.28260968512  -++++++- \n",
            " -+++++++-  21  -+-  16  -++-  5  -+++-  South Africa <class 'str'>  -++++-  292418.69625000004  -+++++-  296246.8796066534  -++++++- \n",
            " -+++++++-  42  -+-  28  -++-  14  -+++-  South Korea <class 'str'>  -++++-  382512.0957142857  -+++++-  366724.45817398495  -++++++- \n",
            " -+++++++-  18597  -+-  13506  -++-  5091  -+++-  South Sudan <class 'str'>  -++++-  57007.04867170146  -+++++-  87732.80327803335  -++++++- \n",
            " -+++++++-  53  -+-  39  -++-  14  -+++-  Spain <class 'str'>  -++++-  263865.41794871795  -+++++-  421474.79076179146  -++++++- \n",
            " -+++++++-  2706  -+-  1957  -++-  749  -+++-  Sri Lanka <class 'str'>  -++++-  124858.33921308118  -+++++-  167831.4033184941  -++++++- \n",
            " -+++++++-  6  -+-  5  -++-  1  -+++-  St. Vincent & Grenadines <class 'str'>  -++++-  614662.824  -+++++-  962459.3290799583  -++++++- \n",
            " -+++++++-  17037  -+-  12278  -++-  4759  -+++-  State of Palestine <class 'str'>  -++++-  57358.19443801921  -+++++-  86407.08885816553  -++++++- \n",
            " -+++++++-  148  -+-  106  -++-  42  -+++-  Sudan <class 'str'>  -++++-  249219.88490566038  -+++++-  357140.5192469248  -++++++- \n",
            " -+++++++-  144  -+-  109  -++-  35  -+++-  Suriname <class 'str'>  -++++-  303022.6966055046  -+++++-  357467.3608950007  -++++++- \n",
            " -+++++++-  23889  -+-  17322  -++-  6567  -+++-  Sweden <class 'str'>  -++++-  51310.48552187986  -+++++-  78375.8007185537  -++++++- \n",
            " -+++++++-  27245  -+-  19881  -++-  7364  -+++-  Switzerland <class 'str'>  -++++-  55881.18549318464  -+++++-  85659.96801094773  -++++++- \n",
            " -+++++++-  7581  -+-  5571  -++-  2010  -+++-  Syria <class 'str'>  -++++-  114281.49017232108  -+++++-  164407.48211043642  -++++++- \n",
            " -+++++++-  26129  -+-  19134  -++-  6995  -+++-  Tajikistan <class 'str'>  -++++-  55711.063613985214  -+++++-  85810.60973931698  -++++++- \n",
            " -+++++++-  23  -+-  15  -++-  8  -+++-  Tanzania <class 'str'>  -++++-  300912.70533333335  -+++++-  488577.5589499386  -++++++- \n",
            " -+++++++-  11  -+-  4  -++-  7  -+++-  Thailand <class 'str'>  -++++-  933539.5425  -+++++-  807907.0095085177  -++++++- \n",
            " -+++++++-  771  -+-  553  -++-  218  -+++-  Timor-Leste <class 'str'>  -++++-  195901.12206148278  -+++++-  257768.55115296968  -++++++- \n",
            " -+++++++-  27073  -+-  19652  -++-  7421  -+++-  Togo <class 'str'>  -++++-  54076.319243842794  -+++++-  82946.69729409642  -++++++- \n",
            " -+++++++-  1250  -+-  943  -++-  307  -+++-  Trinidad and Tobago <class 'str'>  -++++-  157257.79713679742  -+++++-  202469.9909129533  -++++++- \n",
            " -+++++++-  13990  -+-  10117  -++-  3873  -+++-  Tunisia <class 'str'>  -++++-  77619.46979539405  -+++++-  111965.30406384896  -++++++- \n",
            " -+++++++-  9  -+-  7  -++-  2  -+++-  Turkey <class 'str'>  -++++-  132523.86428571428  -+++++-  179029.24547151336  -++++++- \n",
            " -+++++++-  23136  -+-  16805  -++-  6331  -+++-  Turkmenistan <class 'str'>  -++++-  57392.183944659315  -+++++-  86895.58442172503  -++++++- \n",
            " -+++++++-  78  -+-  61  -++-  17  -+++-  Uganda <class 'str'>  -++++-  229060.79393442624  -+++++-  329171.47255585727  -++++++- \n",
            " -+++++++-  94  -+-  59  -++-  35  -+++-  Ukraine <class 'str'>  -++++-  291637.6477966102  -+++++-  369740.27746308  -++++++- \n",
            " -+++++++-  22257  -+-  15728  -++-  6529  -+++-  United Arab Emirates <class 'str'>  -++++-  51998.37347024412  -+++++-  83412.52623474982  -++++++- \n",
            " -+++++++-  4  -+-  0  -++-  4  -+++-  United Kingdom <class 'str'>  -++++-  nan  -+++++-  nan  -++++++- \n",
            " -+++++++-  1  -+-  0  -++-  1  -+++-  Unknown <class 'str'>  -++++-  nan  -+++++-  nan  -++++++- \n",
            " -+++++++-  2053  -+-  0  -++-  2053  -+++-  Uruguay <class 'str'>  -++++-  nan  -+++++-  nan  -++++++- \n",
            " -+++++++-  124  -+-  0  -++-  124  -+++-  Uzbekistan <class 'str'>  -++++-  nan  -+++++-  nan  -++++++- \n",
            " -+++++++-  7  -+-  0  -++-  7  -+++-  Vanuatu <class 'str'>  -++++-  nan  -+++++-  nan  -++++++- \n",
            " -+++++++-  300  -+-  0  -++-  300  -+++-  Venezuela <class 'str'>  -++++-  nan  -+++++-  nan  -++++++- \n",
            " -+++++++-  1  -+-  0  -++-  1  -+++-  Vietnam <class 'str'>  -++++-  nan  -+++++-  nan  -++++++- \n",
            " -+++++++-  254  -+-  0  -++-  254  -+++-  Yemen <class 'str'>  -++++-  nan  -+++++-  nan  -++++++- \n",
            " -+++++++-  1429  -+-  0  -++-  1429  -+++-  Zambia <class 'str'>  -++++-  nan  -+++++-  nan  -++++++- \n",
            " -+++++++-  2945  -+-  0  -++-  2945  -+++-  Zimbabwe <class 'str'>  -++++-  nan  -+++++-  nan  -++++++- \n",
            "record count   train :  1048574    test :  369438\n",
            "sum of count   train :  1048546    test :  369438\n",
            "\n",
            " 2020-07-28 17:27:12.165277\n"
          ],
          "name": "stdout"
        }
      ]
    },
    {
      "cell_type": "code",
      "metadata": {
        "id": "9tDsy8kfbRRG",
        "colab_type": "code",
        "colab": {
          "base_uri": "https://localhost:8080/",
          "height": 52
        },
        "outputId": "4e214248-5bdf-407e-bd23-fb536fa54dbc"
      },
      "source": [
        "# encode using mean encoding and also use a total count encoding \n",
        "# for countries only in test use overall mean - and hope that the count picks \n",
        "# it up - would be tempting to use a mean for a country with a similar count.\n",
        "\n",
        "# means for countries with similar counts (or equal for lower counts)\n",
        "# for all countries missing in train_df\n",
        "\n",
        "'''\n",
        "Egypt\t484811.7491\n",
        "United Kingdom\t573221.8324\n",
        "Unknown\t484811.7491\n",
        "Uruguay\t158495.8342\n",
        "Uzbekistan\t278893.7784\n",
        "Vanuatu\t414758.4535\n",
        "Venezuela\t239445.9115\n",
        "Vietnam\t484811.7491\n",
        "Yemen\t250653.3961\n",
        "Zambia\t165889.0433\n",
        "Zimbabwe\t137950.3644\n",
        "'''"
      ],
      "execution_count": 42,
      "outputs": [
        {
          "output_type": "execute_result",
          "data": {
            "application/vnd.google.colaboratory.intrinsic+json": {
              "type": "string"
            },
            "text/plain": [
              "'\\nEgypt\\t484811.7491\\nUnited Kingdom\\t573221.8324\\nUnknown\\t484811.7491\\nUruguay\\t158495.8342\\nUzbekistan\\t278893.7784\\nVanuatu\\t414758.4535\\nVenezuela\\t239445.9115\\nVietnam\\t484811.7491\\nYemen\\t250653.3961\\nZambia\\t165889.0433\\nZimbabwe\\t137950.3644\\n'"
            ]
          },
          "metadata": {
            "tags": []
          },
          "execution_count": 42
        }
      ]
    },
    {
      "cell_type": "code",
      "metadata": {
        "id": "P82PpJQFbRJr",
        "colab_type": "code",
        "colab": {
          "base_uri": "https://localhost:8080/",
          "height": 408
        },
        "outputId": "6ac7ee1a-cad7-435a-a151-e4c7e63c3aa6"
      },
      "source": [
        "#build a map and then use it \n",
        "mean_encode = train_df.groupby('Country')['Income'].mean()\n",
        "\n",
        "# print(type(mean_encode))\n",
        "# print (mean_encode)\n",
        "\n",
        "# build a map for the contries not in train (values derived based on nearest neighbours by count)\n",
        "extra_encode = pd.Series ([484811.7491, 573221.8324, 484811.7491,\n",
        "                           158495.8342, 278893.7784, 414758.4535,\n",
        "                           239445.9115, 484811.7491,250653.3961,\n",
        "                           165889.0433, 137950.3644],\n",
        "                    index=[\"Egypt\", \"United Kingdom\", \"Unknown\",\n",
        "                           \"Uruguay\", \"Uzbekistan\", \"Vanuatu\",\n",
        "                           \"Venezuela\", \"Vietnam\", \"Yemen\",\n",
        "                           \"Zambia\", \"Zimbabwe\"])\n",
        "\n",
        "#combine the two maps\n",
        "mean_encode = mean_encode.append(extra_encode, verify_integrity=True)\n",
        "\n",
        "# print(type(mean_encode))\n",
        "# print (mean_encode)\n",
        "\n",
        "\n",
        "train_df.loc[:, 'CountryEnc1'] = train_df['Country'].map(mean_encode)\n",
        "\n",
        "test_df.loc[:, 'CountryEnc1'] = test_df['Country'].map(mean_encode)\n",
        "\n",
        "print (\" train_df :\")\n",
        "print ( train_df['CountryEnc1'].describe() )\n",
        "\n",
        "print (\"\\n test_df :\")\n",
        "print ( test_df['CountryEnc1'].describe() )\n",
        "\n",
        "print(\"\\n\", dt.now())"
      ],
      "execution_count": 43,
      "outputs": [
        {
          "output_type": "stream",
          "text": [
            " train_df :\n",
            "count   1048574.0\n",
            "mean      68509.7\n",
            "std       29799.8\n",
            "min       23752.6\n",
            "25%       54394.1\n",
            "50%       56109.1\n",
            "75%       63964.7\n",
            "max     2319623.7\n",
            "Name: CountryEnc1, dtype: float64\n",
            "\n",
            " test_df :\n",
            "count    369438.0\n",
            "mean      72249.8\n",
            "std       33005.0\n",
            "min       48002.3\n",
            "25%       55234.4\n",
            "50%       56165.2\n",
            "75%       77619.5\n",
            "max     1419633.0\n",
            "Name: CountryEnc1, dtype: float64\n",
            "\n",
            " 2020-07-28 17:27:59.998952\n"
          ],
          "name": "stdout"
        }
      ]
    },
    {
      "cell_type": "code",
      "metadata": {
        "id": "W2YctmPmbRB-",
        "colab_type": "code",
        "colab": {
          "base_uri": "https://localhost:8080/",
          "height": 612
        },
        "outputId": "c74bd5da-77fc-4938-9649-cef2cb0d9d39"
      },
      "source": [
        "# build a map and encode county count as well \n",
        "\n",
        "#build a map and then use it \n",
        "mean_encode1 = train_df.groupby('Country')['Instance'].count()\n",
        "\n",
        "# print(type(mean_encode))\n",
        "# print (mean_encode)\n",
        "\n",
        "# build a map for the contries not in train (values derived based on nearest neighbours by count)\n",
        "extra_encode1 = pd.Series ([0,0,0,\n",
        "                            0,0,0,\n",
        "                            0,0,0,\n",
        "                            0,0],\n",
        "                    index=[\"Egypt\", \"United Kingdom\", \"Unknown\",\n",
        "                           \"Uruguay\", \"Uzbekistan\", \"Vanuatu\",\n",
        "                           \"Venezuela\", \"Vietnam\", \"Yemen\",\n",
        "                           \"Zambia\", \"Zimbabwe\"])\n",
        "\n",
        "mean_encode2 = test_df.groupby('Country')['Instance'].count()\n",
        "\n",
        "\n",
        "\n",
        "#combine the two maps\n",
        "mean_encode1 = mean_encode1.append(extra_encode1, verify_integrity=True)\n",
        "\n",
        "mean_encode = mean_encode1.add(mean_encode2, fill_value=0)\n",
        "\n",
        "# print(type(mean_encode))\n",
        "print (mean_encode)\n",
        "\n",
        "\n",
        "train_df.loc[:, 'CountryEnc2'] = train_df['Country'].map(mean_encode)\n",
        "\n",
        "test_df.loc[:, 'CountryEnc2'] = test_df['Country'].map(mean_encode)\n",
        "\n",
        "print (\" train_df :\")\n",
        "print ( train_df['CountryEnc2'].describe() )\n",
        "\n",
        "print (\"\\n test_df :\")\n",
        "print ( test_df['CountryEnc2'].describe() )\n",
        "\n",
        "print(\"\\n\", dt.now())"
      ],
      "execution_count": 44,
      "outputs": [
        {
          "output_type": "stream",
          "text": [
            "0                2.0\n",
            "Afghanistan    186.0\n",
            "Albania       4848.0\n",
            "Algeria        108.0\n",
            "Angola         622.0\n",
            "               ...  \n",
            "Venezuela      300.0\n",
            "Vietnam          1.0\n",
            "Yemen          254.0\n",
            "Zambia        1429.0\n",
            "Zimbabwe      2945.0\n",
            "Length: 185, dtype: float64\n",
            " train_df :\n",
            "count   1048574.0\n",
            "mean      29550.9\n",
            "std       31244.8\n",
            "min           1.0\n",
            "25%       15429.0\n",
            "50%       22257.0\n",
            "75%       26212.0\n",
            "max      118000.0\n",
            "Name: CountryEnc2, dtype: float64\n",
            "\n",
            " test_df :\n",
            "count   369438.0\n",
            "mean     20569.6\n",
            "std      15394.8\n",
            "min          1.0\n",
            "25%      13990.0\n",
            "50%      21764.0\n",
            "75%      25732.0\n",
            "max     118000.0\n",
            "Name: CountryEnc2, dtype: float64\n",
            "\n",
            " 2020-07-28 17:28:07.079872\n"
          ],
          "name": "stdout"
        }
      ]
    },
    {
      "cell_type": "code",
      "metadata": {
        "id": "wYHYbydKbQ6l",
        "colab_type": "code",
        "colab": {
          "base_uri": "https://localhost:8080/",
          "height": 119
        },
        "outputId": "ec140085-2a27-4792-90da-319da84a16fc"
      },
      "source": [
        "# check correlation of both - and also with each other\n",
        "\n",
        "\n",
        "print (\" 8 Country : \",\n",
        "       pearsonr(train_df[ 'CountryEnc1'], train_df['Income']),\n",
        "       spearmanr(train_df[ 'CountryEnc1'], train_df['Income']),\n",
        "       \"  -  some linear correlation. \\n\")\n",
        "\n",
        "print (\" 8 Country Count : \",\n",
        "       pearsonr(train_df[ 'CountryEnc2'], train_df['Income']),\n",
        "       spearmanr(train_df[ 'CountryEnc2'], train_df['Income']),\n",
        "       \"  -  less correlation and more non-linear \\n\")\n",
        "\n",
        "print (\" 8 Country : \",\n",
        "       pearsonr(train_df[ 'CountryEnc1'], train_df['CountryEnc2']),\n",
        "       spearmanr(train_df[ 'CountryEnc1'], train_df['CountryEnc2']),\n",
        "       \"  -  Moderate linear correlation between the two - better non linear one  - could be that one would do \\n\")"
      ],
      "execution_count": 45,
      "outputs": [
        {
          "output_type": "stream",
          "text": [
            " 8 Country :  (0.266236051504459, 0.0) SpearmanrResult(correlation=0.1774095312870236, pvalue=0.0)   -  some linear correlation. \n",
            "\n",
            " 8 Country Count :  (-0.1111191489962976, 0.0) SpearmanrResult(correlation=-0.1734909908085035, pvalue=0.0)   -  less correlation and more non-linear \n",
            "\n",
            " 8 Country :  (-0.41737078193724086, 0.0) SpearmanrResult(correlation=-0.8200416932723638, pvalue=0.0)   -  Moderate linear correlation between the two - better non linear one  - could be that one would do \n",
            "\n"
          ],
          "name": "stdout"
        }
      ]
    },
    {
      "cell_type": "code",
      "metadata": {
        "id": "cpYUKuJNbQye",
        "colab_type": "code",
        "colab": {
          "base_uri": "https://localhost:8080/",
          "height": 119
        },
        "outputId": "9d24366e-dace-428e-abea-5ce4e380fc8f"
      },
      "source": [
        "# scale both and recheck correlations\n",
        "\n",
        "# Scale the value\n",
        "train_df[ 'CountryEncA'], test_df[ 'CountryEncA'] = myscale ( train_df.CountryEnc1, test_df.CountryEnc1 ) \n",
        "\n",
        "print (\" 8 Country : \",\n",
        "       pearsonr(train_df[ 'CountryEncA'], train_df['Income']),\n",
        "       spearmanr(train_df[ 'CountryEncA'], train_df['Income']),\n",
        "       \"  -   \\n\")\n",
        "\n",
        "# Scale the value\n",
        "train_df[ 'CountryEncB'], test_df[ 'CountryEncB'] = myscale ( train_df.CountryEnc2, test_df.CountryEnc2 ) \n",
        "\n",
        "print (\" 8 Country Count : \",\n",
        "       pearsonr(train_df[ 'CountryEncB'], train_df['Income']),\n",
        "       spearmanr(train_df[ 'CountryEncB'], train_df['Income']),\n",
        "       \"  -   \\n\")\n",
        "\n",
        "print(\"\\n\", dt.now())"
      ],
      "execution_count": 46,
      "outputs": [
        {
          "output_type": "stream",
          "text": [
            " 8 Country :  (0.26623605150445895, 0.0) SpearmanrResult(correlation=0.1774095312870236, pvalue=0.0)   -   \n",
            "\n",
            " 8 Country Count :  (-0.1111191489962976, 0.0) SpearmanrResult(correlation=-0.1734909908085035, pvalue=0.0)   -   \n",
            "\n",
            "\n",
            " 2020-07-28 17:28:51.661841\n"
          ],
          "name": "stdout"
        }
      ]
    },
    {
      "cell_type": "code",
      "metadata": {
        "id": "0HQ10YcsbQqf",
        "colab_type": "code",
        "colab": {}
      },
      "source": [
        ""
      ],
      "execution_count": null,
      "outputs": []
    },
    {
      "cell_type": "code",
      "metadata": {
        "id": "cmWFUMACbQgA",
        "colab_type": "code",
        "colab": {}
      },
      "source": [
        ""
      ],
      "execution_count": null,
      "outputs": []
    },
    {
      "cell_type": "code",
      "metadata": {
        "id": "-77GZVkjk6JR",
        "colab_type": "code",
        "colab": {}
      },
      "source": [
        ""
      ],
      "execution_count": null,
      "outputs": []
    },
    {
      "cell_type": "code",
      "metadata": {
        "id": "7Z6F_My1k59D",
        "colab_type": "code",
        "colab": {}
      },
      "source": [
        ""
      ],
      "execution_count": null,
      "outputs": []
    },
    {
      "cell_type": "code",
      "metadata": {
        "id": "iWYjOhQEbQU8",
        "colab_type": "code",
        "colab": {}
      },
      "source": [
        ""
      ],
      "execution_count": null,
      "outputs": []
    },
    {
      "cell_type": "code",
      "metadata": {
        "id": "4DMam6JobQHw",
        "colab_type": "code",
        "colab": {
          "base_uri": "https://localhost:8080/",
          "height": 357
        },
        "outputId": "02a55510-cc16-47fc-92a4-9847e556c010"
      },
      "source": [
        "###############################################\n",
        "#@title       Correlation Review              #\n",
        "###############################################\n",
        "\n",
        "\n",
        "# Review the correlations \n",
        "\n",
        "print (\" 0 Instance : \",\n",
        "       pearsonr(train_df[ 'YearEnc'], train_df['Income']),\n",
        "       spearmanr(train_df[ 'YearEnc'], train_df['Income']),\n",
        "       \"  -  quite high, but somewhat non linear corelation. Why ? \\n\")\n",
        "\t   \n",
        "print (\" 1 Year : \",\n",
        "       pearsonr(train_df[ 'YearEnc'], train_df['Income']),\n",
        "       spearmanr(train_df[ 'YearEnc'], train_df['Income']),\n",
        "       \"  -  quite high, but somewhat non linear corelation. Why ? \\n\")\n",
        "\n",
        "print (\" 2 Housing : \",\n",
        "       pearsonr(train_df[ 'HousingEnc'], train_df['Income']),\n",
        "       spearmanr(train_df[ 'HousingEnc'], train_df['Income']),\n",
        "       \"  -  quite high, but somewhat non linear corelation. ? \\n\")\n",
        "\t\n",
        "print (\" 3 CrimeLevel : \",\n",
        "       pearsonr(train_df[ 'CrimeLevel'], train_df['Income']),\n",
        "       spearmanr(train_df[ 'CrimeLevel'], train_df['Income']),\n",
        "       \"  -  Very little corelation - don't use this data. \\n\")\n",
        "\t   \n",
        "print (\" 4 Age: \",\n",
        "       pearsonr(train_df[ 'Age'], train_df['Income']),\n",
        "       spearmanr(train_df[ 'Age'], train_df['Income']),\n",
        "       \"  -  Very little corelation. Use ? \\n\")\t   \n",
        "\t   \n",
        "print (\" 5 WorkExp : \",\n",
        "       pearsonr(train_df[ 'WorkExpEnc'], train_df['Income']),\n",
        "       spearmanr(train_df[ 'WorkExpEnc'], train_df['Income']),\n",
        "       \"  -  slight corelation \\n\")\n",
        "\t   \n",
        "print (\" 6 Satisfaction : \",\n",
        "       pearsonr(train_df[ 'SatisfactionEnc'], train_df['Income']),\n",
        "       spearmanr(train_df[ 'SatisfactionEnc'], train_df['Income']),\n",
        "       \"  -  Minimum correlation - could consider not using it - just adds noise. \\n\")\n",
        "\n",
        "print (\" 7 Gender : \",\n",
        "       pearsonr(train_df[ 'GenderEnc'], train_df['Income']),\n",
        "       spearmanr(train_df[ 'GenderEnc'], train_df['Income']),\n",
        "       \"  -  Small correlation - should contribute a bit. \\n\")\n",
        "\n",
        "print (\" 8 Country  : \",\n",
        "       pearsonr(train_df[ 'CountryEncA'], train_df['Income']),\n",
        "       spearmanr(train_df[ 'CountryEncA'], train_df['Income']),\n",
        "       \"  -   \\n\")\n",
        "\n",
        "print (\"(8) Country Count : \",\n",
        "       pearsonr(train_df[ 'CountryEncB'], train_df['Income']),\n",
        "       spearmanr(train_df[ 'CountryEncB'], train_df['Income']),\n",
        "       \"  -   \\n\")"
      ],
      "execution_count": 47,
      "outputs": [
        {
          "output_type": "stream",
          "text": [
            " 0 Instance :  (0.6353301585949167, 0.0) SpearmanrResult(correlation=0.854775189253737, pvalue=0.0)   -  quite high, but somewhat non linear corelation. Why ? \n",
            "\n",
            " 1 Year :  (0.6353301585949167, 0.0) SpearmanrResult(correlation=0.854775189253737, pvalue=0.0)   -  quite high, but somewhat non linear corelation. Why ? \n",
            "\n",
            " 2 Housing :  (0.7431611526144238, 0.0) SpearmanrResult(correlation=0.844274810513409, pvalue=0.0)   -  quite high, but somewhat non linear corelation. ? \n",
            "\n",
            " 3 CrimeLevel :  (-0.04625273201268572, 0.0) SpearmanrResult(correlation=-0.04312210980226222, pvalue=0.0)   -  Very little corelation - don't use this data. \n",
            "\n",
            " 4 Age:  (0.10067153027768558, 0.0) SpearmanrResult(correlation=0.07849967806951791, pvalue=0.0)   -  Very little corelation. Use ? \n",
            "\n",
            " 5 WorkExp :  (0.20073715635518646, 0.0) SpearmanrResult(correlation=0.19425821486433636, pvalue=0.0)   -  slight corelation \n",
            "\n",
            " 6 Satisfaction :  (0.0981326534438217, 0.0) SpearmanrResult(correlation=0.0057278007006581755, pvalue=4.483120708689596e-09)   -  Minimum correlation - could consider not using it - just adds noise. \n",
            "\n",
            " 7 Gender :  (0.261622607159989, 0.0) SpearmanrResult(correlation=0.08366667031295193, pvalue=0.0)   -  Small correlation - should contribute a bit. \n",
            "\n",
            " 8 Country  :  (0.26623605150445895, 0.0) SpearmanrResult(correlation=0.1774095312870236, pvalue=0.0)   -   \n",
            "\n",
            "(8) Country Count :  (-0.1111191489962976, 0.0) SpearmanrResult(correlation=-0.1734909908085035, pvalue=0.0)   -   \n",
            "\n"
          ],
          "name": "stdout"
        }
      ]
    },
    {
      "cell_type": "code",
      "metadata": {
        "id": "E27glrH5xySZ",
        "colab_type": "code",
        "colab": {
          "base_uri": "https://localhost:8080/",
          "height": 119
        },
        "outputId": "722897b2-303b-4a63-9589-b74a0b996a2f"
      },
      "source": [
        "# Copy the encoded numeric columns into our training data set\n",
        "\n",
        "train_df_num = train_df[[\"InstanceEnc\",\n",
        "                         \"YearEnc\",\n",
        "                         \"HousingEnc\",\n",
        "                         \"WorkExpEnc\",\n",
        "                         # \"SatisfactionEnc\",\n",
        "                         \"GenderEnc\",\n",
        "                         \"CountryEncA\",\n",
        "                         # \"CountryEncB\"\n",
        "                         ]] \n",
        "\n",
        "# include the known dependant variable values (the thing we are trying to predict)\n",
        "\n",
        "train_df_num['Income'] = train_df['Income']\n",
        "\n"
      ],
      "execution_count": 48,
      "outputs": [
        {
          "output_type": "stream",
          "text": [
            "/usr/local/lib/python3.6/dist-packages/ipykernel_launcher.py:15: SettingWithCopyWarning: \n",
            "A value is trying to be set on a copy of a slice from a DataFrame.\n",
            "Try using .loc[row_indexer,col_indexer] = value instead\n",
            "\n",
            "See the caveats in the documentation: https://pandas.pydata.org/pandas-docs/stable/user_guide/indexing.html#returning-a-view-versus-a-copy\n",
            "  from ipykernel import kernelapp as app\n"
          ],
          "name": "stderr"
        }
      ]
    },
    {
      "cell_type": "code",
      "metadata": {
        "id": "mblecavVxyM6",
        "colab_type": "code",
        "colab": {
          "base_uri": "https://localhost:8080/",
          "height": 51
        },
        "outputId": "3328b854-25d1-448c-a08b-03819006af5c"
      },
      "source": [
        "train_norm =  train_df[[\"InstanceEnc\",\n",
        "                        \"YearEnc\",\n",
        "                        \"HousingEnc\",\n",
        "                        \"WorkExpEnc\",\n",
        "                        # \"SatisfactionEnc\",\n",
        "                        \"GenderEnc\",\n",
        "                        \"CountryEncA\",\n",
        "                        # \"CountryEncB\"\n",
        "                        ]] \n",
        "\n",
        "y_full = train_df[\"Income\"].copy()\n",
        "miny = y_full.min()\n",
        "maxy = y_full.max()\n",
        "y_norm = (y_full.copy() - miny +1 )/ (maxy - miny + 1)                         \n",
        "\n",
        "print (train_norm.shape, y_norm.shape)\n",
        "\n",
        "print(dt.now())"
      ],
      "execution_count": 49,
      "outputs": [
        {
          "output_type": "stream",
          "text": [
            "(1048574, 6) (1048574,)\n",
            "2020-07-28 17:29:57.849477\n"
          ],
          "name": "stdout"
        }
      ]
    },
    {
      "cell_type": "code",
      "metadata": {
        "id": "mGNu8jgY2onP",
        "colab_type": "code",
        "colab": {}
      },
      "source": [
        ""
      ],
      "execution_count": null,
      "outputs": []
    },
    {
      "cell_type": "code",
      "metadata": {
        "id": "oyK-jIHAxyGU",
        "colab_type": "code",
        "colab": {
          "base_uri": "https://localhost:8080/",
          "height": 51
        },
        "outputId": "174713bd-3124-4572-d9c4-4723013318f2"
      },
      "source": [
        "print(\"Setting up train and test sets\")\n",
        "\n",
        "df = train_norm.copy()\n",
        "\n",
        "X_train1 = df.copy()\n",
        "y_train1norm = y_norm.copy()\n",
        "\n",
        "X_train2, X_test2, y_train2norm, y_test2norm = train_test_split(df, y_norm, test_size=0.20)\n",
        "\n",
        "X_train3, X_test3, y_train3norm, y_test3norm = train_test_split(df, y_norm, test_size=0.20)\n",
        "\n",
        "\n",
        "print(dt.now())"
      ],
      "execution_count": 50,
      "outputs": [
        {
          "output_type": "stream",
          "text": [
            "Setting up train and test sets\n",
            "2020-07-28 17:30:06.930039\n"
          ],
          "name": "stdout"
        }
      ]
    },
    {
      "cell_type": "code",
      "metadata": {
        "id": "qZUoKdl54rI8",
        "colab_type": "code",
        "colab": {
          "base_uri": "https://localhost:8080/",
          "height": 136
        },
        "outputId": "78afdb19-4a7e-4089-cd72-8bc1a115ce42"
      },
      "source": [
        "print(\"reasembling the un-normalised test sets\")\n",
        "\n",
        "y_train1  = ((y_train1norm.copy() * (maxy - miny + 1)) + miny -1)\n",
        "\n",
        "\n",
        "y_train2 = ((y_train2norm.copy() * (maxy - miny + 1)) + miny -1)\n",
        "y_test2 = ((y_test2norm.copy() * (maxy - miny + 1)) + miny -1)\n",
        "\n",
        "y_train3 = ((y_train3norm.copy() * (maxy - miny + 1)) + miny -1)\n",
        "y_test3 = ((y_test3norm.copy() * (maxy - miny + 1)) + miny -1)\n",
        "\n",
        "print ('y_train1 after  : ', y_train1.shape)\n",
        "\n",
        "print ('y_train2 after  : ', y_train2.shape)\n",
        "print ('y_test2 after  : ', y_test2.shape)\n",
        "\n",
        "\n",
        "print ('y_train3 after  : ', y_train3.shape)\n",
        "print ('y_test3 after  : ', y_test3.shape)\n",
        "\n",
        "print(dt.now())"
      ],
      "execution_count": 51,
      "outputs": [
        {
          "output_type": "stream",
          "text": [
            "reasembling the un-normalised test sets\n",
            "y_train1 after  :  (1048574,)\n",
            "y_train2 after  :  (838859,)\n",
            "y_test2 after  :  (209715,)\n",
            "y_train3 after  :  (838859,)\n",
            "y_test3 after  :  (209715,)\n",
            "2020-07-28 17:30:11.607199\n"
          ],
          "name": "stdout"
        }
      ]
    },
    {
      "cell_type": "code",
      "metadata": {
        "id": "1CiBychY5uLj",
        "colab_type": "code",
        "colab": {}
      },
      "source": [
        "# run before from here to set up data"
      ],
      "execution_count": null,
      "outputs": []
    },
    {
      "cell_type": "code",
      "metadata": {
        "id": "eZMJtfozxxwD",
        "colab_type": "code",
        "colab": {
          "base_uri": "https://localhost:8080/",
          "height": 34
        },
        "outputId": "537ca90e-54aa-4592-e909-42b68acd32dc"
      },
      "source": [
        "# create the model using the available data : \n",
        "\n",
        "# Currently 6 : \n",
        "# InstanceEnc \n",
        "# YearEnc \n",
        "# HousingEnc\n",
        "# WorkExpEnc\n",
        "# SatisfactionEnc\n",
        "# GenderEnc\n",
        "\n",
        "modelwidth = 20\n",
        "\n",
        "k1model = Sequential()\n",
        "k1model.add(Dense(units=modelwidth, activation='elu', input_dim=6))\n",
        "k1model.add(Dense(units=modelwidth, activation='relu'))\n",
        "k1model.add(Dense(units=modelwidth, activation='softmax'))\n",
        "k1model.add(Dense(units=1, activation=\"linear\"))\n",
        "k1model.compile(loss=\"mse\", optimizer=Adam(lr=1e-4, decay=1e-4 / 200))\n",
        "\n",
        "\n",
        "k2model = Sequential()\n",
        "k2model.add(Dense(units=modelwidth, activation='elu', input_dim=6))\n",
        "k2model.add(Dense(units=modelwidth, activation='relu'))\n",
        "k2model.add(Dense(units=modelwidth, activation='softmax'))\n",
        "k2model.add(Dense(units=1, activation=\"linear\"))\n",
        "k2model.compile(loss=\"mse\", optimizer=Adam(lr=1e-4, decay=1e-4 / 200))\n",
        "\n",
        "k3model = Sequential()\n",
        "k3model.add(Dense(units=modelwidth, activation='elu', input_dim=6))\n",
        "k3model.add(Dense(units=modelwidth, activation='relu'))\n",
        "k3model.add(Dense(units=modelwidth, activation='softmax'))\n",
        "k3model.add(Dense(units=1, activation=\"linear\"))\n",
        "k3model.compile(loss=\"mse\", optimizer=Adam(lr=1e-4, decay=1e-4 / 200))\n",
        "\n",
        "print(dt.now())"
      ],
      "execution_count": 52,
      "outputs": [
        {
          "output_type": "stream",
          "text": [
            "2020-07-28 17:30:34.406803\n"
          ],
          "name": "stdout"
        }
      ]
    },
    {
      "cell_type": "code",
      "metadata": {
        "id": "cxg0KCIn5p8y",
        "colab_type": "code",
        "colab": {}
      },
      "source": [
        "# run before here to complete data setup and model compilaton"
      ],
      "execution_count": null,
      "outputs": []
    },
    {
      "cell_type": "code",
      "metadata": {
        "id": "hnOTldgN5hPY",
        "colab_type": "code",
        "colab": {
          "base_uri": "https://localhost:8080/",
          "height": 425
        },
        "outputId": "c5b50dc6-6843-4308-ab0a-fc3df1123a1b"
      },
      "source": [
        "print(dt.now())\n",
        "\n",
        "pred_bat_sz = 32768\n",
        "\n",
        "epcs = 19     # number of measurement cycles \n",
        "mini_epcs = 2   # number of actual epochs pers measurement cycle\n",
        "# actual number of epochs is the product of these two\n",
        "\n",
        "big_bat_sz = 512\n",
        "nudge_bat_sz = 8\n",
        "# nudges = [100,200,300,400,500,600,700,800,900]\n",
        "# nudges = [10,20,30,40,50,60,70,80,90,100,110,120,130]\n",
        "nudges = [10,20,30,40,50,60,70,80,90]\n",
        "# nudges = [10,20,30,40]\n",
        "\n",
        "rmsetrain1 = np.zeros(epcs)\n",
        "rmsetrain2 = np.zeros(epcs)\n",
        "rmsetest2  = np.zeros(epcs)\n",
        "rmsetrain3 = np.zeros(epcs)\n",
        "rmsetest3  = np.zeros(epcs)\n",
        "\n",
        "print ( 'Epochs =', epcs*mini_epcs, '   Batch Size =', big_bat_sz, '   Measurement Cycles =',epcs)\n",
        "print ( 'Nudges at Epochs :', nudges , '   Nudge Batch Size =', nudge_bat_sz )\n",
        "\n",
        "for i in range (epcs) :\n",
        "\n",
        "  if i in nudges :\n",
        "    bat_sz = nudge_bat_sz\n",
        "    print(\"-- nudge --\")\n",
        "  else : \n",
        "    bat_sz = big_bat_sz\n",
        "\n",
        "  k3model.fit(X_train3, y_train3norm, epochs=mini_epcs, batch_size=bat_sz, verbose=0)\n",
        "\n",
        "  ypred3norm = k3model.predict(X_train3, batch_size=pred_bat_sz)\n",
        "  ypred3 = ((ypred3norm.copy() * (maxy - miny + 1)) + miny -1)\n",
        "  ktrain3RMS = sqrt ( mean_squared_error(y_train3, ypred3))\n",
        "\n",
        "  ytestpred3norm = k3model.predict(X_test3, batch_size=bat_sz)\n",
        "  ytestpred3 = ((ytestpred3norm.copy() * (maxy - miny + 1)) + miny -1)\n",
        "  ktest3RMS = sqrt ( mean_squared_error(y_test3, ytestpred3))\n",
        "  # print (' 80-20 split :  RMSE-Train ', ktrain3RMS, ' RMSE_Test ', ktest3RMS)\n",
        "\n",
        "  k2model.fit(X_train2, y_train2norm, epochs=mini_epcs, batch_size=bat_sz, verbose=0)\n",
        "\n",
        "  ypred2norm = k2model.predict(X_train2, batch_size=pred_bat_sz)\n",
        "  ypred2 = ((ypred2norm.copy() * (maxy - miny + 1)) + miny -1)\n",
        "  ktrain2RMS = sqrt ( mean_squared_error(y_train2, ypred2))\n",
        "\n",
        "  ytestpred2norm = k2model.predict(X_test2, batch_size=bat_sz)\n",
        "  ytestpred2 = ((ytestpred2norm.copy() * (maxy - miny + 1)) + miny -1)\n",
        "  ktest2RMS = sqrt ( mean_squared_error(y_test2, ytestpred2))\n",
        "  # print (' 88-12 split :  RMSE-Train ', ktrain2RMS, ' RMSE_Test ', ktest2RMS)\n",
        "\n",
        "  k1model.fit(X_train1, y_train1norm, epochs=mini_epcs, batch_size=bat_sz, verbose=0)\n",
        "\n",
        "  ypred1norm = k1model.predict(X_train1, batch_size=pred_bat_sz)\n",
        "  ypred1 = ((ypred1norm.copy() * (maxy - miny + 1)) + miny -1)\n",
        "  ktrain1RMS = sqrt ( mean_squared_error(y_train1, ypred1))\n",
        "  # print (' 100% train :  RMSE-Train ', ktrain1RMS)\n",
        "\n",
        "  rmsetrain1[i] = ktrain1RMS\n",
        "  rmsetrain2[i] = ktrain2RMS\n",
        "  rmsetest2[i]  = ktest2RMS\n",
        "  rmsetrain3[i] = ktrain3RMS\n",
        "  rmsetest3[i]  = ktest3RMS\n",
        "\n",
        "  print (i, dt.now(),\n",
        "         '  100% train :  RMSE-Train ', int(ktrain1RMS), \n",
        "         ' 80-20 split :  RMSE-Train ', int(ktrain2RMS), \n",
        "         ' RMSE_Test ', int(ktest2RMS), \n",
        "         ' 80-20 -2 split :  RMSE-Train ', int(ktrain3RMS), \n",
        "         ' RMSE_Test ', int(ktest3RMS),\n",
        "         '  ', int(ktrain1RMS) - int(rmsetrain1[0]),\n",
        "         '    ', int(ktrain2RMS) - int(rmsetrain2[0]),\n",
        "         ' ', int(ktest2RMS) - int(rmsetest2[0]),                      \n",
        "         '    ', int(ktrain3RMS) - int(rmsetrain3[0]),\n",
        "         ' ', int(ktest3RMS) - int(rmsetest3[0]) ) \n",
        "  \n",
        " \n",
        "\n",
        "  # END for\n",
        "\n",
        "print(dt.now())"
      ],
      "execution_count": 63,
      "outputs": [
        {
          "output_type": "stream",
          "text": [
            "2020-07-28 22:30:06.152201\n",
            "Epochs = 38    Batch Size = 512    Measurement Cycles = 19\n",
            "Nudges at Epochs : [10, 20, 30, 40, 50, 60, 70, 80, 90]    Nudge Batch Size = 8\n",
            "0 2020-07-28 22:30:27.830852   100% train :  RMSE-Train  48993  80-20 split :  RMSE-Train  48847  RMSE_Test  49069  80-20 -2 split :  RMSE-Train  48064  RMSE_Test  48149    0      0   0      0   0\n",
            "1 2020-07-28 22:30:48.355623   100% train :  RMSE-Train  48826  80-20 split :  RMSE-Train  48786  RMSE_Test  48991  80-20 -2 split :  RMSE-Train  48102  RMSE_Test  48190    -167      -61   -78      38   41\n",
            "2 2020-07-28 22:31:09.727372   100% train :  RMSE-Train  48852  80-20 split :  RMSE-Train  48764  RMSE_Test  48967  80-20 -2 split :  RMSE-Train  48085  RMSE_Test  48187    -141      -83   -102      21   38\n",
            "3 2020-07-28 22:31:30.466161   100% train :  RMSE-Train  48859  80-20 split :  RMSE-Train  48767  RMSE_Test  48973  80-20 -2 split :  RMSE-Train  48079  RMSE_Test  48155    -134      -80   -96      15   6\n",
            "4 2020-07-28 22:31:51.486597   100% train :  RMSE-Train  48843  80-20 split :  RMSE-Train  48769  RMSE_Test  48988  80-20 -2 split :  RMSE-Train  48061  RMSE_Test  48165    -150      -78   -81      -3   16\n",
            "5 2020-07-28 22:32:13.210770   100% train :  RMSE-Train  48828  80-20 split :  RMSE-Train  48750  RMSE_Test  48972  80-20 -2 split :  RMSE-Train  48044  RMSE_Test  48142    -165      -97   -97      -20   -7\n",
            "6 2020-07-28 22:32:33.960415   100% train :  RMSE-Train  48817  80-20 split :  RMSE-Train  48786  RMSE_Test  49000  80-20 -2 split :  RMSE-Train  48082  RMSE_Test  48175    -176      -61   -69      18   26\n",
            "7 2020-07-28 22:32:54.774671   100% train :  RMSE-Train  48827  80-20 split :  RMSE-Train  48734  RMSE_Test  48949  80-20 -2 split :  RMSE-Train  48046  RMSE_Test  48134    -166      -113   -120      -18   -15\n",
            "8 2020-07-28 22:33:14.970823   100% train :  RMSE-Train  48890  80-20 split :  RMSE-Train  48778  RMSE_Test  48998  80-20 -2 split :  RMSE-Train  48056  RMSE_Test  48145    -103      -69   -71      -8   -4\n",
            "9 2020-07-28 22:33:35.251372   100% train :  RMSE-Train  48851  80-20 split :  RMSE-Train  48748  RMSE_Test  48977  80-20 -2 split :  RMSE-Train  48055  RMSE_Test  48158    -142      -99   -92      -9   9\n",
            "-- nudge --\n",
            "10 2020-07-28 22:45:17.447984   100% train :  RMSE-Train  48940  80-20 split :  RMSE-Train  49075  RMSE_Test  49340  80-20 -2 split :  RMSE-Train  48192  RMSE_Test  48319    -53      228   271      128   170\n",
            "11 2020-07-28 22:45:37.559035   100% train :  RMSE-Train  48823  80-20 split :  RMSE-Train  48701  RMSE_Test  48922  80-20 -2 split :  RMSE-Train  48140  RMSE_Test  48255    -170      -146   -147      76   106\n",
            "12 2020-07-28 22:45:58.774680   100% train :  RMSE-Train  48818  80-20 split :  RMSE-Train  48693  RMSE_Test  48907  80-20 -2 split :  RMSE-Train  48116  RMSE_Test  48214    -175      -154   -162      52   65\n",
            "13 2020-07-28 22:46:18.961150   100% train :  RMSE-Train  48818  80-20 split :  RMSE-Train  48682  RMSE_Test  48906  80-20 -2 split :  RMSE-Train  48098  RMSE_Test  48202    -175      -165   -163      34   53\n",
            "14 2020-07-28 22:46:38.661514   100% train :  RMSE-Train  48835  80-20 split :  RMSE-Train  48735  RMSE_Test  48961  80-20 -2 split :  RMSE-Train  48078  RMSE_Test  48181    -158      -112   -108      14   32\n",
            "15 2020-07-28 22:46:58.734691   100% train :  RMSE-Train  48824  80-20 split :  RMSE-Train  48684  RMSE_Test  48911  80-20 -2 split :  RMSE-Train  48044  RMSE_Test  48139    -169      -163   -158      -20   -10\n",
            "16 2020-07-28 22:47:18.501639   100% train :  RMSE-Train  48841  80-20 split :  RMSE-Train  48712  RMSE_Test  48925  80-20 -2 split :  RMSE-Train  48062  RMSE_Test  48166    -152      -135   -144      -2   17\n",
            "17 2020-07-28 22:47:39.015828   100% train :  RMSE-Train  48807  80-20 split :  RMSE-Train  48755  RMSE_Test  48953  80-20 -2 split :  RMSE-Train  48031  RMSE_Test  48130    -186      -92   -116      -33   -19\n",
            "18 2020-07-28 22:47:58.621942   100% train :  RMSE-Train  48862  80-20 split :  RMSE-Train  48696  RMSE_Test  48918  80-20 -2 split :  RMSE-Train  48057  RMSE_Test  48160    -131      -151   -151      -7   11\n",
            "2020-07-28 22:47:58.624753\n"
          ],
          "name": "stdout"
        }
      ]
    },
    {
      "cell_type": "code",
      "metadata": {
        "id": "oebA0uKz6Hiy",
        "colab_type": "code",
        "colab": {
          "base_uri": "https://localhost:8080/",
          "height": 823
        },
        "outputId": "9ce8291b-c04a-4812-f5f5-97844f20ce13"
      },
      "source": [
        "x = range(epcs)\n",
        "\n",
        "hline1value = 50000\n",
        "hline2value = 49000\n",
        "hline3value = 49500\n",
        "hline1 = np.zeros(epcs)\n",
        "hline1 = hline1 + hline1value\n",
        "hline2 = np.zeros(epcs)\n",
        "hline2 = hline2 + hline2value\n",
        "hline3 = np.zeros(epcs)\n",
        "hline3 = hline3 + hline3value\n",
        "plt.figure(figsize=(24,12), dpi=80)  \n",
        "plt.plot (x, rmsetrain3, color='cyan',  label=\"train 3 -  80B%\",linewidth=0.5)\n",
        "plt.plot (x, rmsetrain2, color='pink',  label=\"train 2 -  80%\",linewidth=0.5)\n",
        "plt.plot (x, rmsetrain1, color='green', label=\"train 1 - 100%\",linewidth=0.5)\n",
        "plt.plot (x, rmsetest3, color='blue',  label=\"test 3 - 80B%\",linewidth=0.5)\n",
        "plt.plot (x, rmsetest2, color='red',   label=\"test 2 - 80%\",linewidth=0.5)\n",
        "plt.plot (x, hline1, color='grey', label = str(hline1value),linewidth=0.5)\n",
        "plt.plot (x, hline2, color='grey', label = str(hline2value),linewidth=0.5)\n",
        "plt.plot (x, hline3, color='black', label = str(hline3value),linewidth=0.5)\n",
        "plt.legend();\n",
        "plt.title(\"2 : Looking for overfitting point   batch= \" + str(bat_sz) + \"   epochs= \" + str(epcs*mini_epcs) + \"  (\" + str(mini_epcs) + \" per iteration)\")\n",
        "plt.xlabel(\"model iterations\")\n",
        "plt.ylabel(\"Root Mean Square Error\")"
      ],
      "execution_count": 54,
      "outputs": [
        {
          "output_type": "execute_result",
          "data": {
            "text/plain": [
              "Text(0, 0.5, 'Root Mean Square Error')"
            ]
          },
          "metadata": {
            "tags": []
          },
          "execution_count": 54
        },
        {
          "output_type": "display_data",
          "data": {
            "image/png": "[encoded data removed]",
            "text/plain": [
              "<Figure size 1920x960 with 1 Axes>"
            ]
          },
          "metadata": {
            "tags": [],
            "needs_background": "light"
          }
        }
      ]
    },
    {
      "cell_type": "code",
      "metadata": {
        "id": "f91QD_KOAEqz",
        "colab_type": "code",
        "colab": {
          "base_uri": "https://localhost:8080/",
          "height": 823
        },
        "outputId": "25f9a801-f5c7-4c68-f743-81e9522bb60d"
      },
      "source": [
        "x = range(epcs)\n",
        "\n",
        "hline1value = 50000\n",
        "hline2value = 49000\n",
        "hline3value = 49500\n",
        "hline1 = np.zeros(epcs)\n",
        "hline1 = hline1 + hline1value\n",
        "hline2 = np.zeros(epcs)\n",
        "hline2 = hline2 + hline2value\n",
        "hline3 = np.zeros(epcs)\n",
        "hline3 = hline3 + hline3value\n",
        "plt.figure(figsize=(24,12), dpi=80)  \n",
        "plt.plot (x, rmsetrain3, color='cyan',  label=\"train 3 -  80B%\",linewidth=0.5)\n",
        "plt.plot (x, rmsetrain2, color='pink',  label=\"train 2 -  80%\",linewidth=0.5)\n",
        "plt.plot (x, rmsetrain1, color='green', label=\"train 1 - 100%\",linewidth=0.5)\n",
        "plt.plot (x, rmsetest3, color='blue',  label=\"test 3 - 80B%\",linewidth=0.5)\n",
        "plt.plot (x, rmsetest2, color='red',   label=\"test 2 - 80%\",linewidth=0.5)\n",
        "plt.plot (x, hline1, color='grey', label = str(hline1value),linewidth=0.5)\n",
        "plt.plot (x, hline2, color='grey', label = str(hline2value),linewidth=0.5)\n",
        "plt.plot (x, hline3, color='black', label = str(hline3value),linewidth=0.5)\n",
        "plt.legend();\n",
        "plt.title(\"2 : Looking for overfitting point   batch= \" + str(bat_sz) + \"   epochs= \" + str(epcs*mini_epcs) + \"  (\" + str(mini_epcs) + \" per iteration)\")\n",
        "plt.xlabel(\"model iterations\")\n",
        "plt.ylabel(\"Root Mean Square Error\")"
      ],
      "execution_count": 56,
      "outputs": [
        {
          "output_type": "execute_result",
          "data": {
            "text/plain": [
              "Text(0, 0.5, 'Root Mean Square Error')"
            ]
          },
          "metadata": {
            "tags": []
          },
          "execution_count": 56
        },
        {
          "output_type": "display_data",
          "data": {
            "image/png": "[encoded data removed]",
            "text/plain": [
              "<Figure size 1920x960 with 1 Axes>"
            ]
          },
          "metadata": {
            "tags": [],
            "needs_background": "light"
          }
        }
      ]
    },
    {
      "cell_type": "code",
      "metadata": {
        "id": "mBzhH4T9aV7T",
        "colab_type": "code",
        "colab": {
          "base_uri": "https://localhost:8080/",
          "height": 823
        },
        "outputId": "f9963ebe-0c20-4a43-a080-34f0bdce0240"
      },
      "source": [
        "x = range(epcs)\n",
        "\n",
        "hline1value = 49500\n",
        "hline2value = 48500\n",
        "hline3value = 49000\n",
        "hline1 = np.zeros(epcs)\n",
        "hline1 = hline1 + hline1value\n",
        "hline2 = np.zeros(epcs)\n",
        "hline2 = hline2 + hline2value\n",
        "hline3 = np.zeros(epcs)\n",
        "hline3 = hline3 + hline3value\n",
        "plt.figure(figsize=(24,12), dpi=80)  \n",
        "plt.plot (x, rmsetrain3, color='cyan',  label=\"train 3 -  80B%\",linewidth=0.5)\n",
        "plt.plot (x, rmsetrain2, color='pink',  label=\"train 2 -  80%\",linewidth=0.5)\n",
        "plt.plot (x, rmsetrain1, color='green', label=\"train 1 - 100%\",linewidth=0.5)\n",
        "plt.plot (x, rmsetest3, color='blue',  label=\"test 3 - 80B%\",linewidth=0.5)\n",
        "plt.plot (x, rmsetest2, color='red',   label=\"test 2 - 80%\",linewidth=0.5)\n",
        "plt.plot (x, hline1, color='grey', label = str(hline1value),linewidth=0.5)\n",
        "plt.plot (x, hline2, color='grey', label = str(hline2value),linewidth=0.5)\n",
        "plt.plot (x, hline3, color='black', label = str(hline3value),linewidth=0.5)\n",
        "plt.legend();\n",
        "plt.title(\"2 : Looking for overfitting point   batch= \" + str(bat_sz) + \"   epochs= \" + str(epcs*mini_epcs) + \"  (\" + str(mini_epcs) + \" per iteration)\")\n",
        "plt.xlabel(\"model iterations\")\n",
        "plt.ylabel(\"Root Mean Square Error\")"
      ],
      "execution_count": 58,
      "outputs": [
        {
          "output_type": "execute_result",
          "data": {
            "text/plain": [
              "Text(0, 0.5, 'Root Mean Square Error')"
            ]
          },
          "metadata": {
            "tags": []
          },
          "execution_count": 58
        },
        {
          "output_type": "display_data",
          "data": {
            "image/png": "[encoded data removed]",
            "text/plain": [
              "<Figure size 1920x960 with 1 Axes>"
            ]
          },
          "metadata": {
            "tags": [],
            "needs_background": "light"
          }
        }
      ]
    },
    {
      "cell_type": "code",
      "metadata": {
        "id": "jCfFP47qEluD",
        "colab_type": "code",
        "colab": {
          "base_uri": "https://localhost:8080/",
          "height": 823
        },
        "outputId": "061c2860-7d0c-4a9f-8390-694e9e82caa5"
      },
      "source": [
        "x = range(epcs)\n",
        "\n",
        "hline1value = 49000\n",
        "hline2value = 48000\n",
        "hline3value = 48500\n",
        "hline1 = np.zeros(epcs)\n",
        "hline1 = hline1 + hline1value\n",
        "hline2 = np.zeros(epcs)\n",
        "hline2 = hline2 + hline2value\n",
        "hline3 = np.zeros(epcs)\n",
        "hline3 = hline3 + hline3value\n",
        "plt.figure(figsize=(24,12), dpi=80)  \n",
        "plt.plot (x, rmsetrain3, color='cyan',  label=\"train 3 -  80B%\",linewidth=0.5)\n",
        "plt.plot (x, rmsetrain2, color='pink',  label=\"train 2 -  80%\",linewidth=0.5)\n",
        "plt.plot (x, rmsetrain1, color='green', label=\"train 1 - 100%\",linewidth=0.5)\n",
        "plt.plot (x, rmsetest3, color='blue',  label=\"test 3 - 80B%\",linewidth=0.5)\n",
        "plt.plot (x, rmsetest2, color='red',   label=\"test 2 - 80%\",linewidth=0.5)\n",
        "plt.plot (x, hline1, color='grey', label = str(hline1value),linewidth=0.5)\n",
        "plt.plot (x, hline2, color='grey', label = str(hline2value),linewidth=0.5)\n",
        "plt.plot (x, hline3, color='black', label = str(hline3value),linewidth=0.5)\n",
        "plt.legend();\n",
        "plt.title(\"2 : Looking for overfitting point   batch= \" + str(bat_sz) + \"   epochs= \" + str(epcs*mini_epcs) + \"  (\" + str(mini_epcs) + \" per iteration)\")\n",
        "plt.xlabel(\"model iterations\")\n",
        "plt.ylabel(\"Root Mean Square Error\")"
      ],
      "execution_count": 64,
      "outputs": [
        {
          "output_type": "execute_result",
          "data": {
            "text/plain": [
              "Text(0, 0.5, 'Root Mean Square Error')"
            ]
          },
          "metadata": {
            "tags": []
          },
          "execution_count": 64
        },
        {
          "output_type": "display_data",
          "data": {
            "image/png": "[encoded data removed]",
            "text/plain": [
              "<Figure size 1920x960 with 1 Axes>"
            ]
          },
          "metadata": {
            "tags": [],
            "needs_background": "light"
          }
        }
      ]
    },
    {
      "cell_type": "code",
      "metadata": {
        "id": "QBOhMi1ll0Vc",
        "colab_type": "code",
        "colab": {}
      },
      "source": [
        "steps = [3,7]\n",
        "\n",
        "for i in range (10) :\n",
        "  print (i,)\n",
        "  if i in steps :\n",
        "    print (\" This is a step.\")\n",
        "  else : \n",
        "    print (\".\")\n",
        "    "
      ],
      "execution_count": null,
      "outputs": []
    }
  ]
}
